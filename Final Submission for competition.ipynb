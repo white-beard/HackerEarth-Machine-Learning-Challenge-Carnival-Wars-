{
  "nbformat": 4,
  "nbformat_minor": 0,
  "metadata": {
    "colab": {
      "name": "Carnival Wars hackerearth ml challenge.ipynb",
      "provenance": [],
      "collapsed_sections": []
    },
    "kernelspec": {
      "name": "python3",
      "display_name": "Python 3"
    }
  },
  "cells": [
    {
      "cell_type": "markdown",
      "metadata": {
        "id": "I9r4XlBOn1sn"
      },
      "source": [
        "### Importing Modules"
      ]
    },
    {
      "cell_type": "code",
      "metadata": {
        "id": "q0KeA6IFnD5z"
      },
      "source": [
        "import numpy as np\n",
        "import pandas as pd\n",
        "import datetime\n",
        "import matplotlib.pyplot as plt\n",
        "import seaborn as sns\n",
        "from sklearn.model_selection import train_test_split\n",
        "from sklearn.metrics import mean_squared_error\n",
        "from sklearn import datasets, linear_model, metrics\n",
        "from sklearn.feature_selection import RFE\n",
        "from sklearn.model_selection import cross_val_score\n",
        "from sklearn.model_selection import KFold\n",
        "from sklearn.pipeline import Pipeline\n",
        "from sklearn.preprocessing import StandardScaler\n"
      ],
      "execution_count": 48,
      "outputs": []
    },
    {
      "cell_type": "markdown",
      "metadata": {
        "id": "7xxHXiMRn_F4"
      },
      "source": [
        "### Loading the dataset"
      ]
    },
    {
      "cell_type": "code",
      "metadata": {
        "id": "Jq7B9KrinfYJ"
      },
      "source": [
        "train = pd.read_csv(\"/content/train.csv\")\n",
        "test = pd.read_csv('/content/test.csv')"
      ],
      "execution_count": 2,
      "outputs": []
    },
    {
      "cell_type": "code",
      "metadata": {
        "colab": {
          "base_uri": "https://localhost:8080/",
          "height": 322
        },
        "id": "XJmmfLq8nxLq",
        "outputId": "150bc38b-f409-42df-b1c7-132632e04f4c"
      },
      "source": [
        "train.head()"
      ],
      "execution_count": 3,
      "outputs": [
        {
          "output_type": "execute_result",
          "data": {
            "text/html": [
              "<div>\n",
              "<style scoped>\n",
              "    .dataframe tbody tr th:only-of-type {\n",
              "        vertical-align: middle;\n",
              "    }\n",
              "\n",
              "    .dataframe tbody tr th {\n",
              "        vertical-align: top;\n",
              "    }\n",
              "\n",
              "    .dataframe thead th {\n",
              "        text-align: right;\n",
              "    }\n",
              "</style>\n",
              "<table border=\"1\" class=\"dataframe\">\n",
              "  <thead>\n",
              "    <tr style=\"text-align: right;\">\n",
              "      <th></th>\n",
              "      <th>Product_id</th>\n",
              "      <th>Stall_no</th>\n",
              "      <th>instock_date</th>\n",
              "      <th>Market_Category</th>\n",
              "      <th>Customer_name</th>\n",
              "      <th>Loyalty_customer</th>\n",
              "      <th>Product_Category</th>\n",
              "      <th>Grade</th>\n",
              "      <th>Demand</th>\n",
              "      <th>Discount_avail</th>\n",
              "      <th>charges_1</th>\n",
              "      <th>charges_2 (%)</th>\n",
              "      <th>Minimum_price</th>\n",
              "      <th>Maximum_price</th>\n",
              "      <th>Selling_Price</th>\n",
              "    </tr>\n",
              "  </thead>\n",
              "  <tbody>\n",
              "    <tr>\n",
              "      <th>0</th>\n",
              "      <td>BRAE2NF6JA5GUEXG</td>\n",
              "      <td>37.0</td>\n",
              "      <td>2015-08-22 18:36:12.000</td>\n",
              "      <td>2</td>\n",
              "      <td>Lillyann</td>\n",
              "      <td>Yes</td>\n",
              "      <td>Fashion</td>\n",
              "      <td>1</td>\n",
              "      <td>68</td>\n",
              "      <td>0.0</td>\n",
              "      <td>376.0</td>\n",
              "      <td>11.0</td>\n",
              "      <td>2983.0</td>\n",
              "      <td>4713.0</td>\n",
              "      <td>4185.947700</td>\n",
              "    </tr>\n",
              "    <tr>\n",
              "      <th>1</th>\n",
              "      <td>TUNE8SFB6RJN2HSD</td>\n",
              "      <td>38.0</td>\n",
              "      <td>2016-03-27 21:19:13.000</td>\n",
              "      <td>24</td>\n",
              "      <td>Klynn</td>\n",
              "      <td>Yes</td>\n",
              "      <td>Fashion</td>\n",
              "      <td>0</td>\n",
              "      <td>51</td>\n",
              "      <td>0.0</td>\n",
              "      <td>397.0</td>\n",
              "      <td>12.0</td>\n",
              "      <td>7495.0</td>\n",
              "      <td>10352.0</td>\n",
              "      <td>9271.490256</td>\n",
              "    </tr>\n",
              "    <tr>\n",
              "      <th>2</th>\n",
              "      <td>BRAEAR7WZPQGPBZU</td>\n",
              "      <td>9.0</td>\n",
              "      <td>2015-08-18 19:25:22.000</td>\n",
              "      <td>447</td>\n",
              "      <td>Ridge</td>\n",
              "      <td>Yes</td>\n",
              "      <td>Child_care</td>\n",
              "      <td>0</td>\n",
              "      <td>10</td>\n",
              "      <td>0.0</td>\n",
              "      <td>250.0</td>\n",
              "      <td>9.0</td>\n",
              "      <td>5752.0</td>\n",
              "      <td>7309.0</td>\n",
              "      <td>6785.701362</td>\n",
              "    </tr>\n",
              "    <tr>\n",
              "      <th>3</th>\n",
              "      <td>WATDZ2ZQ8JPDHCTJ</td>\n",
              "      <td>50.0</td>\n",
              "      <td>2016-03-28 21:53:01.000</td>\n",
              "      <td>23</td>\n",
              "      <td>Abran</td>\n",
              "      <td>Yes</td>\n",
              "      <td>Educational</td>\n",
              "      <td>2</td>\n",
              "      <td>48</td>\n",
              "      <td>0.0</td>\n",
              "      <td>144.0</td>\n",
              "      <td>13.0</td>\n",
              "      <td>5090.0</td>\n",
              "      <td>20814.0</td>\n",
              "      <td>13028.917824</td>\n",
              "    </tr>\n",
              "    <tr>\n",
              "      <th>4</th>\n",
              "      <td>JWSEBUKYQPMBZ3RK</td>\n",
              "      <td>7.0</td>\n",
              "      <td>2016-03-29 22:58:53.000</td>\n",
              "      <td>63</td>\n",
              "      <td>Dustyn</td>\n",
              "      <td>Yes</td>\n",
              "      <td>Repair</td>\n",
              "      <td>1</td>\n",
              "      <td>35</td>\n",
              "      <td>1.0</td>\n",
              "      <td>211.0</td>\n",
              "      <td>4.0</td>\n",
              "      <td>2430.0</td>\n",
              "      <td>9261.0</td>\n",
              "      <td>906.553935</td>\n",
              "    </tr>\n",
              "  </tbody>\n",
              "</table>\n",
              "</div>"
            ],
            "text/plain": [
              "         Product_id  Stall_no  ... Maximum_price  Selling_Price\n",
              "0  BRAE2NF6JA5GUEXG      37.0  ...        4713.0    4185.947700\n",
              "1  TUNE8SFB6RJN2HSD      38.0  ...       10352.0    9271.490256\n",
              "2  BRAEAR7WZPQGPBZU       9.0  ...        7309.0    6785.701362\n",
              "3  WATDZ2ZQ8JPDHCTJ      50.0  ...       20814.0   13028.917824\n",
              "4  JWSEBUKYQPMBZ3RK       7.0  ...        9261.0     906.553935\n",
              "\n",
              "[5 rows x 15 columns]"
            ]
          },
          "metadata": {
            "tags": []
          },
          "execution_count": 3
        }
      ]
    },
    {
      "cell_type": "code",
      "metadata": {
        "colab": {
          "base_uri": "https://localhost:8080/"
        },
        "id": "vmBouyp-oQHY",
        "outputId": "d8a54176-3275-4297-8c57-51ce844c31ea"
      },
      "source": [
        "train.dtypes"
      ],
      "execution_count": 4,
      "outputs": [
        {
          "output_type": "execute_result",
          "data": {
            "text/plain": [
              "Product_id           object\n",
              "Stall_no            float64\n",
              "instock_date         object\n",
              "Market_Category       int64\n",
              "Customer_name        object\n",
              "Loyalty_customer     object\n",
              "Product_Category     object\n",
              "Grade                 int64\n",
              "Demand                int64\n",
              "Discount_avail      float64\n",
              "charges_1           float64\n",
              "charges_2 (%)       float64\n",
              "Minimum_price       float64\n",
              "Maximum_price       float64\n",
              "Selling_Price       float64\n",
              "dtype: object"
            ]
          },
          "metadata": {
            "tags": []
          },
          "execution_count": 4
        }
      ]
    },
    {
      "cell_type": "markdown",
      "metadata": {
        "id": "kRX0DIYJt8Vl"
      },
      "source": [
        "#### New Features using datetime from 'instock_date'"
      ]
    },
    {
      "cell_type": "code",
      "metadata": {
        "id": "HOScvy7tqc-7"
      },
      "source": [
        "# For train data\n",
        "train['instock_date']= pd.to_datetime(train['instock_date'])\n",
        "train['year'] = train['instock_date'].dt.year\n",
        "train['month'] =  train['instock_date'].dt.month\n",
        "train['quarter'] = train['instock_date'].dt.quarter\n",
        "train['day of the week'] = train['instock_date'].dt.dayofweek # Monday = 0 & Sunday = 6\n",
        "train['Dayofyear'] = train['instock_date'].dt.dayofyear\n",
        "train[\"hour\"] = train['instock_date'].dt.hour\n"
      ],
      "execution_count": 5,
      "outputs": []
    },
    {
      "cell_type": "code",
      "metadata": {
        "id": "v4Yq3vByvGIs"
      },
      "source": [
        "# For test data\n",
        "test['instock_date']= pd.to_datetime(test['instock_date'])\n",
        "test['year'] = test['instock_date'].dt.year\n",
        "test['month'] =  test['instock_date'].dt.month\n",
        "test['quarter'] = test['instock_date'].dt.quarter\n",
        "test['day of the week'] = test['instock_date'].dt.dayofweek # Monday = 0 & Sunday = 6\n",
        "test['Dayofyear'] = test['instock_date'].dt.dayofyear\n",
        "test[\"hour\"] = test['instock_date'].dt.hour"
      ],
      "execution_count": 6,
      "outputs": []
    },
    {
      "cell_type": "code",
      "metadata": {
        "colab": {
          "base_uri": "https://localhost:8080/",
          "height": 356
        },
        "id": "2JewRI2NsMyH",
        "outputId": "6af0152a-a896-4b97-ffb7-63640d08884d"
      },
      "source": [
        "train.head()"
      ],
      "execution_count": 7,
      "outputs": [
        {
          "output_type": "execute_result",
          "data": {
            "text/html": [
              "<div>\n",
              "<style scoped>\n",
              "    .dataframe tbody tr th:only-of-type {\n",
              "        vertical-align: middle;\n",
              "    }\n",
              "\n",
              "    .dataframe tbody tr th {\n",
              "        vertical-align: top;\n",
              "    }\n",
              "\n",
              "    .dataframe thead th {\n",
              "        text-align: right;\n",
              "    }\n",
              "</style>\n",
              "<table border=\"1\" class=\"dataframe\">\n",
              "  <thead>\n",
              "    <tr style=\"text-align: right;\">\n",
              "      <th></th>\n",
              "      <th>Product_id</th>\n",
              "      <th>Stall_no</th>\n",
              "      <th>instock_date</th>\n",
              "      <th>Market_Category</th>\n",
              "      <th>Customer_name</th>\n",
              "      <th>Loyalty_customer</th>\n",
              "      <th>Product_Category</th>\n",
              "      <th>Grade</th>\n",
              "      <th>Demand</th>\n",
              "      <th>Discount_avail</th>\n",
              "      <th>charges_1</th>\n",
              "      <th>charges_2 (%)</th>\n",
              "      <th>Minimum_price</th>\n",
              "      <th>Maximum_price</th>\n",
              "      <th>Selling_Price</th>\n",
              "      <th>year</th>\n",
              "      <th>month</th>\n",
              "      <th>quarter</th>\n",
              "      <th>day of the week</th>\n",
              "      <th>Dayofyear</th>\n",
              "      <th>hour</th>\n",
              "    </tr>\n",
              "  </thead>\n",
              "  <tbody>\n",
              "    <tr>\n",
              "      <th>0</th>\n",
              "      <td>BRAE2NF6JA5GUEXG</td>\n",
              "      <td>37.0</td>\n",
              "      <td>2015-08-22 18:36:12</td>\n",
              "      <td>2</td>\n",
              "      <td>Lillyann</td>\n",
              "      <td>Yes</td>\n",
              "      <td>Fashion</td>\n",
              "      <td>1</td>\n",
              "      <td>68</td>\n",
              "      <td>0.0</td>\n",
              "      <td>376.0</td>\n",
              "      <td>11.0</td>\n",
              "      <td>2983.0</td>\n",
              "      <td>4713.0</td>\n",
              "      <td>4185.947700</td>\n",
              "      <td>2015</td>\n",
              "      <td>8</td>\n",
              "      <td>3</td>\n",
              "      <td>5</td>\n",
              "      <td>234</td>\n",
              "      <td>18</td>\n",
              "    </tr>\n",
              "    <tr>\n",
              "      <th>1</th>\n",
              "      <td>TUNE8SFB6RJN2HSD</td>\n",
              "      <td>38.0</td>\n",
              "      <td>2016-03-27 21:19:13</td>\n",
              "      <td>24</td>\n",
              "      <td>Klynn</td>\n",
              "      <td>Yes</td>\n",
              "      <td>Fashion</td>\n",
              "      <td>0</td>\n",
              "      <td>51</td>\n",
              "      <td>0.0</td>\n",
              "      <td>397.0</td>\n",
              "      <td>12.0</td>\n",
              "      <td>7495.0</td>\n",
              "      <td>10352.0</td>\n",
              "      <td>9271.490256</td>\n",
              "      <td>2016</td>\n",
              "      <td>3</td>\n",
              "      <td>1</td>\n",
              "      <td>6</td>\n",
              "      <td>87</td>\n",
              "      <td>21</td>\n",
              "    </tr>\n",
              "    <tr>\n",
              "      <th>2</th>\n",
              "      <td>BRAEAR7WZPQGPBZU</td>\n",
              "      <td>9.0</td>\n",
              "      <td>2015-08-18 19:25:22</td>\n",
              "      <td>447</td>\n",
              "      <td>Ridge</td>\n",
              "      <td>Yes</td>\n",
              "      <td>Child_care</td>\n",
              "      <td>0</td>\n",
              "      <td>10</td>\n",
              "      <td>0.0</td>\n",
              "      <td>250.0</td>\n",
              "      <td>9.0</td>\n",
              "      <td>5752.0</td>\n",
              "      <td>7309.0</td>\n",
              "      <td>6785.701362</td>\n",
              "      <td>2015</td>\n",
              "      <td>8</td>\n",
              "      <td>3</td>\n",
              "      <td>1</td>\n",
              "      <td>230</td>\n",
              "      <td>19</td>\n",
              "    </tr>\n",
              "    <tr>\n",
              "      <th>3</th>\n",
              "      <td>WATDZ2ZQ8JPDHCTJ</td>\n",
              "      <td>50.0</td>\n",
              "      <td>2016-03-28 21:53:01</td>\n",
              "      <td>23</td>\n",
              "      <td>Abran</td>\n",
              "      <td>Yes</td>\n",
              "      <td>Educational</td>\n",
              "      <td>2</td>\n",
              "      <td>48</td>\n",
              "      <td>0.0</td>\n",
              "      <td>144.0</td>\n",
              "      <td>13.0</td>\n",
              "      <td>5090.0</td>\n",
              "      <td>20814.0</td>\n",
              "      <td>13028.917824</td>\n",
              "      <td>2016</td>\n",
              "      <td>3</td>\n",
              "      <td>1</td>\n",
              "      <td>0</td>\n",
              "      <td>88</td>\n",
              "      <td>21</td>\n",
              "    </tr>\n",
              "    <tr>\n",
              "      <th>4</th>\n",
              "      <td>JWSEBUKYQPMBZ3RK</td>\n",
              "      <td>7.0</td>\n",
              "      <td>2016-03-29 22:58:53</td>\n",
              "      <td>63</td>\n",
              "      <td>Dustyn</td>\n",
              "      <td>Yes</td>\n",
              "      <td>Repair</td>\n",
              "      <td>1</td>\n",
              "      <td>35</td>\n",
              "      <td>1.0</td>\n",
              "      <td>211.0</td>\n",
              "      <td>4.0</td>\n",
              "      <td>2430.0</td>\n",
              "      <td>9261.0</td>\n",
              "      <td>906.553935</td>\n",
              "      <td>2016</td>\n",
              "      <td>3</td>\n",
              "      <td>1</td>\n",
              "      <td>1</td>\n",
              "      <td>89</td>\n",
              "      <td>22</td>\n",
              "    </tr>\n",
              "  </tbody>\n",
              "</table>\n",
              "</div>"
            ],
            "text/plain": [
              "         Product_id  Stall_no  ... Dayofyear  hour\n",
              "0  BRAE2NF6JA5GUEXG      37.0  ...       234    18\n",
              "1  TUNE8SFB6RJN2HSD      38.0  ...        87    21\n",
              "2  BRAEAR7WZPQGPBZU       9.0  ...       230    19\n",
              "3  WATDZ2ZQ8JPDHCTJ      50.0  ...        88    21\n",
              "4  JWSEBUKYQPMBZ3RK       7.0  ...        89    22\n",
              "\n",
              "[5 rows x 21 columns]"
            ]
          },
          "metadata": {
            "tags": []
          },
          "execution_count": 7
        }
      ]
    },
    {
      "cell_type": "code",
      "metadata": {
        "colab": {
          "base_uri": "https://localhost:8080/"
        },
        "id": "AEP_gdE8h2kD",
        "outputId": "894c97b3-dee6-44bb-e1e8-94fadf62e3cf"
      },
      "source": [
        "train.shape"
      ],
      "execution_count": 8,
      "outputs": [
        {
          "output_type": "execute_result",
          "data": {
            "text/plain": [
              "(6368, 21)"
            ]
          },
          "metadata": {
            "tags": []
          },
          "execution_count": 8
        }
      ]
    },
    {
      "cell_type": "code",
      "metadata": {
        "colab": {
          "base_uri": "https://localhost:8080/"
        },
        "id": "oj52CtOCu_s8",
        "outputId": "32889ca1-53f7-4168-8bed-1d4a6159d496"
      },
      "source": [
        "train.info()"
      ],
      "execution_count": 9,
      "outputs": [
        {
          "output_type": "stream",
          "text": [
            "<class 'pandas.core.frame.DataFrame'>\n",
            "RangeIndex: 6368 entries, 0 to 6367\n",
            "Data columns (total 21 columns):\n",
            " #   Column            Non-Null Count  Dtype         \n",
            "---  ------            --------------  -----         \n",
            " 0   Product_id        6368 non-null   object        \n",
            " 1   Stall_no          6363 non-null   float64       \n",
            " 2   instock_date      6368 non-null   datetime64[ns]\n",
            " 3   Market_Category   6368 non-null   int64         \n",
            " 4   Customer_name     6157 non-null   object        \n",
            " 5   Loyalty_customer  6368 non-null   object        \n",
            " 6   Product_Category  6368 non-null   object        \n",
            " 7   Grade             6368 non-null   int64         \n",
            " 8   Demand            6368 non-null   int64         \n",
            " 9   Discount_avail    6330 non-null   float64       \n",
            " 10  charges_1         6170 non-null   float64       \n",
            " 11  charges_2 (%)     6163 non-null   float64       \n",
            " 12  Minimum_price     6330 non-null   float64       \n",
            " 13  Maximum_price     6025 non-null   float64       \n",
            " 14  Selling_Price     6327 non-null   float64       \n",
            " 15  year              6368 non-null   int64         \n",
            " 16  month             6368 non-null   int64         \n",
            " 17  quarter           6368 non-null   int64         \n",
            " 18  day of the week   6368 non-null   int64         \n",
            " 19  Dayofyear         6368 non-null   int64         \n",
            " 20  hour              6368 non-null   int64         \n",
            "dtypes: datetime64[ns](1), float64(7), int64(9), object(4)\n",
            "memory usage: 1.0+ MB\n"
          ],
          "name": "stdout"
        }
      ]
    },
    {
      "cell_type": "code",
      "metadata": {
        "colab": {
          "base_uri": "https://localhost:8080/"
        },
        "id": "ucAMbSLawufM",
        "outputId": "7038e119-f7f4-439d-c1a7-c3b1a7e684d8"
      },
      "source": [
        "# Finding number of unique values in each columns\n",
        "for col in train.columns:\n",
        "  print(col,train[col].nunique())"
      ],
      "execution_count": 11,
      "outputs": [
        {
          "output_type": "stream",
          "text": [
            "Product_id 6368\n",
            "Stall_no 50\n",
            "instock_date 5350\n",
            "Market_Category 248\n",
            "Customer_name 5900\n",
            "Loyalty_customer 2\n",
            "Product_Category 10\n",
            "Grade 4\n",
            "Demand 100\n",
            "Discount_avail 2\n",
            "charges_1 487\n",
            "charges_2 (%) 17\n",
            "Minimum_price 4236\n",
            "Maximum_price 4618\n",
            "Selling_Price 6321\n",
            "year 3\n",
            "month 11\n",
            "quarter 4\n",
            "day of the week 7\n",
            "Dayofyear 214\n",
            "hour 24\n"
          ],
          "name": "stdout"
        }
      ]
    },
    {
      "cell_type": "code",
      "metadata": {
        "id": "dgL7zOdKxq6P",
        "colab": {
          "base_uri": "https://localhost:8080/"
        },
        "outputId": "19e948d6-3aaa-4080-d371-56ad9faad3b9"
      },
      "source": [
        "# Finding number of null values in each column\n",
        "train.isnull().sum()\n"
      ],
      "execution_count": 12,
      "outputs": [
        {
          "output_type": "execute_result",
          "data": {
            "text/plain": [
              "Product_id            0\n",
              "Stall_no              5\n",
              "instock_date          0\n",
              "Market_Category       0\n",
              "Customer_name       211\n",
              "Loyalty_customer      0\n",
              "Product_Category      0\n",
              "Grade                 0\n",
              "Demand                0\n",
              "Discount_avail       38\n",
              "charges_1           198\n",
              "charges_2 (%)       205\n",
              "Minimum_price        38\n",
              "Maximum_price       343\n",
              "Selling_Price        41\n",
              "year                  0\n",
              "month                 0\n",
              "quarter               0\n",
              "day of the week       0\n",
              "Dayofyear             0\n",
              "hour                  0\n",
              "dtype: int64"
            ]
          },
          "metadata": {
            "tags": []
          },
          "execution_count": 12
        }
      ]
    },
    {
      "cell_type": "code",
      "metadata": {
        "id": "esDoeojaxh0r"
      },
      "source": [
        "# Excluding rows where train['Selling_Price'] is null\n",
        "train = train[train['Selling_Price'].notna()]\n"
      ],
      "execution_count": 13,
      "outputs": []
    },
    {
      "cell_type": "code",
      "metadata": {
        "id": "sTqnO_WJ2XHU"
      },
      "source": [
        "# Replacing null values in train['Customer_name'] with mode\n",
        "train['Customer_name'] = train['Customer_name'].fillna(train['Customer_name'].mode()[0])\n",
        "\n"
      ],
      "execution_count": 14,
      "outputs": []
    },
    {
      "cell_type": "code",
      "metadata": {
        "id": "vAIJhYnbzww0"
      },
      "source": [
        "# After applying Label Encoding to categorical columns: train['Customer_name'], train['Loyalty_customer'], train['Product_Category']\n",
        "\n",
        "from sklearn import preprocessing \n",
        "label_encoder = preprocessing.LabelEncoder() \n",
        "\n",
        "# Encode labels in column 'Customer_name'. \n",
        "train['Customer_name']= label_encoder.fit_transform(train['Customer_name']) \n",
        "\n",
        "# Encode labels in column 'Loyalty_customer'. \n",
        "train['Loyalty_customer']= label_encoder.fit_transform(train['Loyalty_customer']) \n",
        "\n",
        "# Encode labels in column 'Product_Category'. \n",
        "train['Product_Category']= label_encoder.fit_transform(train['Product_Category']) \n",
        "\n",
        "\n",
        "\n"
      ],
      "execution_count": 15,
      "outputs": []
    },
    {
      "cell_type": "code",
      "metadata": {
        "colab": {
          "base_uri": "https://localhost:8080/",
          "height": 356
        },
        "id": "kDUY_TtK4Wwg",
        "outputId": "a107d56b-5fe2-4717-dff3-e294f9395b79"
      },
      "source": [
        "train.head()"
      ],
      "execution_count": 16,
      "outputs": [
        {
          "output_type": "execute_result",
          "data": {
            "text/html": [
              "<div>\n",
              "<style scoped>\n",
              "    .dataframe tbody tr th:only-of-type {\n",
              "        vertical-align: middle;\n",
              "    }\n",
              "\n",
              "    .dataframe tbody tr th {\n",
              "        vertical-align: top;\n",
              "    }\n",
              "\n",
              "    .dataframe thead th {\n",
              "        text-align: right;\n",
              "    }\n",
              "</style>\n",
              "<table border=\"1\" class=\"dataframe\">\n",
              "  <thead>\n",
              "    <tr style=\"text-align: right;\">\n",
              "      <th></th>\n",
              "      <th>Product_id</th>\n",
              "      <th>Stall_no</th>\n",
              "      <th>instock_date</th>\n",
              "      <th>Market_Category</th>\n",
              "      <th>Customer_name</th>\n",
              "      <th>Loyalty_customer</th>\n",
              "      <th>Product_Category</th>\n",
              "      <th>Grade</th>\n",
              "      <th>Demand</th>\n",
              "      <th>Discount_avail</th>\n",
              "      <th>charges_1</th>\n",
              "      <th>charges_2 (%)</th>\n",
              "      <th>Minimum_price</th>\n",
              "      <th>Maximum_price</th>\n",
              "      <th>Selling_Price</th>\n",
              "      <th>year</th>\n",
              "      <th>month</th>\n",
              "      <th>quarter</th>\n",
              "      <th>day of the week</th>\n",
              "      <th>Dayofyear</th>\n",
              "      <th>hour</th>\n",
              "    </tr>\n",
              "  </thead>\n",
              "  <tbody>\n",
              "    <tr>\n",
              "      <th>0</th>\n",
              "      <td>BRAE2NF6JA5GUEXG</td>\n",
              "      <td>37.0</td>\n",
              "      <td>2015-08-22 18:36:12</td>\n",
              "      <td>2</td>\n",
              "      <td>3706</td>\n",
              "      <td>1</td>\n",
              "      <td>3</td>\n",
              "      <td>1</td>\n",
              "      <td>68</td>\n",
              "      <td>0.0</td>\n",
              "      <td>376.0</td>\n",
              "      <td>11.0</td>\n",
              "      <td>2983.0</td>\n",
              "      <td>4713.0</td>\n",
              "      <td>4185.947700</td>\n",
              "      <td>2015</td>\n",
              "      <td>8</td>\n",
              "      <td>3</td>\n",
              "      <td>5</td>\n",
              "      <td>234</td>\n",
              "      <td>18</td>\n",
              "    </tr>\n",
              "    <tr>\n",
              "      <th>1</th>\n",
              "      <td>TUNE8SFB6RJN2HSD</td>\n",
              "      <td>38.0</td>\n",
              "      <td>2016-03-27 21:19:13</td>\n",
              "      <td>24</td>\n",
              "      <td>3427</td>\n",
              "      <td>1</td>\n",
              "      <td>3</td>\n",
              "      <td>0</td>\n",
              "      <td>51</td>\n",
              "      <td>0.0</td>\n",
              "      <td>397.0</td>\n",
              "      <td>12.0</td>\n",
              "      <td>7495.0</td>\n",
              "      <td>10352.0</td>\n",
              "      <td>9271.490256</td>\n",
              "      <td>2016</td>\n",
              "      <td>3</td>\n",
              "      <td>1</td>\n",
              "      <td>6</td>\n",
              "      <td>87</td>\n",
              "      <td>21</td>\n",
              "    </tr>\n",
              "    <tr>\n",
              "      <th>2</th>\n",
              "      <td>BRAEAR7WZPQGPBZU</td>\n",
              "      <td>9.0</td>\n",
              "      <td>2015-08-18 19:25:22</td>\n",
              "      <td>447</td>\n",
              "      <td>4790</td>\n",
              "      <td>1</td>\n",
              "      <td>0</td>\n",
              "      <td>0</td>\n",
              "      <td>10</td>\n",
              "      <td>0.0</td>\n",
              "      <td>250.0</td>\n",
              "      <td>9.0</td>\n",
              "      <td>5752.0</td>\n",
              "      <td>7309.0</td>\n",
              "      <td>6785.701362</td>\n",
              "      <td>2015</td>\n",
              "      <td>8</td>\n",
              "      <td>3</td>\n",
              "      <td>1</td>\n",
              "      <td>230</td>\n",
              "      <td>19</td>\n",
              "    </tr>\n",
              "    <tr>\n",
              "      <th>3</th>\n",
              "      <td>WATDZ2ZQ8JPDHCTJ</td>\n",
              "      <td>50.0</td>\n",
              "      <td>2016-03-28 21:53:01</td>\n",
              "      <td>23</td>\n",
              "      <td>67</td>\n",
              "      <td>1</td>\n",
              "      <td>2</td>\n",
              "      <td>2</td>\n",
              "      <td>48</td>\n",
              "      <td>0.0</td>\n",
              "      <td>144.0</td>\n",
              "      <td>13.0</td>\n",
              "      <td>5090.0</td>\n",
              "      <td>20814.0</td>\n",
              "      <td>13028.917824</td>\n",
              "      <td>2016</td>\n",
              "      <td>3</td>\n",
              "      <td>1</td>\n",
              "      <td>0</td>\n",
              "      <td>88</td>\n",
              "      <td>21</td>\n",
              "    </tr>\n",
              "    <tr>\n",
              "      <th>4</th>\n",
              "      <td>JWSEBUKYQPMBZ3RK</td>\n",
              "      <td>7.0</td>\n",
              "      <td>2016-03-29 22:58:53</td>\n",
              "      <td>63</td>\n",
              "      <td>1740</td>\n",
              "      <td>1</td>\n",
              "      <td>8</td>\n",
              "      <td>1</td>\n",
              "      <td>35</td>\n",
              "      <td>1.0</td>\n",
              "      <td>211.0</td>\n",
              "      <td>4.0</td>\n",
              "      <td>2430.0</td>\n",
              "      <td>9261.0</td>\n",
              "      <td>906.553935</td>\n",
              "      <td>2016</td>\n",
              "      <td>3</td>\n",
              "      <td>1</td>\n",
              "      <td>1</td>\n",
              "      <td>89</td>\n",
              "      <td>22</td>\n",
              "    </tr>\n",
              "  </tbody>\n",
              "</table>\n",
              "</div>"
            ],
            "text/plain": [
              "         Product_id  Stall_no  ... Dayofyear  hour\n",
              "0  BRAE2NF6JA5GUEXG      37.0  ...       234    18\n",
              "1  TUNE8SFB6RJN2HSD      38.0  ...        87    21\n",
              "2  BRAEAR7WZPQGPBZU       9.0  ...       230    19\n",
              "3  WATDZ2ZQ8JPDHCTJ      50.0  ...        88    21\n",
              "4  JWSEBUKYQPMBZ3RK       7.0  ...        89    22\n",
              "\n",
              "[5 rows x 21 columns]"
            ]
          },
          "metadata": {
            "tags": []
          },
          "execution_count": 16
        }
      ]
    },
    {
      "cell_type": "code",
      "metadata": {
        "colab": {
          "base_uri": "https://localhost:8080/"
        },
        "id": "5xZ8q4ZzESmv",
        "outputId": "9c972af5-093d-4490-d332-82bba46dbbd8"
      },
      "source": [
        "train.Stall_no.describe()"
      ],
      "execution_count": 17,
      "outputs": [
        {
          "output_type": "execute_result",
          "data": {
            "text/plain": [
              "count    6322.000000\n",
              "mean       25.312243\n",
              "std        14.331376\n",
              "min         1.000000\n",
              "25%        13.000000\n",
              "50%        25.000000\n",
              "75%        37.000000\n",
              "max        50.000000\n",
              "Name: Stall_no, dtype: float64"
            ]
          },
          "metadata": {
            "tags": []
          },
          "execution_count": 17
        }
      ]
    },
    {
      "cell_type": "code",
      "metadata": {
        "id": "C0zVFFROGM_I"
      },
      "source": [
        "# Converting the negative values in \"Selling_Price\" to its absolute value (positive value)\n",
        "train['Selling_Price'] = train['Selling_Price'].abs()\n"
      ],
      "execution_count": 18,
      "outputs": []
    },
    {
      "cell_type": "code",
      "metadata": {
        "colab": {
          "base_uri": "https://localhost:8080/",
          "height": 269
        },
        "id": "sxCkmaZczDo1",
        "outputId": "9d32284e-300d-4cdb-b772-8d3946c83928"
      },
      "source": [
        "sns.boxplot( y=\"Selling_Price\",color='m', data=train)"
      ],
      "execution_count": 25,
      "outputs": [
        {
          "output_type": "execute_result",
          "data": {
            "text/plain": [
              "<matplotlib.axes._subplots.AxesSubplot at 0x7f6c400587b8>"
            ]
          },
          "metadata": {
            "tags": []
          },
          "execution_count": 25
        },
        {
          "output_type": "display_data",
          "data": {
            "image/png": "[encoded data removed]",
            "text/plain": [
              "<Figure size 432x288 with 1 Axes>"
            ]
          },
          "metadata": {
            "tags": [],
            "needs_background": "light"
          }
        }
      ]
    },
    {
      "cell_type": "code",
      "metadata": {
        "colab": {
          "base_uri": "https://localhost:8080/"
        },
        "id": "HrrbwhetEfzu",
        "outputId": "0fdc4077-d709-44de-f5fe-b3eeff1b2cf1"
      },
      "source": [
        "train.Selling_Price.describe()"
      ],
      "execution_count": 19,
      "outputs": [
        {
          "output_type": "execute_result",
          "data": {
            "text/plain": [
              "count     6327.000000\n",
              "mean      4580.406478\n",
              "std       2952.640478\n",
              "min          4.000000\n",
              "25%       2461.805312\n",
              "50%       4215.972992\n",
              "75%       6167.643252\n",
              "max      22638.325941\n",
              "Name: Selling_Price, dtype: float64"
            ]
          },
          "metadata": {
            "tags": []
          },
          "execution_count": 19
        }
      ]
    },
    {
      "cell_type": "code",
      "metadata": {
        "colab": {
          "base_uri": "https://localhost:8080/"
        },
        "id": "rsUit3KG6Dq4",
        "outputId": "a3f6093b-5112-47d9-b439-aebf3d570197"
      },
      "source": [
        "train['Loyalty_customer'].unique()"
      ],
      "execution_count": 20,
      "outputs": [
        {
          "output_type": "execute_result",
          "data": {
            "text/plain": [
              "array([1, 0])"
            ]
          },
          "metadata": {
            "tags": []
          },
          "execution_count": 20
        }
      ]
    },
    {
      "cell_type": "code",
      "metadata": {
        "colab": {
          "base_uri": "https://localhost:8080/"
        },
        "id": "8xbno4jO6KTK",
        "outputId": "e19831a0-200c-4137-b821-bd317afc51f5"
      },
      "source": [
        "train['Product_Category'].unique()"
      ],
      "execution_count": 21,
      "outputs": [
        {
          "output_type": "execute_result",
          "data": {
            "text/plain": [
              "array([3, 0, 2, 8, 9, 1, 5, 6, 7, 4])"
            ]
          },
          "metadata": {
            "tags": []
          },
          "execution_count": 21
        }
      ]
    },
    {
      "cell_type": "code",
      "metadata": {
        "colab": {
          "base_uri": "https://localhost:8080/"
        },
        "id": "Nnru5BK77Cus",
        "outputId": "ef879149-3a75-465b-f32c-56e99b1393f2"
      },
      "source": [
        "train.Discount_avail.unique()"
      ],
      "execution_count": 22,
      "outputs": [
        {
          "output_type": "execute_result",
          "data": {
            "text/plain": [
              "array([ 0.,  1., nan])"
            ]
          },
          "metadata": {
            "tags": []
          },
          "execution_count": 22
        }
      ]
    },
    {
      "cell_type": "code",
      "metadata": {
        "id": "YBQmk8fi71do"
      },
      "source": [
        "# Replacing nan values of other columns using mean , median mode\n",
        "train['Discount_avail'] = train['Discount_avail'].fillna(train['Discount_avail'].mean())\n",
        "train['charges_1'] = train['charges_1'].fillna(train['charges_1'].mean())\n",
        "train['charges_2 (%)'] = train['charges_2 (%)'].fillna(train['charges_2 (%)'].mean())\n",
        "train['Minimum_price'] = train['Minimum_price'].fillna(train['Minimum_price'].mean())\n",
        "train['Maximum_price'] = train['Maximum_price'].fillna(train['Maximum_price'].mean())\n",
        "train['Stall_no'] = train['Stall_no'].fillna(train['Stall_no'].median())\n"
      ],
      "execution_count": 23,
      "outputs": []
    },
    {
      "cell_type": "code",
      "metadata": {
        "colab": {
          "base_uri": "https://localhost:8080/"
        },
        "id": "FQKjp3GV-ooh",
        "outputId": "b8792292-7f3d-4f68-cbd8-9027fcf727a7"
      },
      "source": [
        "# Rechecking the presence of null values\n",
        "train.isnull().sum()\n"
      ],
      "execution_count": 24,
      "outputs": [
        {
          "output_type": "execute_result",
          "data": {
            "text/plain": [
              "Product_id          0\n",
              "Stall_no            0\n",
              "instock_date        0\n",
              "Market_Category     0\n",
              "Customer_name       0\n",
              "Loyalty_customer    0\n",
              "Product_Category    0\n",
              "Grade               0\n",
              "Demand              0\n",
              "Discount_avail      0\n",
              "charges_1           0\n",
              "charges_2 (%)       0\n",
              "Minimum_price       0\n",
              "Maximum_price       0\n",
              "Selling_Price       0\n",
              "year                0\n",
              "month               0\n",
              "quarter             0\n",
              "day of the week     0\n",
              "Dayofyear           0\n",
              "hour                0\n",
              "dtype: int64"
            ]
          },
          "metadata": {
            "tags": []
          },
          "execution_count": 24
        }
      ]
    },
    {
      "cell_type": "code",
      "metadata": {
        "id": "PxY6a4eatsV6",
        "colab": {
          "base_uri": "https://localhost:8080/",
          "height": 281
        },
        "outputId": "da4af475-3c4f-4639-e7d7-1aea8237ed96"
      },
      "source": [
        "# Hist plot of Charges_1\n",
        "sns.histplot(train.charges_1,color='g')\n",
        "plt.grid('True')\n",
        "for x in [0.25,0.5,0.75]:\n",
        "    plt.axvline(train.charges_1.quantile(x),c='r',lw=1.5)\n",
        "plt.show()"
      ],
      "execution_count": 26,
      "outputs": [
        {
          "output_type": "display_data",
          "data": {
            "image/png": "[encoded data removed]",
            "text/plain": [
              "<Figure size 432x288 with 1 Axes>"
            ]
          },
          "metadata": {
            "tags": [],
            "needs_background": "light"
          }
        }
      ]
    },
    {
      "cell_type": "code",
      "metadata": {
        "colab": {
          "base_uri": "https://localhost:8080/",
          "height": 280
        },
        "id": "d4gT0G5SzRLm",
        "outputId": "22557bfc-d0a2-4ef4-83ce-7d912e2db5cb"
      },
      "source": [
        "# Hist plot of charges_2 (%)\n",
        "sns.histplot(train['charges_2 (%)'],color='g')\n",
        "plt.grid('True')\n",
        "for x in [0.25,0.50,0.75]:\n",
        "    plt.axvline(train['charges_2 (%)'].quantile(x),color='m',lw=1.5)\n",
        "plt.show()"
      ],
      "execution_count": 27,
      "outputs": [
        {
          "output_type": "display_data",
          "data": {
            "image/png": "[encoded data removed]",
            "text/plain": [
              "<Figure size 432x288 with 1 Axes>"
            ]
          },
          "metadata": {
            "tags": [],
            "needs_background": "light"
          }
        }
      ]
    },
    {
      "cell_type": "code",
      "metadata": {
        "colab": {
          "base_uri": "https://localhost:8080/"
        },
        "id": "r5a8yWeFzaeL",
        "outputId": "78855953-09ca-423e-8c6f-8fc776face0d"
      },
      "source": [
        "train.Minimum_price.describe()\n"
      ],
      "execution_count": 28,
      "outputs": [
        {
          "output_type": "execute_result",
          "data": {
            "text/plain": [
              "count     6327.000000\n",
              "mean      3533.844490\n",
              "std       2187.101922\n",
              "min          1.000000\n",
              "25%       1890.000000\n",
              "50%       3179.000000\n",
              "75%       4691.000000\n",
              "max      17580.000000\n",
              "Name: Minimum_price, dtype: float64"
            ]
          },
          "metadata": {
            "tags": []
          },
          "execution_count": 28
        }
      ]
    },
    {
      "cell_type": "code",
      "metadata": {
        "colab": {
          "base_uri": "https://localhost:8080/",
          "height": 281
        },
        "id": "XBsez9Ahzb2O",
        "outputId": "0205176b-8548-44d9-fd70-90ea4de97924"
      },
      "source": [
        "# Hist plot of Minimum Price\n",
        "sns.histplot(train.Minimum_price,color='g',alpha=0.85)\n",
        "plt.grid('True')\n",
        "for x in [0.25,0.50,0.75]:\n",
        "    plt.axvline(train.Minimum_price.quantile(x),c='r',lw=1.5)\n",
        "plt.show()"
      ],
      "execution_count": 29,
      "outputs": [
        {
          "output_type": "display_data",
          "data": {
            "image/png": "[encoded data removed]",
            "text/plain": [
              "<Figure size 432x288 with 1 Axes>"
            ]
          },
          "metadata": {
            "tags": [],
            "needs_background": "light"
          }
        }
      ]
    },
    {
      "cell_type": "markdown",
      "metadata": {
        "id": "s8TgxkA2cGdT"
      },
      "source": [
        "### Feature Engineering"
      ]
    },
    {
      "cell_type": "code",
      "metadata": {
        "id": "voG4VLJXcKek"
      },
      "source": [
        "# Create charges_1 (%) by dividing each column value in charges_1 by 100\n",
        "train['charges_1 (%)'] = train['charges_1'] /100\n",
        "# Create charges_2 by multiplying each column value in charges_2 (%) by 100\n",
        "train['charges_2'] = train['charges_2 (%)'] *100\n",
        "# Adding charges_1 and charges_2 to get total charges\n",
        "train[\"total_charges\"]= train['charges_1']+train['charges_2']\n",
        "# Maximum - minium price = range\n",
        "train[\"range\"] = train['Maximum_price']-train['Minimum_price']"
      ],
      "execution_count": 30,
      "outputs": []
    },
    {
      "cell_type": "code",
      "metadata": {
        "colab": {
          "base_uri": "https://localhost:8080/",
          "height": 356
        },
        "id": "q_GgGSSXcKpA",
        "outputId": "b6f00a79-1fd6-4dae-ec11-ca5a4045dcbf"
      },
      "source": [
        "train.head()"
      ],
      "execution_count": 31,
      "outputs": [
        {
          "output_type": "execute_result",
          "data": {
            "text/html": [
              "<div>\n",
              "<style scoped>\n",
              "    .dataframe tbody tr th:only-of-type {\n",
              "        vertical-align: middle;\n",
              "    }\n",
              "\n",
              "    .dataframe tbody tr th {\n",
              "        vertical-align: top;\n",
              "    }\n",
              "\n",
              "    .dataframe thead th {\n",
              "        text-align: right;\n",
              "    }\n",
              "</style>\n",
              "<table border=\"1\" class=\"dataframe\">\n",
              "  <thead>\n",
              "    <tr style=\"text-align: right;\">\n",
              "      <th></th>\n",
              "      <th>Product_id</th>\n",
              "      <th>Stall_no</th>\n",
              "      <th>instock_date</th>\n",
              "      <th>Market_Category</th>\n",
              "      <th>Customer_name</th>\n",
              "      <th>Loyalty_customer</th>\n",
              "      <th>Product_Category</th>\n",
              "      <th>Grade</th>\n",
              "      <th>Demand</th>\n",
              "      <th>Discount_avail</th>\n",
              "      <th>charges_1</th>\n",
              "      <th>charges_2 (%)</th>\n",
              "      <th>Minimum_price</th>\n",
              "      <th>Maximum_price</th>\n",
              "      <th>Selling_Price</th>\n",
              "      <th>year</th>\n",
              "      <th>month</th>\n",
              "      <th>quarter</th>\n",
              "      <th>day of the week</th>\n",
              "      <th>Dayofyear</th>\n",
              "      <th>hour</th>\n",
              "      <th>charges_1 (%)</th>\n",
              "      <th>charges_2</th>\n",
              "      <th>total_charges</th>\n",
              "      <th>range</th>\n",
              "    </tr>\n",
              "  </thead>\n",
              "  <tbody>\n",
              "    <tr>\n",
              "      <th>0</th>\n",
              "      <td>BRAE2NF6JA5GUEXG</td>\n",
              "      <td>37.0</td>\n",
              "      <td>2015-08-22 18:36:12</td>\n",
              "      <td>2</td>\n",
              "      <td>3706</td>\n",
              "      <td>1</td>\n",
              "      <td>3</td>\n",
              "      <td>1</td>\n",
              "      <td>68</td>\n",
              "      <td>0.0</td>\n",
              "      <td>376.0</td>\n",
              "      <td>11.0</td>\n",
              "      <td>2983.0</td>\n",
              "      <td>4713.0</td>\n",
              "      <td>4185.947700</td>\n",
              "      <td>2015</td>\n",
              "      <td>8</td>\n",
              "      <td>3</td>\n",
              "      <td>5</td>\n",
              "      <td>234</td>\n",
              "      <td>18</td>\n",
              "      <td>3.76</td>\n",
              "      <td>1100.0</td>\n",
              "      <td>1476.0</td>\n",
              "      <td>1730.0</td>\n",
              "    </tr>\n",
              "    <tr>\n",
              "      <th>1</th>\n",
              "      <td>TUNE8SFB6RJN2HSD</td>\n",
              "      <td>38.0</td>\n",
              "      <td>2016-03-27 21:19:13</td>\n",
              "      <td>24</td>\n",
              "      <td>3427</td>\n",
              "      <td>1</td>\n",
              "      <td>3</td>\n",
              "      <td>0</td>\n",
              "      <td>51</td>\n",
              "      <td>0.0</td>\n",
              "      <td>397.0</td>\n",
              "      <td>12.0</td>\n",
              "      <td>7495.0</td>\n",
              "      <td>10352.0</td>\n",
              "      <td>9271.490256</td>\n",
              "      <td>2016</td>\n",
              "      <td>3</td>\n",
              "      <td>1</td>\n",
              "      <td>6</td>\n",
              "      <td>87</td>\n",
              "      <td>21</td>\n",
              "      <td>3.97</td>\n",
              "      <td>1200.0</td>\n",
              "      <td>1597.0</td>\n",
              "      <td>2857.0</td>\n",
              "    </tr>\n",
              "    <tr>\n",
              "      <th>2</th>\n",
              "      <td>BRAEAR7WZPQGPBZU</td>\n",
              "      <td>9.0</td>\n",
              "      <td>2015-08-18 19:25:22</td>\n",
              "      <td>447</td>\n",
              "      <td>4790</td>\n",
              "      <td>1</td>\n",
              "      <td>0</td>\n",
              "      <td>0</td>\n",
              "      <td>10</td>\n",
              "      <td>0.0</td>\n",
              "      <td>250.0</td>\n",
              "      <td>9.0</td>\n",
              "      <td>5752.0</td>\n",
              "      <td>7309.0</td>\n",
              "      <td>6785.701362</td>\n",
              "      <td>2015</td>\n",
              "      <td>8</td>\n",
              "      <td>3</td>\n",
              "      <td>1</td>\n",
              "      <td>230</td>\n",
              "      <td>19</td>\n",
              "      <td>2.50</td>\n",
              "      <td>900.0</td>\n",
              "      <td>1150.0</td>\n",
              "      <td>1557.0</td>\n",
              "    </tr>\n",
              "    <tr>\n",
              "      <th>3</th>\n",
              "      <td>WATDZ2ZQ8JPDHCTJ</td>\n",
              "      <td>50.0</td>\n",
              "      <td>2016-03-28 21:53:01</td>\n",
              "      <td>23</td>\n",
              "      <td>67</td>\n",
              "      <td>1</td>\n",
              "      <td>2</td>\n",
              "      <td>2</td>\n",
              "      <td>48</td>\n",
              "      <td>0.0</td>\n",
              "      <td>144.0</td>\n",
              "      <td>13.0</td>\n",
              "      <td>5090.0</td>\n",
              "      <td>20814.0</td>\n",
              "      <td>13028.917824</td>\n",
              "      <td>2016</td>\n",
              "      <td>3</td>\n",
              "      <td>1</td>\n",
              "      <td>0</td>\n",
              "      <td>88</td>\n",
              "      <td>21</td>\n",
              "      <td>1.44</td>\n",
              "      <td>1300.0</td>\n",
              "      <td>1444.0</td>\n",
              "      <td>15724.0</td>\n",
              "    </tr>\n",
              "    <tr>\n",
              "      <th>4</th>\n",
              "      <td>JWSEBUKYQPMBZ3RK</td>\n",
              "      <td>7.0</td>\n",
              "      <td>2016-03-29 22:58:53</td>\n",
              "      <td>63</td>\n",
              "      <td>1740</td>\n",
              "      <td>1</td>\n",
              "      <td>8</td>\n",
              "      <td>1</td>\n",
              "      <td>35</td>\n",
              "      <td>1.0</td>\n",
              "      <td>211.0</td>\n",
              "      <td>4.0</td>\n",
              "      <td>2430.0</td>\n",
              "      <td>9261.0</td>\n",
              "      <td>906.553935</td>\n",
              "      <td>2016</td>\n",
              "      <td>3</td>\n",
              "      <td>1</td>\n",
              "      <td>1</td>\n",
              "      <td>89</td>\n",
              "      <td>22</td>\n",
              "      <td>2.11</td>\n",
              "      <td>400.0</td>\n",
              "      <td>611.0</td>\n",
              "      <td>6831.0</td>\n",
              "    </tr>\n",
              "  </tbody>\n",
              "</table>\n",
              "</div>"
            ],
            "text/plain": [
              "         Product_id  Stall_no  ... total_charges    range\n",
              "0  BRAE2NF6JA5GUEXG      37.0  ...        1476.0   1730.0\n",
              "1  TUNE8SFB6RJN2HSD      38.0  ...        1597.0   2857.0\n",
              "2  BRAEAR7WZPQGPBZU       9.0  ...        1150.0   1557.0\n",
              "3  WATDZ2ZQ8JPDHCTJ      50.0  ...        1444.0  15724.0\n",
              "4  JWSEBUKYQPMBZ3RK       7.0  ...         611.0   6831.0\n",
              "\n",
              "[5 rows x 25 columns]"
            ]
          },
          "metadata": {
            "tags": []
          },
          "execution_count": 31
        }
      ]
    },
    {
      "cell_type": "markdown",
      "metadata": {
        "id": "IxxNsGlY-03L"
      },
      "source": [
        "###  Split the dataset into training and testing"
      ]
    },
    {
      "cell_type": "code",
      "metadata": {
        "id": "1OX_8YHT-q1D"
      },
      "source": [
        "train =train.drop([\"instock_date\",\"Product_id\"],axis =1)\n"
      ],
      "execution_count": 32,
      "outputs": []
    },
    {
      "cell_type": "code",
      "metadata": {
        "id": "w0Nz0rwx_WRt"
      },
      "source": [
        "x = train\n",
        "x = x.drop([\"Selling_Price\"],axis =1)\n",
        "y = train['Selling_Price']"
      ],
      "execution_count": 33,
      "outputs": []
    },
    {
      "cell_type": "code",
      "metadata": {
        "id": "CR1XPHeP_laG"
      },
      "source": [
        "x_train, x_test, y_train, y_test = train_test_split(x, y, test_size = 0.3, random_state = 40)"
      ],
      "execution_count": 34,
      "outputs": []
    },
    {
      "cell_type": "code",
      "metadata": {
        "colab": {
          "base_uri": "https://localhost:8080/"
        },
        "id": "lxB4EJFL_tGA",
        "outputId": "d537ac52-de69-41a9-d392-0e441385173d"
      },
      "source": [
        "print(x_train.shape)\n",
        "print(y_train.shape)\n",
        "print(x_test.shape)\n",
        "print(y_test.shape)"
      ],
      "execution_count": 35,
      "outputs": [
        {
          "output_type": "stream",
          "text": [
            "(4428, 22)\n",
            "(4428,)\n",
            "(1899, 22)\n",
            "(1899,)\n"
          ],
          "name": "stdout"
        }
      ]
    },
    {
      "cell_type": "markdown",
      "metadata": {
        "id": "GBjYH4YZDkO6"
      },
      "source": [
        "### Model Building"
      ]
    },
    {
      "cell_type": "code",
      "metadata": {
        "id": "YEEmkbirunpv"
      },
      "source": [
        "from sklearn.linear_model import LinearRegression\n",
        "from sklearn.linear_model import Ridge\n",
        "from sklearn.tree import DecisionTreeRegressor\n",
        "from sklearn.ensemble import ExtraTreesRegressor\n",
        "from sklearn.ensemble import RandomForestRegressor\n",
        "import xgboost\n",
        "from sklearn.ensemble import AdaBoostRegressor\n",
        "from sklearn.ensemble import GradientBoostingRegressor\n",
        "from sklearn.neighbors import KNeighborsRegressor\n",
        "from lightgbm import LGBMRegressor\n",
        "from sklearn.linear_model import ElasticNet\n",
        "from sklearn.ensemble import StackingRegressor\n",
        "from sklearn.metrics import r2_score\n",
        "from sklearn.model_selection import cross_validate\n",
        "from sklearn.metrics import mean_squared_error"
      ],
      "execution_count": 36,
      "outputs": []
    },
    {
      "cell_type": "code",
      "metadata": {
        "id": "DA1eRaMU0nXQ"
      },
      "source": [
        "gbr = GradientBoostingRegressor(random_state=0)\n",
        "xgb = xgboost.XGBRegressor(n_jobs=-1)\n",
        "et = ExtraTreesRegressor(n_jobs=-1)\n",
        "rf = RandomForestRegressor(n_jobs=-1)\n",
        "ds = DecisionTreeRegressor()"
      ],
      "execution_count": 61,
      "outputs": []
    },
    {
      "cell_type": "code",
      "metadata": {
        "id": "4T9BmZV10uvY"
      },
      "source": [
        "reg = {\n",
        "\"LinearRegression\": LinearRegression(),\n",
        "\"KNeighborsRegressor\":KNeighborsRegressor(n_neighbors=2),\n",
        "\"AdaBoostRegressor\":AdaBoostRegressor(random_state=0, n_estimators=100),\n",
        "\"LGBMRegressor\":LGBMRegressor(),\n",
        "\"Ridge\": Ridge(alpha=1.0),\n",
        "\"ElasticNet\":ElasticNet(random_state=0),\n",
        "\"GradientBoostingRegressor\":GradientBoostingRegressor(random_state=0),\n",
        "\"DecisionTreeRegressor\": DecisionTreeRegressor(),\n",
        "\"ExtraTreesRegressor\": ExtraTreesRegressor(n_jobs=-1),\n",
        "\"RandomForestRegressor\": RandomForestRegressor(n_jobs=-1),\n",
        "\"XGBRegressor\":xgboost.XGBRegressor(n_jobs=-1)\n",
        "}"
      ],
      "execution_count": 38,
      "outputs": []
    },
    {
      "cell_type": "code",
      "metadata": {
        "colab": {
          "base_uri": "https://localhost:8080/"
        },
        "id": "oSj-lacBunv2",
        "outputId": "26378521-dca8-4ba2-8b5d-e94abf17b531"
      },
      "source": [
        "%%time\n",
        "dic =  {\"Model\":[],\"R2_Train\":[],\"RMSE_Train\":[]}\n",
        "for name, model in reg.items():\n",
        "\n",
        "   \n",
        "  model.fit(x_train, y_train)\n",
        "  y_train_pre = model.predict(x_test)\n",
        "  r2 = r2_score(y_test, y_train_pre)\n",
        "  rmse  = np.sqrt(mean_squared_error(y_test, y_train_pre))\n",
        "  print(\"--------------------------------------------------------------\")\n",
        "  print(\"Model:\", name)\n",
        "  print(\"-----Training Data Evalution-----\")\n",
        "  print(\"R2 Value: \", r2_score(y_test, y_train_pre))\n",
        "  print(\"RMSE: \",np.sqrt(mean_squared_error(y_test, y_train_pre)))\n",
        "  dic[\"Model\"].append(name)\n",
        "  dic[\"R2_Train\"].append(r2)\n",
        "  dic[\"RMSE_Train\"].append(rmse)\n",
        "\n",
        "\n",
        "\n",
        "\n"
      ],
      "execution_count": 39,
      "outputs": [
        {
          "output_type": "stream",
          "text": [
            "--------------------------------------------------------------\n",
            "Model: LinearRegression\n",
            "-----Training Data Evalution-----\n",
            "R2 Value:  0.9264617055358184\n",
            "RMSE:  772.2650684769981\n",
            "--------------------------------------------------------------\n",
            "Model: KNeighborsRegressor\n",
            "-----Training Data Evalution-----\n",
            "R2 Value:  0.5066549308344905\n",
            "RMSE:  2000.2533680469712\n",
            "--------------------------------------------------------------\n",
            "Model: AdaBoostRegressor\n",
            "-----Training Data Evalution-----\n",
            "R2 Value:  0.8660939523460852\n",
            "RMSE:  1042.1007542509792\n",
            "--------------------------------------------------------------\n",
            "Model: LGBMRegressor\n",
            "-----Training Data Evalution-----\n",
            "R2 Value:  0.9910302760994496\n",
            "RMSE:  269.7113059821462\n",
            "--------------------------------------------------------------\n",
            "Model: Ridge\n",
            "-----Training Data Evalution-----\n",
            "R2 Value:  0.9264950793292154\n",
            "RMSE:  772.0898105391178\n",
            "--------------------------------------------------------------\n",
            "Model: ElasticNet\n",
            "-----Training Data Evalution-----\n",
            "R2 Value:  0.7500123066585302\n",
            "RMSE:  1423.8653746402715\n"
          ],
          "name": "stdout"
        },
        {
          "output_type": "stream",
          "text": [
            "/usr/local/lib/python3.6/dist-packages/sklearn/linear_model/_coordinate_descent.py:476: ConvergenceWarning: Objective did not converge. You might want to increase the number of iterations. Duality gap: 2494028126.3352985, tolerance: 3973437.5057197907\n",
            "  positive)\n"
          ],
          "name": "stderr"
        },
        {
          "output_type": "stream",
          "text": [
            "--------------------------------------------------------------\n",
            "Model: GradientBoostingRegressor\n",
            "-----Training Data Evalution-----\n",
            "R2 Value:  0.9878056689956347\n",
            "RMSE:  314.47679454887094\n",
            "--------------------------------------------------------------\n",
            "Model: DecisionTreeRegressor\n",
            "-----Training Data Evalution-----\n",
            "R2 Value:  0.9741032221532704\n",
            "RMSE:  458.2816626155331\n",
            "--------------------------------------------------------------\n",
            "Model: ExtraTreesRegressor\n",
            "-----Training Data Evalution-----\n",
            "R2 Value:  0.9930286312339558\n",
            "RMSE:  237.776342578504\n",
            "--------------------------------------------------------------\n",
            "Model: RandomForestRegressor\n",
            "-----Training Data Evalution-----\n",
            "R2 Value:  0.9915832040105403\n",
            "RMSE:  261.2660712735614\n",
            "[05:29:44] WARNING: /workspace/src/objective/regression_obj.cu:152: reg:linear is now deprecated in favor of reg:squarederror.\n",
            "--------------------------------------------------------------\n",
            "Model: XGBRegressor\n",
            "-----Training Data Evalution-----\n",
            "R2 Value:  0.9884646082765025\n",
            "RMSE:  305.8621858660208\n",
            "CPU times: user 14.4 s, sys: 451 ms, total: 14.9 s\n",
            "Wall time: 9.13 s\n"
          ],
          "name": "stdout"
        }
      ]
    },
    {
      "cell_type": "code",
      "metadata": {
        "id": "avDfMPVaunnG",
        "colab": {
          "base_uri": "https://localhost:8080/",
          "height": 379
        },
        "outputId": "d1a19443-1fe0-44cb-d9ba-d6020eafefd6"
      },
      "source": [
        "final_data = pd.DataFrame(dic)\n",
        "final_data"
      ],
      "execution_count": 40,
      "outputs": [
        {
          "output_type": "execute_result",
          "data": {
            "text/html": [
              "<div>\n",
              "<style scoped>\n",
              "    .dataframe tbody tr th:only-of-type {\n",
              "        vertical-align: middle;\n",
              "    }\n",
              "\n",
              "    .dataframe tbody tr th {\n",
              "        vertical-align: top;\n",
              "    }\n",
              "\n",
              "    .dataframe thead th {\n",
              "        text-align: right;\n",
              "    }\n",
              "</style>\n",
              "<table border=\"1\" class=\"dataframe\">\n",
              "  <thead>\n",
              "    <tr style=\"text-align: right;\">\n",
              "      <th></th>\n",
              "      <th>Model</th>\n",
              "      <th>R2_Train</th>\n",
              "      <th>RMSE_Train</th>\n",
              "    </tr>\n",
              "  </thead>\n",
              "  <tbody>\n",
              "    <tr>\n",
              "      <th>0</th>\n",
              "      <td>LinearRegression</td>\n",
              "      <td>0.926462</td>\n",
              "      <td>772.265068</td>\n",
              "    </tr>\n",
              "    <tr>\n",
              "      <th>1</th>\n",
              "      <td>KNeighborsRegressor</td>\n",
              "      <td>0.506655</td>\n",
              "      <td>2000.253368</td>\n",
              "    </tr>\n",
              "    <tr>\n",
              "      <th>2</th>\n",
              "      <td>AdaBoostRegressor</td>\n",
              "      <td>0.866094</td>\n",
              "      <td>1042.100754</td>\n",
              "    </tr>\n",
              "    <tr>\n",
              "      <th>3</th>\n",
              "      <td>LGBMRegressor</td>\n",
              "      <td>0.991030</td>\n",
              "      <td>269.711306</td>\n",
              "    </tr>\n",
              "    <tr>\n",
              "      <th>4</th>\n",
              "      <td>Ridge</td>\n",
              "      <td>0.926495</td>\n",
              "      <td>772.089811</td>\n",
              "    </tr>\n",
              "    <tr>\n",
              "      <th>5</th>\n",
              "      <td>ElasticNet</td>\n",
              "      <td>0.750012</td>\n",
              "      <td>1423.865375</td>\n",
              "    </tr>\n",
              "    <tr>\n",
              "      <th>6</th>\n",
              "      <td>GradientBoostingRegressor</td>\n",
              "      <td>0.987806</td>\n",
              "      <td>314.476795</td>\n",
              "    </tr>\n",
              "    <tr>\n",
              "      <th>7</th>\n",
              "      <td>DecisionTreeRegressor</td>\n",
              "      <td>0.974103</td>\n",
              "      <td>458.281663</td>\n",
              "    </tr>\n",
              "    <tr>\n",
              "      <th>8</th>\n",
              "      <td>ExtraTreesRegressor</td>\n",
              "      <td>0.993029</td>\n",
              "      <td>237.776343</td>\n",
              "    </tr>\n",
              "    <tr>\n",
              "      <th>9</th>\n",
              "      <td>RandomForestRegressor</td>\n",
              "      <td>0.991583</td>\n",
              "      <td>261.266071</td>\n",
              "    </tr>\n",
              "    <tr>\n",
              "      <th>10</th>\n",
              "      <td>XGBRegressor</td>\n",
              "      <td>0.988465</td>\n",
              "      <td>305.862186</td>\n",
              "    </tr>\n",
              "  </tbody>\n",
              "</table>\n",
              "</div>"
            ],
            "text/plain": [
              "                        Model  R2_Train   RMSE_Train\n",
              "0            LinearRegression  0.926462   772.265068\n",
              "1         KNeighborsRegressor  0.506655  2000.253368\n",
              "2           AdaBoostRegressor  0.866094  1042.100754\n",
              "3               LGBMRegressor  0.991030   269.711306\n",
              "4                       Ridge  0.926495   772.089811\n",
              "5                  ElasticNet  0.750012  1423.865375\n",
              "6   GradientBoostingRegressor  0.987806   314.476795\n",
              "7       DecisionTreeRegressor  0.974103   458.281663\n",
              "8         ExtraTreesRegressor  0.993029   237.776343\n",
              "9       RandomForestRegressor  0.991583   261.266071\n",
              "10               XGBRegressor  0.988465   305.862186"
            ]
          },
          "metadata": {
            "tags": []
          },
          "execution_count": 40
        }
      ]
    },
    {
      "cell_type": "code",
      "metadata": {
        "colab": {
          "base_uri": "https://localhost:8080/",
          "height": 379
        },
        "id": "GwoUUYOP1EBv",
        "outputId": "05b1f1a2-816c-4888-8348-ce0a018a9a1c"
      },
      "source": [
        "final_data.sort_values(\"RMSE_Train\", axis = 0, ascending = True)"
      ],
      "execution_count": 41,
      "outputs": [
        {
          "output_type": "execute_result",
          "data": {
            "text/html": [
              "<div>\n",
              "<style scoped>\n",
              "    .dataframe tbody tr th:only-of-type {\n",
              "        vertical-align: middle;\n",
              "    }\n",
              "\n",
              "    .dataframe tbody tr th {\n",
              "        vertical-align: top;\n",
              "    }\n",
              "\n",
              "    .dataframe thead th {\n",
              "        text-align: right;\n",
              "    }\n",
              "</style>\n",
              "<table border=\"1\" class=\"dataframe\">\n",
              "  <thead>\n",
              "    <tr style=\"text-align: right;\">\n",
              "      <th></th>\n",
              "      <th>Model</th>\n",
              "      <th>R2_Train</th>\n",
              "      <th>RMSE_Train</th>\n",
              "    </tr>\n",
              "  </thead>\n",
              "  <tbody>\n",
              "    <tr>\n",
              "      <th>8</th>\n",
              "      <td>ExtraTreesRegressor</td>\n",
              "      <td>0.993029</td>\n",
              "      <td>237.776343</td>\n",
              "    </tr>\n",
              "    <tr>\n",
              "      <th>9</th>\n",
              "      <td>RandomForestRegressor</td>\n",
              "      <td>0.991583</td>\n",
              "      <td>261.266071</td>\n",
              "    </tr>\n",
              "    <tr>\n",
              "      <th>3</th>\n",
              "      <td>LGBMRegressor</td>\n",
              "      <td>0.991030</td>\n",
              "      <td>269.711306</td>\n",
              "    </tr>\n",
              "    <tr>\n",
              "      <th>10</th>\n",
              "      <td>XGBRegressor</td>\n",
              "      <td>0.988465</td>\n",
              "      <td>305.862186</td>\n",
              "    </tr>\n",
              "    <tr>\n",
              "      <th>6</th>\n",
              "      <td>GradientBoostingRegressor</td>\n",
              "      <td>0.987806</td>\n",
              "      <td>314.476795</td>\n",
              "    </tr>\n",
              "    <tr>\n",
              "      <th>7</th>\n",
              "      <td>DecisionTreeRegressor</td>\n",
              "      <td>0.974103</td>\n",
              "      <td>458.281663</td>\n",
              "    </tr>\n",
              "    <tr>\n",
              "      <th>4</th>\n",
              "      <td>Ridge</td>\n",
              "      <td>0.926495</td>\n",
              "      <td>772.089811</td>\n",
              "    </tr>\n",
              "    <tr>\n",
              "      <th>0</th>\n",
              "      <td>LinearRegression</td>\n",
              "      <td>0.926462</td>\n",
              "      <td>772.265068</td>\n",
              "    </tr>\n",
              "    <tr>\n",
              "      <th>2</th>\n",
              "      <td>AdaBoostRegressor</td>\n",
              "      <td>0.866094</td>\n",
              "      <td>1042.100754</td>\n",
              "    </tr>\n",
              "    <tr>\n",
              "      <th>5</th>\n",
              "      <td>ElasticNet</td>\n",
              "      <td>0.750012</td>\n",
              "      <td>1423.865375</td>\n",
              "    </tr>\n",
              "    <tr>\n",
              "      <th>1</th>\n",
              "      <td>KNeighborsRegressor</td>\n",
              "      <td>0.506655</td>\n",
              "      <td>2000.253368</td>\n",
              "    </tr>\n",
              "  </tbody>\n",
              "</table>\n",
              "</div>"
            ],
            "text/plain": [
              "                        Model  R2_Train   RMSE_Train\n",
              "8         ExtraTreesRegressor  0.993029   237.776343\n",
              "9       RandomForestRegressor  0.991583   261.266071\n",
              "3               LGBMRegressor  0.991030   269.711306\n",
              "10               XGBRegressor  0.988465   305.862186\n",
              "6   GradientBoostingRegressor  0.987806   314.476795\n",
              "7       DecisionTreeRegressor  0.974103   458.281663\n",
              "4                       Ridge  0.926495   772.089811\n",
              "0            LinearRegression  0.926462   772.265068\n",
              "2           AdaBoostRegressor  0.866094  1042.100754\n",
              "5                  ElasticNet  0.750012  1423.865375\n",
              "1         KNeighborsRegressor  0.506655  2000.253368"
            ]
          },
          "metadata": {
            "tags": []
          },
          "execution_count": 41
        }
      ]
    },
    {
      "cell_type": "markdown",
      "metadata": {
        "id": "xIM7mH9t1OaL"
      },
      "source": [
        "From the above we find that the best preictions are given by ExtraTreesRegressor and RandomForestRegressor."
      ]
    },
    {
      "cell_type": "markdown",
      "metadata": {
        "id": "yXJoaiNC89YS"
      },
      "source": [
        "#### Randomforest regression"
      ]
    },
    {
      "cell_type": "code",
      "metadata": {
        "colab": {
          "base_uri": "https://localhost:8080/"
        },
        "id": "HrG88cHu8tG3",
        "outputId": "747fae8c-f311-4725-abdc-997e2dfd7bf7"
      },
      "source": [
        "from sklearn.ensemble import RandomForestRegressor \n",
        "# create regressor object \n",
        "rf = RandomForestRegressor(n_jobs=-1)\n",
        "# fit the regressor with x and y data \n",
        "rf.fit(x_train, y_train)"
      ],
      "execution_count": 44,
      "outputs": [
        {
          "output_type": "execute_result",
          "data": {
            "text/plain": [
              "RandomForestRegressor(bootstrap=True, ccp_alpha=0.0, criterion='mse',\n",
              "                      max_depth=None, max_features='auto', max_leaf_nodes=None,\n",
              "                      max_samples=None, min_impurity_decrease=0.0,\n",
              "                      min_impurity_split=None, min_samples_leaf=1,\n",
              "                      min_samples_split=2, min_weight_fraction_leaf=0.0,\n",
              "                      n_estimators=100, n_jobs=-1, oob_score=False,\n",
              "                      random_state=None, verbose=0, warm_start=False)"
            ]
          },
          "metadata": {
            "tags": []
          },
          "execution_count": 44
        }
      ]
    },
    {
      "cell_type": "code",
      "metadata": {
        "id": "OhvJS-vi8tUa"
      },
      "source": [
        "pred_rf = rf.predict(x_test)\n",
        "pred_rf = pd.DataFrame(pred_rf)"
      ],
      "execution_count": 45,
      "outputs": []
    },
    {
      "cell_type": "code",
      "metadata": {
        "colab": {
          "base_uri": "https://localhost:8080/"
        },
        "id": "90HtwaTD8ti2",
        "outputId": "53299866-f480-4290-e093-1b07b5c8c616"
      },
      "source": [
        "from sklearn.metrics import mean_squared_error \n",
        "print(mean_squared_error(y_test, pred_rf)**0.5)"
      ],
      "execution_count": 46,
      "outputs": [
        {
          "output_type": "stream",
          "text": [
            "267.30409437384196\n"
          ],
          "name": "stdout"
        }
      ]
    },
    {
      "cell_type": "code",
      "metadata": {
        "colab": {
          "base_uri": "https://localhost:8080/",
          "height": 645
        },
        "id": "DoZvFvM2CMwS",
        "outputId": "8248712c-ab57-4937-c412-8a07807ceb82"
      },
      "source": [
        "# Seeing the feature importance \n",
        "importance = rf.feature_importances_\n",
        "# summarize feature importance\n",
        "for i,v in enumerate(importance):\n",
        "\tprint('Feature: %0d, Score: %.5f' % (i,v))\n",
        "# plot feature importance\n",
        "plt.bar([x for x in range(len(importance))], importance)\n",
        "plt.show()"
      ],
      "execution_count": 50,
      "outputs": [
        {
          "output_type": "stream",
          "text": [
            "Feature: 0, Score: 0.00039\n",
            "Feature: 1, Score: 0.00040\n",
            "Feature: 2, Score: 0.00092\n",
            "Feature: 3, Score: 0.00009\n",
            "Feature: 4, Score: 0.00033\n",
            "Feature: 5, Score: 0.00196\n",
            "Feature: 6, Score: 0.00061\n",
            "Feature: 7, Score: 0.29459\n",
            "Feature: 8, Score: 0.00101\n",
            "Feature: 9, Score: 0.00021\n",
            "Feature: 10, Score: 0.13123\n",
            "Feature: 11, Score: 0.55819\n",
            "Feature: 12, Score: 0.00014\n",
            "Feature: 13, Score: 0.00014\n",
            "Feature: 14, Score: 0.00008\n",
            "Feature: 15, Score: 0.00021\n",
            "Feature: 16, Score: 0.00066\n",
            "Feature: 17, Score: 0.00029\n",
            "Feature: 18, Score: 0.00105\n",
            "Feature: 19, Score: 0.00022\n",
            "Feature: 20, Score: 0.00044\n",
            "Feature: 21, Score: 0.00684\n"
          ],
          "name": "stdout"
        },
        {
          "output_type": "display_data",
          "data": {
            "image/png": "[encoded data removed]",
            "text/plain": [
              "<Figure size 432x288 with 1 Axes>"
            ]
          },
          "metadata": {
            "tags": [],
            "needs_background": "light"
          }
        }
      ]
    },
    {
      "cell_type": "markdown",
      "metadata": {
        "id": "LjAVSfjKoWE0"
      },
      "source": [
        "###### Feature selection"
      ]
    },
    {
      "cell_type": "code",
      "metadata": {
        "colab": {
          "base_uri": "https://localhost:8080/"
        },
        "id": "wXQbcIfoJY7d",
        "outputId": "ad3187a4-ce2d-4a50-87c2-1b80ccfb2ede"
      },
      "source": [
        "# Recursive Feature Elimination to select important features\n",
        "from sklearn.feature_selection import RFE\n",
        "sel2 = RFE(RandomForestRegressor(), n_features_to_select =5)\n",
        "sel2.fit(x_train,y_train)"
      ],
      "execution_count": 52,
      "outputs": [
        {
          "output_type": "execute_result",
          "data": {
            "text/plain": [
              "RFE(estimator=RandomForestRegressor(bootstrap=True, ccp_alpha=0.0,\n",
              "                                    criterion='mse', max_depth=None,\n",
              "                                    max_features='auto', max_leaf_nodes=None,\n",
              "                                    max_samples=None, min_impurity_decrease=0.0,\n",
              "                                    min_impurity_split=None, min_samples_leaf=1,\n",
              "                                    min_samples_split=2,\n",
              "                                    min_weight_fraction_leaf=0.0,\n",
              "                                    n_estimators=100, n_jobs=None,\n",
              "                                    oob_score=False, random_state=None,\n",
              "                                    verbose=0, warm_start=False),\n",
              "    n_features_to_select=5, step=1, verbose=0)"
            ]
          },
          "metadata": {
            "tags": []
          },
          "execution_count": 52
        }
      ]
    },
    {
      "cell_type": "code",
      "metadata": {
        "colab": {
          "base_uri": "https://localhost:8080/"
        },
        "id": "-qySkprRJY47",
        "outputId": "9f16ad1c-7186-4ef0-e873-7406fe5f232d"
      },
      "source": [
        "sel2.get_support()"
      ],
      "execution_count": 53,
      "outputs": [
        {
          "output_type": "execute_result",
          "data": {
            "text/plain": [
              "array([False, False, False, False, False, False, False,  True,  True,\n",
              "       False,  True,  True, False, False, False, False, False, False,\n",
              "       False, False, False,  True])"
            ]
          },
          "metadata": {
            "tags": []
          },
          "execution_count": 53
        }
      ]
    },
    {
      "cell_type": "code",
      "metadata": {
        "colab": {
          "base_uri": "https://localhost:8080/"
        },
        "id": "c6EuPwcGJY2Y",
        "outputId": "1f76a5a0-4e52-475b-991b-3169fa7385ae"
      },
      "source": [
        "features2 = x_train.columns[sel2.get_support()]\n",
        "features2"
      ],
      "execution_count": 54,
      "outputs": [
        {
          "output_type": "execute_result",
          "data": {
            "text/plain": [
              "Index(['Discount_avail', 'charges_1', 'Minimum_price', 'Maximum_price',\n",
              "       'range'],\n",
              "      dtype='object')"
            ]
          },
          "metadata": {
            "tags": []
          },
          "execution_count": 54
        }
      ]
    },
    {
      "cell_type": "code",
      "metadata": {
        "colab": {
          "base_uri": "https://localhost:8080/"
        },
        "id": "Nt-j2xpMJYyG",
        "outputId": "1469ee43-7d69-49ca-8aa1-0a0ba1c9c4f8"
      },
      "source": [
        "x_train_rfe = sel2.transform(x_train)\n",
        "x_test_rfe = sel2.transform(x_test)\n",
        "clf = RandomForestRegressor()\n",
        "clf.fit(x_train_rfe,y_train)\n",
        "y_pred_rfe =clf.predict(x_test_rfe)\n",
        "from sklearn.metrics import mean_squared_error \n",
        "print(mean_squared_error(y_test, y_pred_rfe)**0.5)"
      ],
      "execution_count": 55,
      "outputs": [
        {
          "output_type": "stream",
          "text": [
            "306.5506329241196\n"
          ],
          "name": "stdout"
        }
      ]
    },
    {
      "cell_type": "markdown",
      "metadata": {
        "id": "JaSCzN9V35G5"
      },
      "source": [
        "When I used RandomForestRegressor along with recursive feature elimination to predict the given test data, my public score on the leaderboard was 89.83489.   "
      ]
    },
    {
      "cell_type": "markdown",
      "metadata": {
        "id": "-af6iGfb5Ab0"
      },
      "source": [
        "#### ExtraTreesRegressor\n"
      ]
    },
    {
      "cell_type": "code",
      "metadata": {
        "colab": {
          "base_uri": "https://localhost:8080/"
        },
        "id": "udfKHyLd33rg",
        "outputId": "968cde9d-6d78-43d3-fe4d-9003cec4c17e"
      },
      "source": [
        "et = ExtraTreesRegressor(n_jobs=-1)\n",
        "et.fit(x_train,y_train)\n",
        "y_pred_et =et.predict(x_test)\n",
        "from sklearn.metrics import mean_squared_error \n",
        "print(mean_squared_error(y_test, y_pred_et)**0.5)"
      ],
      "execution_count": 57,
      "outputs": [
        {
          "output_type": "stream",
          "text": [
            "247.33224457780432\n"
          ],
          "name": "stdout"
        }
      ]
    },
    {
      "cell_type": "code",
      "metadata": {
        "colab": {
          "base_uri": "https://localhost:8080/",
          "height": 645
        },
        "id": "URyWtD6K8GrO",
        "outputId": "c33975b5-6f8f-4831-e398-2feb98fca6e2"
      },
      "source": [
        "importance = et.feature_importances_\n",
        "# summarize feature importance\n",
        "for i,v in enumerate(importance):\n",
        "\tprint('Feature: %0d, Score: %.5f' % (i,v))\n",
        "# plot feature importance\n",
        "plt.bar([x for x in range(len(importance))], importance)\n",
        "plt.show()"
      ],
      "execution_count": 60,
      "outputs": [
        {
          "output_type": "stream",
          "text": [
            "Feature: 0, Score: 0.00056\n",
            "Feature: 1, Score: 0.00089\n",
            "Feature: 2, Score: 0.00079\n",
            "Feature: 3, Score: 0.00043\n",
            "Feature: 4, Score: 0.00054\n",
            "Feature: 5, Score: 0.00436\n",
            "Feature: 6, Score: 0.00055\n",
            "Feature: 7, Score: 0.27953\n",
            "Feature: 8, Score: 0.00105\n",
            "Feature: 9, Score: 0.00042\n",
            "Feature: 10, Score: 0.31126\n",
            "Feature: 11, Score: 0.35435\n",
            "Feature: 12, Score: 0.00137\n",
            "Feature: 13, Score: 0.00050\n",
            "Feature: 14, Score: 0.00049\n",
            "Feature: 15, Score: 0.00056\n",
            "Feature: 16, Score: 0.00083\n",
            "Feature: 17, Score: 0.00046\n",
            "Feature: 18, Score: 0.00102\n",
            "Feature: 19, Score: 0.00036\n",
            "Feature: 20, Score: 0.00044\n",
            "Feature: 21, Score: 0.03924\n"
          ],
          "name": "stdout"
        },
        {
          "output_type": "display_data",
          "data": {
            "image/png": "[encoded data removed]",
            "text/plain": [
              "<Figure size 432x288 with 1 Axes>"
            ]
          },
          "metadata": {
            "tags": [],
            "needs_background": "light"
          }
        }
      ]
    },
    {
      "cell_type": "code",
      "metadata": {
        "id": "oLOR5MmAL3-m",
        "colab": {
          "base_uri": "https://localhost:8080/"
        },
        "outputId": "3d7d2023-d455-41ff-e1dc-36b95a18e8e2"
      },
      "source": [
        "# Recursive Feature Elimination to select important features \n",
        "sel3 = RFE(ExtraTreesRegressor(n_jobs=-1),n_features_to_select =5)\n",
        "sel3.fit(x_train,y_train)\n",
        "sel3.get_support()\n",
        "features3 = x.columns[sel3.get_support()]\n",
        "features3\n"
      ],
      "execution_count": 58,
      "outputs": [
        {
          "output_type": "execute_result",
          "data": {
            "text/plain": [
              "Index(['Grade', 'Discount_avail', 'Minimum_price', 'Maximum_price', 'range'], dtype='object')"
            ]
          },
          "metadata": {
            "tags": []
          },
          "execution_count": 58
        }
      ]
    },
    {
      "cell_type": "markdown",
      "metadata": {
        "id": "ikvy0JEO6ECc"
      },
      "source": [
        "When I used ExtraTreesRegressor along with recursive feature elimination to predict the given test data, my public score on the leaderboard was 89.82776."
      ]
    },
    {
      "cell_type": "markdown",
      "metadata": {
        "id": "xoYV6u4m8Zya"
      },
      "source": [
        "#### VotingRegressor"
      ]
    },
    {
      "cell_type": "code",
      "metadata": {
        "id": "C6TjpRZFLugX",
        "colab": {
          "base_uri": "https://localhost:8080/"
        },
        "outputId": "d4560cd9-c44a-4c29-c5e3-6c59d9f2516d"
      },
      "source": [
        "# I used VotingRegressor with base regressors as ExtraTreesRegressor and RandomForestRegressor as they both gave the best predictions as described in previous cells\n",
        "\n",
        "%%time\n",
        "from sklearn.ensemble import VotingRegressor\n",
        "model = VotingRegressor([('et', et),('rf',rf)],n_jobs=-1)\n",
        "model.fit(x_train,y_train)\n",
        "y_pred = model.predict(x_test)\n",
        "r2_test = r2_score(y_test, y_pred)\n",
        "rmse_test  = np.sqrt(mean_squared_error(y_test, y_pred))\n",
        "print(\"R2 Value: \", r2_test)\n",
        "print(\"RMSE: \",rmse_test)"
      ],
      "execution_count": 59,
      "outputs": [
        {
          "output_type": "stream",
          "text": [
            "R2 Value:  0.9925339752096655\n",
            "RMSE:  246.06754038813017\n",
            "CPU times: user 309 ms, sys: 200 ms, total: 509 ms\n",
            "Wall time: 7.4 s\n"
          ],
          "name": "stdout"
        }
      ]
    },
    {
      "cell_type": "markdown",
      "metadata": {
        "id": "W5yniOH48gqd"
      },
      "source": [
        "Finally, I used the VotingRegressor as my final model and trained it on the entire given training data. "
      ]
    },
    {
      "cell_type": "code",
      "metadata": {
        "colab": {
          "base_uri": "https://localhost:8080/"
        },
        "id": "FjgeS-bx60Xz",
        "outputId": "ef6ce7f9-ba2e-4486-e898-d78103f93b97"
      },
      "source": [
        "%%time\n",
        "\n",
        "model = VotingRegressor([('et', et),('rf',rf)],n_jobs=-1)\n",
        "\n",
        "model.fit(x,y)\n",
        "\n",
        "y_pred = model.predict(x)\n",
        "r2_test = r2_score(y, y_pred)\n",
        "rmse_test  = np.sqrt(mean_squared_error(y, y_pred))\n",
        "print(\"R2 Value: \", r2_test)\n",
        "print(\"RMSE: \",rmse_test)"
      ],
      "execution_count": 62,
      "outputs": [
        {
          "output_type": "stream",
          "text": [
            "R2 Value:  0.9995990972826119\n",
            "RMSE:  59.11473482914835\n",
            "CPU times: user 622 ms, sys: 257 ms, total: 879 ms\n",
            "Wall time: 10 s\n"
          ],
          "name": "stdout"
        }
      ]
    },
    {
      "cell_type": "code",
      "metadata": {
        "id": "Qy5CBoU760h4"
      },
      "source": [
        ""
      ],
      "execution_count": null,
      "outputs": []
    },
    {
      "cell_type": "markdown",
      "metadata": {
        "id": "X0Q4Bi-QtaVm"
      },
      "source": [
        "### Test data"
      ]
    },
    {
      "cell_type": "code",
      "metadata": {
        "colab": {
          "base_uri": "https://localhost:8080/",
          "height": 356
        },
        "id": "-nJCpB16tWC3",
        "outputId": "5a588652-0130-4dbb-b8e5-f983e6d3fe2a"
      },
      "source": [
        "test.head()"
      ],
      "execution_count": 63,
      "outputs": [
        {
          "output_type": "execute_result",
          "data": {
            "text/html": [
              "<div>\n",
              "<style scoped>\n",
              "    .dataframe tbody tr th:only-of-type {\n",
              "        vertical-align: middle;\n",
              "    }\n",
              "\n",
              "    .dataframe tbody tr th {\n",
              "        vertical-align: top;\n",
              "    }\n",
              "\n",
              "    .dataframe thead th {\n",
              "        text-align: right;\n",
              "    }\n",
              "</style>\n",
              "<table border=\"1\" class=\"dataframe\">\n",
              "  <thead>\n",
              "    <tr style=\"text-align: right;\">\n",
              "      <th></th>\n",
              "      <th>Product_id</th>\n",
              "      <th>Stall_no</th>\n",
              "      <th>instock_date</th>\n",
              "      <th>Market_Category</th>\n",
              "      <th>Customer_name</th>\n",
              "      <th>Loyalty_customer</th>\n",
              "      <th>Product_Category</th>\n",
              "      <th>Grade</th>\n",
              "      <th>Demand</th>\n",
              "      <th>Discount_avail</th>\n",
              "      <th>charges_1</th>\n",
              "      <th>charges_2 (%)</th>\n",
              "      <th>Minimum_price</th>\n",
              "      <th>Maximum_price</th>\n",
              "      <th>year</th>\n",
              "      <th>month</th>\n",
              "      <th>quarter</th>\n",
              "      <th>day of the week</th>\n",
              "      <th>Dayofyear</th>\n",
              "      <th>hour</th>\n",
              "    </tr>\n",
              "  </thead>\n",
              "  <tbody>\n",
              "    <tr>\n",
              "      <th>0</th>\n",
              "      <td>SCHE4YSTDVPVZVXW</td>\n",
              "      <td>39.0</td>\n",
              "      <td>2016-01-13 07:45:08</td>\n",
              "      <td>205</td>\n",
              "      <td>Ivanka</td>\n",
              "      <td>No</td>\n",
              "      <td>Fashion</td>\n",
              "      <td>0</td>\n",
              "      <td>90</td>\n",
              "      <td>0</td>\n",
              "      <td>380.0</td>\n",
              "      <td>16.0</td>\n",
              "      <td>2576.0</td>\n",
              "      <td>3340</td>\n",
              "      <td>2016</td>\n",
              "      <td>1</td>\n",
              "      <td>1</td>\n",
              "      <td>2</td>\n",
              "      <td>13</td>\n",
              "      <td>7</td>\n",
              "    </tr>\n",
              "    <tr>\n",
              "      <th>1</th>\n",
              "      <td>ACCEGCATKHNRXUHW</td>\n",
              "      <td>49.0</td>\n",
              "      <td>2015-08-23 20:37:05</td>\n",
              "      <td>3</td>\n",
              "      <td>Isaak</td>\n",
              "      <td>Yes</td>\n",
              "      <td>Fashion</td>\n",
              "      <td>0</td>\n",
              "      <td>87</td>\n",
              "      <td>0</td>\n",
              "      <td>393.0</td>\n",
              "      <td>16.0</td>\n",
              "      <td>1202.0</td>\n",
              "      <td>1955</td>\n",
              "      <td>2015</td>\n",
              "      <td>8</td>\n",
              "      <td>3</td>\n",
              "      <td>6</td>\n",
              "      <td>235</td>\n",
              "      <td>20</td>\n",
              "    </tr>\n",
              "    <tr>\n",
              "      <th>2</th>\n",
              "      <td>NKCE6GJ5XVJDXNNZ</td>\n",
              "      <td>1.0</td>\n",
              "      <td>2015-11-14 18:12:39</td>\n",
              "      <td>183</td>\n",
              "      <td>Analiese</td>\n",
              "      <td>No</td>\n",
              "      <td>Technology</td>\n",
              "      <td>2</td>\n",
              "      <td>55</td>\n",
              "      <td>0</td>\n",
              "      <td>493.0</td>\n",
              "      <td>9.0</td>\n",
              "      <td>7175.0</td>\n",
              "      <td>15715</td>\n",
              "      <td>2015</td>\n",
              "      <td>11</td>\n",
              "      <td>4</td>\n",
              "      <td>5</td>\n",
              "      <td>318</td>\n",
              "      <td>18</td>\n",
              "    </tr>\n",
              "    <tr>\n",
              "      <th>3</th>\n",
              "      <td>NKCEB8BK3ZXDHDHM</td>\n",
              "      <td>8.0</td>\n",
              "      <td>2015-11-21 04:56:19</td>\n",
              "      <td>358</td>\n",
              "      <td>Rusty</td>\n",
              "      <td>Yes</td>\n",
              "      <td>Child_care</td>\n",
              "      <td>3</td>\n",
              "      <td>86</td>\n",
              "      <td>0</td>\n",
              "      <td>303.0</td>\n",
              "      <td>16.0</td>\n",
              "      <td>5404.0</td>\n",
              "      <td>13078</td>\n",
              "      <td>2015</td>\n",
              "      <td>11</td>\n",
              "      <td>4</td>\n",
              "      <td>5</td>\n",
              "      <td>325</td>\n",
              "      <td>4</td>\n",
              "    </tr>\n",
              "    <tr>\n",
              "      <th>4</th>\n",
              "      <td>TOPEFDXSAHRNPF94</td>\n",
              "      <td>33.0</td>\n",
              "      <td>2015-05-06 15:09:46</td>\n",
              "      <td>167</td>\n",
              "      <td>Eloise</td>\n",
              "      <td>No</td>\n",
              "      <td>Technology</td>\n",
              "      <td>0</td>\n",
              "      <td>27</td>\n",
              "      <td>0</td>\n",
              "      <td>567.0</td>\n",
              "      <td>16.0</td>\n",
              "      <td>4069.0</td>\n",
              "      <td>6244</td>\n",
              "      <td>2015</td>\n",
              "      <td>5</td>\n",
              "      <td>2</td>\n",
              "      <td>2</td>\n",
              "      <td>126</td>\n",
              "      <td>15</td>\n",
              "    </tr>\n",
              "  </tbody>\n",
              "</table>\n",
              "</div>"
            ],
            "text/plain": [
              "         Product_id  Stall_no  ... Dayofyear  hour\n",
              "0  SCHE4YSTDVPVZVXW      39.0  ...        13     7\n",
              "1  ACCEGCATKHNRXUHW      49.0  ...       235    20\n",
              "2  NKCE6GJ5XVJDXNNZ       1.0  ...       318    18\n",
              "3  NKCEB8BK3ZXDHDHM       8.0  ...       325     4\n",
              "4  TOPEFDXSAHRNPF94      33.0  ...       126    15\n",
              "\n",
              "[5 rows x 20 columns]"
            ]
          },
          "metadata": {
            "tags": []
          },
          "execution_count": 63
        }
      ]
    },
    {
      "cell_type": "code",
      "metadata": {
        "colab": {
          "base_uri": "https://localhost:8080/"
        },
        "id": "wkZZSVT-thWG",
        "outputId": "cb92c2cd-2117-4ea9-dbdf-05348cbd76f3"
      },
      "source": [
        "# Finding number of null values in each column\n",
        "test.isnull().sum()\n"
      ],
      "execution_count": 64,
      "outputs": [
        {
          "output_type": "execute_result",
          "data": {
            "text/plain": [
              "Product_id           0\n",
              "Stall_no             1\n",
              "instock_date         0\n",
              "Market_Category      0\n",
              "Customer_name       53\n",
              "Loyalty_customer     0\n",
              "Product_Category     0\n",
              "Grade                0\n",
              "Demand               0\n",
              "Discount_avail       0\n",
              "charges_1           36\n",
              "charges_2 (%)        5\n",
              "Minimum_price       14\n",
              "Maximum_price        0\n",
              "year                 0\n",
              "month                0\n",
              "quarter              0\n",
              "day of the week      0\n",
              "Dayofyear            0\n",
              "hour                 0\n",
              "dtype: int64"
            ]
          },
          "metadata": {
            "tags": []
          },
          "execution_count": 64
        }
      ]
    },
    {
      "cell_type": "code",
      "metadata": {
        "id": "itSL1-7xPosD"
      },
      "source": [
        "test['Customer_name'] = test['Customer_name'].fillna(test['Customer_name'].mode()[0])\n"
      ],
      "execution_count": 65,
      "outputs": []
    },
    {
      "cell_type": "code",
      "metadata": {
        "colab": {
          "base_uri": "https://localhost:8080/",
          "height": 356
        },
        "id": "TGxEP2PZzWk8",
        "outputId": "a22915fa-0fbd-4700-fc9f-e54c8918a004"
      },
      "source": [
        "test.head()"
      ],
      "execution_count": 66,
      "outputs": [
        {
          "output_type": "execute_result",
          "data": {
            "text/html": [
              "<div>\n",
              "<style scoped>\n",
              "    .dataframe tbody tr th:only-of-type {\n",
              "        vertical-align: middle;\n",
              "    }\n",
              "\n",
              "    .dataframe tbody tr th {\n",
              "        vertical-align: top;\n",
              "    }\n",
              "\n",
              "    .dataframe thead th {\n",
              "        text-align: right;\n",
              "    }\n",
              "</style>\n",
              "<table border=\"1\" class=\"dataframe\">\n",
              "  <thead>\n",
              "    <tr style=\"text-align: right;\">\n",
              "      <th></th>\n",
              "      <th>Product_id</th>\n",
              "      <th>Stall_no</th>\n",
              "      <th>instock_date</th>\n",
              "      <th>Market_Category</th>\n",
              "      <th>Customer_name</th>\n",
              "      <th>Loyalty_customer</th>\n",
              "      <th>Product_Category</th>\n",
              "      <th>Grade</th>\n",
              "      <th>Demand</th>\n",
              "      <th>Discount_avail</th>\n",
              "      <th>charges_1</th>\n",
              "      <th>charges_2 (%)</th>\n",
              "      <th>Minimum_price</th>\n",
              "      <th>Maximum_price</th>\n",
              "      <th>year</th>\n",
              "      <th>month</th>\n",
              "      <th>quarter</th>\n",
              "      <th>day of the week</th>\n",
              "      <th>Dayofyear</th>\n",
              "      <th>hour</th>\n",
              "    </tr>\n",
              "  </thead>\n",
              "  <tbody>\n",
              "    <tr>\n",
              "      <th>0</th>\n",
              "      <td>SCHE4YSTDVPVZVXW</td>\n",
              "      <td>39.0</td>\n",
              "      <td>2016-01-13 07:45:08</td>\n",
              "      <td>205</td>\n",
              "      <td>Ivanka</td>\n",
              "      <td>No</td>\n",
              "      <td>Fashion</td>\n",
              "      <td>0</td>\n",
              "      <td>90</td>\n",
              "      <td>0</td>\n",
              "      <td>380.0</td>\n",
              "      <td>16.0</td>\n",
              "      <td>2576.0</td>\n",
              "      <td>3340</td>\n",
              "      <td>2016</td>\n",
              "      <td>1</td>\n",
              "      <td>1</td>\n",
              "      <td>2</td>\n",
              "      <td>13</td>\n",
              "      <td>7</td>\n",
              "    </tr>\n",
              "    <tr>\n",
              "      <th>1</th>\n",
              "      <td>ACCEGCATKHNRXUHW</td>\n",
              "      <td>49.0</td>\n",
              "      <td>2015-08-23 20:37:05</td>\n",
              "      <td>3</td>\n",
              "      <td>Isaak</td>\n",
              "      <td>Yes</td>\n",
              "      <td>Fashion</td>\n",
              "      <td>0</td>\n",
              "      <td>87</td>\n",
              "      <td>0</td>\n",
              "      <td>393.0</td>\n",
              "      <td>16.0</td>\n",
              "      <td>1202.0</td>\n",
              "      <td>1955</td>\n",
              "      <td>2015</td>\n",
              "      <td>8</td>\n",
              "      <td>3</td>\n",
              "      <td>6</td>\n",
              "      <td>235</td>\n",
              "      <td>20</td>\n",
              "    </tr>\n",
              "    <tr>\n",
              "      <th>2</th>\n",
              "      <td>NKCE6GJ5XVJDXNNZ</td>\n",
              "      <td>1.0</td>\n",
              "      <td>2015-11-14 18:12:39</td>\n",
              "      <td>183</td>\n",
              "      <td>Analiese</td>\n",
              "      <td>No</td>\n",
              "      <td>Technology</td>\n",
              "      <td>2</td>\n",
              "      <td>55</td>\n",
              "      <td>0</td>\n",
              "      <td>493.0</td>\n",
              "      <td>9.0</td>\n",
              "      <td>7175.0</td>\n",
              "      <td>15715</td>\n",
              "      <td>2015</td>\n",
              "      <td>11</td>\n",
              "      <td>4</td>\n",
              "      <td>5</td>\n",
              "      <td>318</td>\n",
              "      <td>18</td>\n",
              "    </tr>\n",
              "    <tr>\n",
              "      <th>3</th>\n",
              "      <td>NKCEB8BK3ZXDHDHM</td>\n",
              "      <td>8.0</td>\n",
              "      <td>2015-11-21 04:56:19</td>\n",
              "      <td>358</td>\n",
              "      <td>Rusty</td>\n",
              "      <td>Yes</td>\n",
              "      <td>Child_care</td>\n",
              "      <td>3</td>\n",
              "      <td>86</td>\n",
              "      <td>0</td>\n",
              "      <td>303.0</td>\n",
              "      <td>16.0</td>\n",
              "      <td>5404.0</td>\n",
              "      <td>13078</td>\n",
              "      <td>2015</td>\n",
              "      <td>11</td>\n",
              "      <td>4</td>\n",
              "      <td>5</td>\n",
              "      <td>325</td>\n",
              "      <td>4</td>\n",
              "    </tr>\n",
              "    <tr>\n",
              "      <th>4</th>\n",
              "      <td>TOPEFDXSAHRNPF94</td>\n",
              "      <td>33.0</td>\n",
              "      <td>2015-05-06 15:09:46</td>\n",
              "      <td>167</td>\n",
              "      <td>Eloise</td>\n",
              "      <td>No</td>\n",
              "      <td>Technology</td>\n",
              "      <td>0</td>\n",
              "      <td>27</td>\n",
              "      <td>0</td>\n",
              "      <td>567.0</td>\n",
              "      <td>16.0</td>\n",
              "      <td>4069.0</td>\n",
              "      <td>6244</td>\n",
              "      <td>2015</td>\n",
              "      <td>5</td>\n",
              "      <td>2</td>\n",
              "      <td>2</td>\n",
              "      <td>126</td>\n",
              "      <td>15</td>\n",
              "    </tr>\n",
              "  </tbody>\n",
              "</table>\n",
              "</div>"
            ],
            "text/plain": [
              "         Product_id  Stall_no  ... Dayofyear  hour\n",
              "0  SCHE4YSTDVPVZVXW      39.0  ...        13     7\n",
              "1  ACCEGCATKHNRXUHW      49.0  ...       235    20\n",
              "2  NKCE6GJ5XVJDXNNZ       1.0  ...       318    18\n",
              "3  NKCEB8BK3ZXDHDHM       8.0  ...       325     4\n",
              "4  TOPEFDXSAHRNPF94      33.0  ...       126    15\n",
              "\n",
              "[5 rows x 20 columns]"
            ]
          },
          "metadata": {
            "tags": []
          },
          "execution_count": 66
        }
      ]
    },
    {
      "cell_type": "code",
      "metadata": {
        "id": "qC4ffTSBuF4Q"
      },
      "source": [
        "# Applying Label Encoding to categorical columns\n",
        "from sklearn import preprocessing \n",
        "label_encoder = preprocessing.LabelEncoder() \n",
        "\n",
        "# Encode labels in column 'Customer_name'. \n",
        "test['Customer_name']= label_encoder.fit_transform(test['Customer_name']) \n",
        "\n",
        "# Encode labels in column 'Loyalty_customer'. \n",
        "test['Loyalty_customer']= label_encoder.fit_transform(test['Loyalty_customer']) \n",
        "\n",
        "# Encode labels in column 'Product_Category'. \n",
        "test['Product_Category']= label_encoder.fit_transform(test['Product_Category']) \n"
      ],
      "execution_count": 67,
      "outputs": []
    },
    {
      "cell_type": "code",
      "metadata": {
        "id": "B-9cpMn8uYoP"
      },
      "source": [
        "test['charges_1'] = test['charges_1'].fillna(test['charges_1'].mean())\n",
        "test['charges_2 (%)'] = test['charges_2 (%)'].fillna(test['charges_2 (%)'].mean())\n",
        "test['Minimum_price'] = test['Minimum_price'].fillna(test['Minimum_price'].mean())\n",
        "test['Stall_no'] = test['Stall_no'].fillna(test['Stall_no'].median())\n"
      ],
      "execution_count": 68,
      "outputs": []
    },
    {
      "cell_type": "code",
      "metadata": {
        "id": "CCQ-KRlEdKZn"
      },
      "source": [
        "test['charges_1 (%)'] = test['charges_1'] /100\n",
        "test['charges_2'] = test['charges_2 (%)'] *100\n",
        "test[\"total_charges\"]= test['charges_1']+train['charges_2']"
      ],
      "execution_count": 69,
      "outputs": []
    },
    {
      "cell_type": "code",
      "metadata": {
        "id": "lC91xcatdj3g"
      },
      "source": [
        "test[\"range\"] = test['Maximum_price']-test['Minimum_price']"
      ],
      "execution_count": 70,
      "outputs": []
    },
    {
      "cell_type": "code",
      "metadata": {
        "id": "OzAsuiEYeqwF"
      },
      "source": [
        "test[\"total_charges\"] = test[\"total_charges\"].fillna(test[\"total_charges\"].mean())\n"
      ],
      "execution_count": 71,
      "outputs": []
    },
    {
      "cell_type": "code",
      "metadata": {
        "id": "sAK6mTWfwJ0S"
      },
      "source": [
        "p_id = test[\"Product_id\"]\n",
        "test = test.drop([\"Product_id\",\"instock_date\"],axis =1)"
      ],
      "execution_count": 72,
      "outputs": []
    },
    {
      "cell_type": "code",
      "metadata": {
        "id": "nj3S4arhwoMx"
      },
      "source": [
        "prediction = model.predict(test)"
      ],
      "execution_count": 75,
      "outputs": []
    },
    {
      "cell_type": "code",
      "metadata": {
        "colab": {
          "base_uri": "https://localhost:8080/",
          "height": 408
        },
        "id": "HT6I4qNkwxTT",
        "outputId": "979a3f69-33da-4e00-fb57-dcd554b414e0"
      },
      "source": [
        "prediction = pd.DataFrame(prediction)\n",
        "prediction"
      ],
      "execution_count": 76,
      "outputs": [
        {
          "output_type": "execute_result",
          "data": {
            "text/html": [
              "<div>\n",
              "<style scoped>\n",
              "    .dataframe tbody tr th:only-of-type {\n",
              "        vertical-align: middle;\n",
              "    }\n",
              "\n",
              "    .dataframe tbody tr th {\n",
              "        vertical-align: top;\n",
              "    }\n",
              "\n",
              "    .dataframe thead th {\n",
              "        text-align: right;\n",
              "    }\n",
              "</style>\n",
              "<table border=\"1\" class=\"dataframe\">\n",
              "  <thead>\n",
              "    <tr style=\"text-align: right;\">\n",
              "      <th></th>\n",
              "      <th>0</th>\n",
              "    </tr>\n",
              "  </thead>\n",
              "  <tbody>\n",
              "    <tr>\n",
              "      <th>0</th>\n",
              "      <td>3247.055746</td>\n",
              "    </tr>\n",
              "    <tr>\n",
              "      <th>1</th>\n",
              "      <td>1960.831272</td>\n",
              "    </tr>\n",
              "    <tr>\n",
              "      <th>2</th>\n",
              "      <td>11729.318566</td>\n",
              "    </tr>\n",
              "    <tr>\n",
              "      <th>3</th>\n",
              "      <td>9362.503159</td>\n",
              "    </tr>\n",
              "    <tr>\n",
              "      <th>4</th>\n",
              "      <td>5641.617289</td>\n",
              "    </tr>\n",
              "    <tr>\n",
              "      <th>...</th>\n",
              "      <td>...</td>\n",
              "    </tr>\n",
              "    <tr>\n",
              "      <th>3425</th>\n",
              "      <td>3988.357157</td>\n",
              "    </tr>\n",
              "    <tr>\n",
              "      <th>3426</th>\n",
              "      <td>9370.407336</td>\n",
              "    </tr>\n",
              "    <tr>\n",
              "      <th>3427</th>\n",
              "      <td>6362.561007</td>\n",
              "    </tr>\n",
              "    <tr>\n",
              "      <th>3428</th>\n",
              "      <td>3472.185448</td>\n",
              "    </tr>\n",
              "    <tr>\n",
              "      <th>3429</th>\n",
              "      <td>1019.514477</td>\n",
              "    </tr>\n",
              "  </tbody>\n",
              "</table>\n",
              "<p>3430 rows × 1 columns</p>\n",
              "</div>"
            ],
            "text/plain": [
              "                 0\n",
              "0      3247.055746\n",
              "1      1960.831272\n",
              "2     11729.318566\n",
              "3      9362.503159\n",
              "4      5641.617289\n",
              "...            ...\n",
              "3425   3988.357157\n",
              "3426   9370.407336\n",
              "3427   6362.561007\n",
              "3428   3472.185448\n",
              "3429   1019.514477\n",
              "\n",
              "[3430 rows x 1 columns]"
            ]
          },
          "metadata": {
            "tags": []
          },
          "execution_count": 76
        }
      ]
    },
    {
      "cell_type": "code",
      "metadata": {
        "id": "UnBVYnhUxCyk"
      },
      "source": [
        "Prediction = pd.concat([p_id,prediction],axis =1)"
      ],
      "execution_count": 77,
      "outputs": []
    },
    {
      "cell_type": "code",
      "metadata": {
        "colab": {
          "base_uri": "https://localhost:8080/",
          "height": 408
        },
        "id": "s4tX8Yeaxd-S",
        "outputId": "c74991fa-cdc1-4706-c8ab-bfe3888a7385"
      },
      "source": [
        "Prediction"
      ],
      "execution_count": 78,
      "outputs": [
        {
          "output_type": "execute_result",
          "data": {
            "text/html": [
              "<div>\n",
              "<style scoped>\n",
              "    .dataframe tbody tr th:only-of-type {\n",
              "        vertical-align: middle;\n",
              "    }\n",
              "\n",
              "    .dataframe tbody tr th {\n",
              "        vertical-align: top;\n",
              "    }\n",
              "\n",
              "    .dataframe thead th {\n",
              "        text-align: right;\n",
              "    }\n",
              "</style>\n",
              "<table border=\"1\" class=\"dataframe\">\n",
              "  <thead>\n",
              "    <tr style=\"text-align: right;\">\n",
              "      <th></th>\n",
              "      <th>Product_id</th>\n",
              "      <th>0</th>\n",
              "    </tr>\n",
              "  </thead>\n",
              "  <tbody>\n",
              "    <tr>\n",
              "      <th>0</th>\n",
              "      <td>SCHE4YSTDVPVZVXW</td>\n",
              "      <td>3247.055746</td>\n",
              "    </tr>\n",
              "    <tr>\n",
              "      <th>1</th>\n",
              "      <td>ACCEGCATKHNRXUHW</td>\n",
              "      <td>1960.831272</td>\n",
              "    </tr>\n",
              "    <tr>\n",
              "      <th>2</th>\n",
              "      <td>NKCE6GJ5XVJDXNNZ</td>\n",
              "      <td>11729.318566</td>\n",
              "    </tr>\n",
              "    <tr>\n",
              "      <th>3</th>\n",
              "      <td>NKCEB8BK3ZXDHDHM</td>\n",
              "      <td>9362.503159</td>\n",
              "    </tr>\n",
              "    <tr>\n",
              "      <th>4</th>\n",
              "      <td>TOPEFDXSAHRNPF94</td>\n",
              "      <td>5641.617289</td>\n",
              "    </tr>\n",
              "    <tr>\n",
              "      <th>...</th>\n",
              "      <td>...</td>\n",
              "      <td>...</td>\n",
              "    </tr>\n",
              "    <tr>\n",
              "      <th>3425</th>\n",
              "      <td>BBAE9K7BXFUTDNBK</td>\n",
              "      <td>3988.357157</td>\n",
              "    </tr>\n",
              "    <tr>\n",
              "      <th>3426</th>\n",
              "      <td>RTRDYPA4PJHCJCGF</td>\n",
              "      <td>9370.407336</td>\n",
              "    </tr>\n",
              "    <tr>\n",
              "      <th>3427</th>\n",
              "      <td>TUNE8FWQBS7TVVT7</td>\n",
              "      <td>6362.561007</td>\n",
              "    </tr>\n",
              "    <tr>\n",
              "      <th>3428</th>\n",
              "      <td>NKCEGMUABCRGUZPE</td>\n",
              "      <td>3472.185448</td>\n",
              "    </tr>\n",
              "    <tr>\n",
              "      <th>3429</th>\n",
              "      <td>RNGE7M92KAQWUBCS</td>\n",
              "      <td>1019.514477</td>\n",
              "    </tr>\n",
              "  </tbody>\n",
              "</table>\n",
              "<p>3430 rows × 2 columns</p>\n",
              "</div>"
            ],
            "text/plain": [
              "            Product_id             0\n",
              "0     SCHE4YSTDVPVZVXW   3247.055746\n",
              "1     ACCEGCATKHNRXUHW   1960.831272\n",
              "2     NKCE6GJ5XVJDXNNZ  11729.318566\n",
              "3     NKCEB8BK3ZXDHDHM   9362.503159\n",
              "4     TOPEFDXSAHRNPF94   5641.617289\n",
              "...                ...           ...\n",
              "3425  BBAE9K7BXFUTDNBK   3988.357157\n",
              "3426  RTRDYPA4PJHCJCGF   9370.407336\n",
              "3427  TUNE8FWQBS7TVVT7   6362.561007\n",
              "3428  NKCEGMUABCRGUZPE   3472.185448\n",
              "3429  RNGE7M92KAQWUBCS   1019.514477\n",
              "\n",
              "[3430 rows x 2 columns]"
            ]
          },
          "metadata": {
            "tags": []
          },
          "execution_count": 78
        }
      ]
    },
    {
      "cell_type": "markdown",
      "metadata": {
        "id": "O59u-lUU-7jx"
      },
      "source": [
        "The final model led to a public score of 90.03197 and leaderboard rank 75."
      ]
    }
  ]
}