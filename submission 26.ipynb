{
  "nbformat": 4,
  "nbformat_minor": 0,
  "metadata": {
    "colab": {
      "name": "9eb6171a30-Carnival_Wars_hackerearth_ml_challenge.ipynb",
      "provenance": [],
      "collapsed_sections": []
    },
    "kernelspec": {
      "name": "python3",
      "display_name": "Python 3"
    }
  },
  "cells": [
    {
      "cell_type": "markdown",
      "metadata": {
        "id": "I9r4XlBOn1sn"
      },
      "source": [
        "### Importing Modules"
      ]
    },
    {
      "cell_type": "code",
      "metadata": {
        "id": "q0KeA6IFnD5z"
      },
      "source": [
        "import numpy as np\n",
        "import pandas as pd\n",
        "import datetime\n",
        "import matplotlib.pyplot as plt\n",
        "import seaborn as sns\n",
        "from sklearn.model_selection import train_test_split\n",
        "from sklearn.metrics import mean_squared_error\n",
        "from sklearn import datasets, linear_model, metrics\n",
        "from matplotlib import pyplot"
      ],
      "execution_count": 164,
      "outputs": []
    },
    {
      "cell_type": "markdown",
      "metadata": {
        "id": "7xxHXiMRn_F4"
      },
      "source": [
        "### Loading the dataset"
      ]
    },
    {
      "cell_type": "code",
      "metadata": {
        "id": "Jq7B9KrinfYJ"
      },
      "source": [
        "train = pd.read_csv(\"/content/train.csv\")\n",
        "test = pd.read_csv('/content/test.csv')"
      ],
      "execution_count": 167,
      "outputs": []
    },
    {
      "cell_type": "code",
      "metadata": {
        "colab": {
          "base_uri": "https://localhost:8080/",
          "height": 322
        },
        "id": "XJmmfLq8nxLq",
        "outputId": "89e344b4-dc46-4bb2-e454-13d4c54500e1"
      },
      "source": [
        "train.head()"
      ],
      "execution_count": 168,
      "outputs": [
        {
          "output_type": "execute_result",
          "data": {
            "text/html": [
              "<div>\n",
              "<style scoped>\n",
              "    .dataframe tbody tr th:only-of-type {\n",
              "        vertical-align: middle;\n",
              "    }\n",
              "\n",
              "    .dataframe tbody tr th {\n",
              "        vertical-align: top;\n",
              "    }\n",
              "\n",
              "    .dataframe thead th {\n",
              "        text-align: right;\n",
              "    }\n",
              "</style>\n",
              "<table border=\"1\" class=\"dataframe\">\n",
              "  <thead>\n",
              "    <tr style=\"text-align: right;\">\n",
              "      <th></th>\n",
              "      <th>Product_id</th>\n",
              "      <th>Stall_no</th>\n",
              "      <th>instock_date</th>\n",
              "      <th>Market_Category</th>\n",
              "      <th>Customer_name</th>\n",
              "      <th>Loyalty_customer</th>\n",
              "      <th>Product_Category</th>\n",
              "      <th>Grade</th>\n",
              "      <th>Demand</th>\n",
              "      <th>Discount_avail</th>\n",
              "      <th>charges_1</th>\n",
              "      <th>charges_2 (%)</th>\n",
              "      <th>Minimum_price</th>\n",
              "      <th>Maximum_price</th>\n",
              "      <th>Selling_Price</th>\n",
              "    </tr>\n",
              "  </thead>\n",
              "  <tbody>\n",
              "    <tr>\n",
              "      <th>0</th>\n",
              "      <td>BRAE2NF6JA5GUEXG</td>\n",
              "      <td>37.0</td>\n",
              "      <td>2015-08-22 18:36:12.000</td>\n",
              "      <td>2</td>\n",
              "      <td>Lillyann</td>\n",
              "      <td>Yes</td>\n",
              "      <td>Fashion</td>\n",
              "      <td>1</td>\n",
              "      <td>68</td>\n",
              "      <td>0.0</td>\n",
              "      <td>376.0</td>\n",
              "      <td>11.0</td>\n",
              "      <td>2983.0</td>\n",
              "      <td>4713.0</td>\n",
              "      <td>4185.947700</td>\n",
              "    </tr>\n",
              "    <tr>\n",
              "      <th>1</th>\n",
              "      <td>TUNE8SFB6RJN2HSD</td>\n",
              "      <td>38.0</td>\n",
              "      <td>2016-03-27 21:19:13.000</td>\n",
              "      <td>24</td>\n",
              "      <td>Klynn</td>\n",
              "      <td>Yes</td>\n",
              "      <td>Fashion</td>\n",
              "      <td>0</td>\n",
              "      <td>51</td>\n",
              "      <td>0.0</td>\n",
              "      <td>397.0</td>\n",
              "      <td>12.0</td>\n",
              "      <td>7495.0</td>\n",
              "      <td>10352.0</td>\n",
              "      <td>9271.490256</td>\n",
              "    </tr>\n",
              "    <tr>\n",
              "      <th>2</th>\n",
              "      <td>BRAEAR7WZPQGPBZU</td>\n",
              "      <td>9.0</td>\n",
              "      <td>2015-08-18 19:25:22.000</td>\n",
              "      <td>447</td>\n",
              "      <td>Ridge</td>\n",
              "      <td>Yes</td>\n",
              "      <td>Child_care</td>\n",
              "      <td>0</td>\n",
              "      <td>10</td>\n",
              "      <td>0.0</td>\n",
              "      <td>250.0</td>\n",
              "      <td>9.0</td>\n",
              "      <td>5752.0</td>\n",
              "      <td>7309.0</td>\n",
              "      <td>6785.701362</td>\n",
              "    </tr>\n",
              "    <tr>\n",
              "      <th>3</th>\n",
              "      <td>WATDZ2ZQ8JPDHCTJ</td>\n",
              "      <td>50.0</td>\n",
              "      <td>2016-03-28 21:53:01.000</td>\n",
              "      <td>23</td>\n",
              "      <td>Abran</td>\n",
              "      <td>Yes</td>\n",
              "      <td>Educational</td>\n",
              "      <td>2</td>\n",
              "      <td>48</td>\n",
              "      <td>0.0</td>\n",
              "      <td>144.0</td>\n",
              "      <td>13.0</td>\n",
              "      <td>5090.0</td>\n",
              "      <td>20814.0</td>\n",
              "      <td>13028.917824</td>\n",
              "    </tr>\n",
              "    <tr>\n",
              "      <th>4</th>\n",
              "      <td>JWSEBUKYQPMBZ3RK</td>\n",
              "      <td>7.0</td>\n",
              "      <td>2016-03-29 22:58:53.000</td>\n",
              "      <td>63</td>\n",
              "      <td>Dustyn</td>\n",
              "      <td>Yes</td>\n",
              "      <td>Repair</td>\n",
              "      <td>1</td>\n",
              "      <td>35</td>\n",
              "      <td>1.0</td>\n",
              "      <td>211.0</td>\n",
              "      <td>4.0</td>\n",
              "      <td>2430.0</td>\n",
              "      <td>9261.0</td>\n",
              "      <td>906.553935</td>\n",
              "    </tr>\n",
              "  </tbody>\n",
              "</table>\n",
              "</div>"
            ],
            "text/plain": [
              "         Product_id  Stall_no  ... Maximum_price  Selling_Price\n",
              "0  BRAE2NF6JA5GUEXG      37.0  ...        4713.0    4185.947700\n",
              "1  TUNE8SFB6RJN2HSD      38.0  ...       10352.0    9271.490256\n",
              "2  BRAEAR7WZPQGPBZU       9.0  ...        7309.0    6785.701362\n",
              "3  WATDZ2ZQ8JPDHCTJ      50.0  ...       20814.0   13028.917824\n",
              "4  JWSEBUKYQPMBZ3RK       7.0  ...        9261.0     906.553935\n",
              "\n",
              "[5 rows x 15 columns]"
            ]
          },
          "metadata": {
            "tags": []
          },
          "execution_count": 168
        }
      ]
    },
    {
      "cell_type": "code",
      "metadata": {
        "colab": {
          "base_uri": "https://localhost:8080/"
        },
        "id": "vmBouyp-oQHY",
        "outputId": "af7277e2-5279-4992-bc5e-ebb9c0f95f0b"
      },
      "source": [
        "train.dtypes"
      ],
      "execution_count": 169,
      "outputs": [
        {
          "output_type": "execute_result",
          "data": {
            "text/plain": [
              "Product_id           object\n",
              "Stall_no            float64\n",
              "instock_date         object\n",
              "Market_Category       int64\n",
              "Customer_name        object\n",
              "Loyalty_customer     object\n",
              "Product_Category     object\n",
              "Grade                 int64\n",
              "Demand                int64\n",
              "Discount_avail      float64\n",
              "charges_1           float64\n",
              "charges_2 (%)       float64\n",
              "Minimum_price       float64\n",
              "Maximum_price       float64\n",
              "Selling_Price       float64\n",
              "dtype: object"
            ]
          },
          "metadata": {
            "tags": []
          },
          "execution_count": 169
        }
      ]
    },
    {
      "cell_type": "markdown",
      "metadata": {
        "id": "kRX0DIYJt8Vl"
      },
      "source": [
        "#### New Features using datetime from 'instock_date'"
      ]
    },
    {
      "cell_type": "code",
      "metadata": {
        "id": "HOScvy7tqc-7"
      },
      "source": [
        "# For train data\n",
        "train['instock_date']= pd.to_datetime(train['instock_date'])\n",
        "train['year'] = train['instock_date'].dt.year\n",
        "train['month'] =  train['instock_date'].dt.month\n",
        "train['quarter'] = train['instock_date'].dt.quarter\n",
        "train['day of the week'] = train['instock_date'].dt.dayofweek # Monday = 0 & Sunday = 6\n",
        "# train['dayofweek_name'] = train['instock_date'].dt.day_name()\n",
        "#train[\"week_of_the_year\"] =  train['instock_date'].dt.weekofyear\n",
        "train['Dayofyear'] = train['instock_date'].dt.dayofyear\n",
        "train[\"hour\"] = train['instock_date'].dt.hour\n"
      ],
      "execution_count": 170,
      "outputs": []
    },
    {
      "cell_type": "code",
      "metadata": {
        "id": "v4Yq3vByvGIs"
      },
      "source": [
        "# For test data\n",
        "test['instock_date']= pd.to_datetime(test['instock_date'])\n",
        "test['year'] = test['instock_date'].dt.year\n",
        "test['month'] =  test['instock_date'].dt.month\n",
        "test['quarter'] = test['instock_date'].dt.quarter\n",
        "test['day of the week'] = test['instock_date'].dt.dayofweek # Monday = 0 & Sunday = 6\n",
        "# train['dayofweek_name'] = train['instock_date'].dt.day_name()\n",
        "#train[\"week_of_the_year\"] =  train['instock_date'].dt.weekofyear\n",
        "test['Dayofyear'] = test['instock_date'].dt.dayofyear\n",
        "test[\"hour\"] = test['instock_date'].dt.hour"
      ],
      "execution_count": 171,
      "outputs": []
    },
    {
      "cell_type": "code",
      "metadata": {
        "colab": {
          "base_uri": "https://localhost:8080/",
          "height": 356
        },
        "id": "2JewRI2NsMyH",
        "outputId": "cb0a6ac0-6211-4ff6-f937-84e0951602f2"
      },
      "source": [
        "train.head()"
      ],
      "execution_count": 172,
      "outputs": [
        {
          "output_type": "execute_result",
          "data": {
            "text/html": [
              "<div>\n",
              "<style scoped>\n",
              "    .dataframe tbody tr th:only-of-type {\n",
              "        vertical-align: middle;\n",
              "    }\n",
              "\n",
              "    .dataframe tbody tr th {\n",
              "        vertical-align: top;\n",
              "    }\n",
              "\n",
              "    .dataframe thead th {\n",
              "        text-align: right;\n",
              "    }\n",
              "</style>\n",
              "<table border=\"1\" class=\"dataframe\">\n",
              "  <thead>\n",
              "    <tr style=\"text-align: right;\">\n",
              "      <th></th>\n",
              "      <th>Product_id</th>\n",
              "      <th>Stall_no</th>\n",
              "      <th>instock_date</th>\n",
              "      <th>Market_Category</th>\n",
              "      <th>Customer_name</th>\n",
              "      <th>Loyalty_customer</th>\n",
              "      <th>Product_Category</th>\n",
              "      <th>Grade</th>\n",
              "      <th>Demand</th>\n",
              "      <th>Discount_avail</th>\n",
              "      <th>charges_1</th>\n",
              "      <th>charges_2 (%)</th>\n",
              "      <th>Minimum_price</th>\n",
              "      <th>Maximum_price</th>\n",
              "      <th>Selling_Price</th>\n",
              "      <th>year</th>\n",
              "      <th>month</th>\n",
              "      <th>quarter</th>\n",
              "      <th>day of the week</th>\n",
              "      <th>Dayofyear</th>\n",
              "      <th>hour</th>\n",
              "    </tr>\n",
              "  </thead>\n",
              "  <tbody>\n",
              "    <tr>\n",
              "      <th>0</th>\n",
              "      <td>BRAE2NF6JA5GUEXG</td>\n",
              "      <td>37.0</td>\n",
              "      <td>2015-08-22 18:36:12</td>\n",
              "      <td>2</td>\n",
              "      <td>Lillyann</td>\n",
              "      <td>Yes</td>\n",
              "      <td>Fashion</td>\n",
              "      <td>1</td>\n",
              "      <td>68</td>\n",
              "      <td>0.0</td>\n",
              "      <td>376.0</td>\n",
              "      <td>11.0</td>\n",
              "      <td>2983.0</td>\n",
              "      <td>4713.0</td>\n",
              "      <td>4185.947700</td>\n",
              "      <td>2015</td>\n",
              "      <td>8</td>\n",
              "      <td>3</td>\n",
              "      <td>5</td>\n",
              "      <td>234</td>\n",
              "      <td>18</td>\n",
              "    </tr>\n",
              "    <tr>\n",
              "      <th>1</th>\n",
              "      <td>TUNE8SFB6RJN2HSD</td>\n",
              "      <td>38.0</td>\n",
              "      <td>2016-03-27 21:19:13</td>\n",
              "      <td>24</td>\n",
              "      <td>Klynn</td>\n",
              "      <td>Yes</td>\n",
              "      <td>Fashion</td>\n",
              "      <td>0</td>\n",
              "      <td>51</td>\n",
              "      <td>0.0</td>\n",
              "      <td>397.0</td>\n",
              "      <td>12.0</td>\n",
              "      <td>7495.0</td>\n",
              "      <td>10352.0</td>\n",
              "      <td>9271.490256</td>\n",
              "      <td>2016</td>\n",
              "      <td>3</td>\n",
              "      <td>1</td>\n",
              "      <td>6</td>\n",
              "      <td>87</td>\n",
              "      <td>21</td>\n",
              "    </tr>\n",
              "    <tr>\n",
              "      <th>2</th>\n",
              "      <td>BRAEAR7WZPQGPBZU</td>\n",
              "      <td>9.0</td>\n",
              "      <td>2015-08-18 19:25:22</td>\n",
              "      <td>447</td>\n",
              "      <td>Ridge</td>\n",
              "      <td>Yes</td>\n",
              "      <td>Child_care</td>\n",
              "      <td>0</td>\n",
              "      <td>10</td>\n",
              "      <td>0.0</td>\n",
              "      <td>250.0</td>\n",
              "      <td>9.0</td>\n",
              "      <td>5752.0</td>\n",
              "      <td>7309.0</td>\n",
              "      <td>6785.701362</td>\n",
              "      <td>2015</td>\n",
              "      <td>8</td>\n",
              "      <td>3</td>\n",
              "      <td>1</td>\n",
              "      <td>230</td>\n",
              "      <td>19</td>\n",
              "    </tr>\n",
              "    <tr>\n",
              "      <th>3</th>\n",
              "      <td>WATDZ2ZQ8JPDHCTJ</td>\n",
              "      <td>50.0</td>\n",
              "      <td>2016-03-28 21:53:01</td>\n",
              "      <td>23</td>\n",
              "      <td>Abran</td>\n",
              "      <td>Yes</td>\n",
              "      <td>Educational</td>\n",
              "      <td>2</td>\n",
              "      <td>48</td>\n",
              "      <td>0.0</td>\n",
              "      <td>144.0</td>\n",
              "      <td>13.0</td>\n",
              "      <td>5090.0</td>\n",
              "      <td>20814.0</td>\n",
              "      <td>13028.917824</td>\n",
              "      <td>2016</td>\n",
              "      <td>3</td>\n",
              "      <td>1</td>\n",
              "      <td>0</td>\n",
              "      <td>88</td>\n",
              "      <td>21</td>\n",
              "    </tr>\n",
              "    <tr>\n",
              "      <th>4</th>\n",
              "      <td>JWSEBUKYQPMBZ3RK</td>\n",
              "      <td>7.0</td>\n",
              "      <td>2016-03-29 22:58:53</td>\n",
              "      <td>63</td>\n",
              "      <td>Dustyn</td>\n",
              "      <td>Yes</td>\n",
              "      <td>Repair</td>\n",
              "      <td>1</td>\n",
              "      <td>35</td>\n",
              "      <td>1.0</td>\n",
              "      <td>211.0</td>\n",
              "      <td>4.0</td>\n",
              "      <td>2430.0</td>\n",
              "      <td>9261.0</td>\n",
              "      <td>906.553935</td>\n",
              "      <td>2016</td>\n",
              "      <td>3</td>\n",
              "      <td>1</td>\n",
              "      <td>1</td>\n",
              "      <td>89</td>\n",
              "      <td>22</td>\n",
              "    </tr>\n",
              "  </tbody>\n",
              "</table>\n",
              "</div>"
            ],
            "text/plain": [
              "         Product_id  Stall_no  ... Dayofyear  hour\n",
              "0  BRAE2NF6JA5GUEXG      37.0  ...       234    18\n",
              "1  TUNE8SFB6RJN2HSD      38.0  ...        87    21\n",
              "2  BRAEAR7WZPQGPBZU       9.0  ...       230    19\n",
              "3  WATDZ2ZQ8JPDHCTJ      50.0  ...        88    21\n",
              "4  JWSEBUKYQPMBZ3RK       7.0  ...        89    22\n",
              "\n",
              "[5 rows x 21 columns]"
            ]
          },
          "metadata": {
            "tags": []
          },
          "execution_count": 172
        }
      ]
    },
    {
      "cell_type": "code",
      "metadata": {
        "colab": {
          "base_uri": "https://localhost:8080/"
        },
        "id": "AEP_gdE8h2kD",
        "outputId": "b4b28149-0b26-474e-edfd-47c1c6ca3b6e"
      },
      "source": [
        "train.shape"
      ],
      "execution_count": 173,
      "outputs": [
        {
          "output_type": "execute_result",
          "data": {
            "text/plain": [
              "(6368, 21)"
            ]
          },
          "metadata": {
            "tags": []
          },
          "execution_count": 173
        }
      ]
    },
    {
      "cell_type": "code",
      "metadata": {
        "id": "FXjVlsicgS8b",
        "colab": {
          "base_uri": "https://localhost:8080/",
          "height": 566
        },
        "outputId": "1221df97-d492-40a6-ffb5-c625efdb1c67"
      },
      "source": [
        "train.corr()\n",
        "  "
      ],
      "execution_count": 174,
      "outputs": [
        {
          "output_type": "execute_result",
          "data": {
            "text/html": [
              "<div>\n",
              "<style scoped>\n",
              "    .dataframe tbody tr th:only-of-type {\n",
              "        vertical-align: middle;\n",
              "    }\n",
              "\n",
              "    .dataframe tbody tr th {\n",
              "        vertical-align: top;\n",
              "    }\n",
              "\n",
              "    .dataframe thead th {\n",
              "        text-align: right;\n",
              "    }\n",
              "</style>\n",
              "<table border=\"1\" class=\"dataframe\">\n",
              "  <thead>\n",
              "    <tr style=\"text-align: right;\">\n",
              "      <th></th>\n",
              "      <th>Stall_no</th>\n",
              "      <th>Market_Category</th>\n",
              "      <th>Grade</th>\n",
              "      <th>Demand</th>\n",
              "      <th>Discount_avail</th>\n",
              "      <th>charges_1</th>\n",
              "      <th>charges_2 (%)</th>\n",
              "      <th>Minimum_price</th>\n",
              "      <th>Maximum_price</th>\n",
              "      <th>Selling_Price</th>\n",
              "      <th>year</th>\n",
              "      <th>month</th>\n",
              "      <th>quarter</th>\n",
              "      <th>day of the week</th>\n",
              "      <th>Dayofyear</th>\n",
              "      <th>hour</th>\n",
              "    </tr>\n",
              "  </thead>\n",
              "  <tbody>\n",
              "    <tr>\n",
              "      <th>Stall_no</th>\n",
              "      <td>1.000000</td>\n",
              "      <td>-0.006145</td>\n",
              "      <td>-0.003449</td>\n",
              "      <td>0.004302</td>\n",
              "      <td>-0.019656</td>\n",
              "      <td>-0.010224</td>\n",
              "      <td>-0.004745</td>\n",
              "      <td>0.000123</td>\n",
              "      <td>0.008443</td>\n",
              "      <td>0.011733</td>\n",
              "      <td>0.014395</td>\n",
              "      <td>-0.014531</td>\n",
              "      <td>-0.015807</td>\n",
              "      <td>0.002488</td>\n",
              "      <td>-0.011779</td>\n",
              "      <td>-0.009561</td>\n",
              "    </tr>\n",
              "    <tr>\n",
              "      <th>Market_Category</th>\n",
              "      <td>-0.006145</td>\n",
              "      <td>1.000000</td>\n",
              "      <td>-0.036346</td>\n",
              "      <td>-0.018800</td>\n",
              "      <td>-0.003306</td>\n",
              "      <td>0.019009</td>\n",
              "      <td>0.024154</td>\n",
              "      <td>0.194787</td>\n",
              "      <td>0.134257</td>\n",
              "      <td>0.138711</td>\n",
              "      <td>-0.153502</td>\n",
              "      <td>0.088342</td>\n",
              "      <td>0.110840</td>\n",
              "      <td>0.069146</td>\n",
              "      <td>0.079883</td>\n",
              "      <td>-0.045670</td>\n",
              "    </tr>\n",
              "    <tr>\n",
              "      <th>Grade</th>\n",
              "      <td>-0.003449</td>\n",
              "      <td>-0.036346</td>\n",
              "      <td>1.000000</td>\n",
              "      <td>0.010107</td>\n",
              "      <td>-0.025232</td>\n",
              "      <td>-0.025316</td>\n",
              "      <td>-0.016644</td>\n",
              "      <td>-0.079583</td>\n",
              "      <td>0.164350</td>\n",
              "      <td>0.086450</td>\n",
              "      <td>0.026413</td>\n",
              "      <td>-0.032201</td>\n",
              "      <td>-0.037686</td>\n",
              "      <td>-0.021275</td>\n",
              "      <td>-0.031857</td>\n",
              "      <td>0.032671</td>\n",
              "    </tr>\n",
              "    <tr>\n",
              "      <th>Demand</th>\n",
              "      <td>0.004302</td>\n",
              "      <td>-0.018800</td>\n",
              "      <td>0.010107</td>\n",
              "      <td>1.000000</td>\n",
              "      <td>0.010230</td>\n",
              "      <td>-0.007370</td>\n",
              "      <td>0.017653</td>\n",
              "      <td>0.010283</td>\n",
              "      <td>0.003987</td>\n",
              "      <td>-0.000601</td>\n",
              "      <td>-0.008687</td>\n",
              "      <td>0.013748</td>\n",
              "      <td>0.017786</td>\n",
              "      <td>0.011331</td>\n",
              "      <td>0.013006</td>\n",
              "      <td>-0.018907</td>\n",
              "    </tr>\n",
              "    <tr>\n",
              "      <th>Discount_avail</th>\n",
              "      <td>-0.019656</td>\n",
              "      <td>-0.003306</td>\n",
              "      <td>-0.025232</td>\n",
              "      <td>0.010230</td>\n",
              "      <td>1.000000</td>\n",
              "      <td>-0.003899</td>\n",
              "      <td>0.018905</td>\n",
              "      <td>0.009817</td>\n",
              "      <td>-0.003918</td>\n",
              "      <td>-0.512457</td>\n",
              "      <td>0.134833</td>\n",
              "      <td>-0.085760</td>\n",
              "      <td>-0.068804</td>\n",
              "      <td>-0.015543</td>\n",
              "      <td>-0.095355</td>\n",
              "      <td>-0.118714</td>\n",
              "    </tr>\n",
              "    <tr>\n",
              "      <th>charges_1</th>\n",
              "      <td>-0.010224</td>\n",
              "      <td>0.019009</td>\n",
              "      <td>-0.025316</td>\n",
              "      <td>-0.007370</td>\n",
              "      <td>-0.003899</td>\n",
              "      <td>1.000000</td>\n",
              "      <td>0.270625</td>\n",
              "      <td>0.019448</td>\n",
              "      <td>0.012169</td>\n",
              "      <td>0.053045</td>\n",
              "      <td>-0.014331</td>\n",
              "      <td>0.010949</td>\n",
              "      <td>0.011610</td>\n",
              "      <td>-0.004165</td>\n",
              "      <td>0.010389</td>\n",
              "      <td>0.007534</td>\n",
              "    </tr>\n",
              "    <tr>\n",
              "      <th>charges_2 (%)</th>\n",
              "      <td>-0.004745</td>\n",
              "      <td>0.024154</td>\n",
              "      <td>-0.016644</td>\n",
              "      <td>0.017653</td>\n",
              "      <td>0.018905</td>\n",
              "      <td>0.270625</td>\n",
              "      <td>1.000000</td>\n",
              "      <td>0.005448</td>\n",
              "      <td>0.009816</td>\n",
              "      <td>0.009031</td>\n",
              "      <td>-0.000971</td>\n",
              "      <td>-0.007235</td>\n",
              "      <td>-0.005645</td>\n",
              "      <td>-0.002125</td>\n",
              "      <td>-0.008463</td>\n",
              "      <td>-0.008391</td>\n",
              "    </tr>\n",
              "    <tr>\n",
              "      <th>Minimum_price</th>\n",
              "      <td>0.000123</td>\n",
              "      <td>0.194787</td>\n",
              "      <td>-0.079583</td>\n",
              "      <td>0.010283</td>\n",
              "      <td>0.009817</td>\n",
              "      <td>0.019448</td>\n",
              "      <td>0.005448</td>\n",
              "      <td>1.000000</td>\n",
              "      <td>0.708038</td>\n",
              "      <td>0.700444</td>\n",
              "      <td>0.057309</td>\n",
              "      <td>-0.013256</td>\n",
              "      <td>-0.009925</td>\n",
              "      <td>0.006299</td>\n",
              "      <td>-0.012666</td>\n",
              "      <td>-0.057089</td>\n",
              "    </tr>\n",
              "    <tr>\n",
              "      <th>Maximum_price</th>\n",
              "      <td>0.008443</td>\n",
              "      <td>0.134257</td>\n",
              "      <td>0.164350</td>\n",
              "      <td>0.003987</td>\n",
              "      <td>-0.003918</td>\n",
              "      <td>0.012169</td>\n",
              "      <td>0.009816</td>\n",
              "      <td>0.708038</td>\n",
              "      <td>1.000000</td>\n",
              "      <td>0.766928</td>\n",
              "      <td>0.179151</td>\n",
              "      <td>-0.112665</td>\n",
              "      <td>-0.128059</td>\n",
              "      <td>-0.066453</td>\n",
              "      <td>-0.104533</td>\n",
              "      <td>-0.000129</td>\n",
              "    </tr>\n",
              "    <tr>\n",
              "      <th>Selling_Price</th>\n",
              "      <td>0.011733</td>\n",
              "      <td>0.138711</td>\n",
              "      <td>0.086450</td>\n",
              "      <td>-0.000601</td>\n",
              "      <td>-0.512457</td>\n",
              "      <td>0.053045</td>\n",
              "      <td>0.009031</td>\n",
              "      <td>0.700444</td>\n",
              "      <td>0.766928</td>\n",
              "      <td>1.000000</td>\n",
              "      <td>0.061454</td>\n",
              "      <td>-0.026448</td>\n",
              "      <td>-0.037979</td>\n",
              "      <td>-0.033868</td>\n",
              "      <td>-0.018124</td>\n",
              "      <td>0.030152</td>\n",
              "    </tr>\n",
              "    <tr>\n",
              "      <th>year</th>\n",
              "      <td>0.014395</td>\n",
              "      <td>-0.153502</td>\n",
              "      <td>0.026413</td>\n",
              "      <td>-0.008687</td>\n",
              "      <td>0.134833</td>\n",
              "      <td>-0.014331</td>\n",
              "      <td>-0.000971</td>\n",
              "      <td>0.057309</td>\n",
              "      <td>0.179151</td>\n",
              "      <td>0.061454</td>\n",
              "      <td>1.000000</td>\n",
              "      <td>-0.825006</td>\n",
              "      <td>-0.854197</td>\n",
              "      <td>-0.197441</td>\n",
              "      <td>-0.807831</td>\n",
              "      <td>-0.088276</td>\n",
              "    </tr>\n",
              "    <tr>\n",
              "      <th>month</th>\n",
              "      <td>-0.014531</td>\n",
              "      <td>0.088342</td>\n",
              "      <td>-0.032201</td>\n",
              "      <td>0.013748</td>\n",
              "      <td>-0.085760</td>\n",
              "      <td>0.010949</td>\n",
              "      <td>-0.007235</td>\n",
              "      <td>-0.013256</td>\n",
              "      <td>-0.112665</td>\n",
              "      <td>-0.026448</td>\n",
              "      <td>-0.825006</td>\n",
              "      <td>1.000000</td>\n",
              "      <td>0.981045</td>\n",
              "      <td>0.138474</td>\n",
              "      <td>0.996844</td>\n",
              "      <td>-0.012589</td>\n",
              "    </tr>\n",
              "    <tr>\n",
              "      <th>quarter</th>\n",
              "      <td>-0.015807</td>\n",
              "      <td>0.110840</td>\n",
              "      <td>-0.037686</td>\n",
              "      <td>0.017786</td>\n",
              "      <td>-0.068804</td>\n",
              "      <td>0.011610</td>\n",
              "      <td>-0.005645</td>\n",
              "      <td>-0.009925</td>\n",
              "      <td>-0.128059</td>\n",
              "      <td>-0.037979</td>\n",
              "      <td>-0.854197</td>\n",
              "      <td>0.981045</td>\n",
              "      <td>1.000000</td>\n",
              "      <td>0.162814</td>\n",
              "      <td>0.971772</td>\n",
              "      <td>-0.044069</td>\n",
              "    </tr>\n",
              "    <tr>\n",
              "      <th>day of the week</th>\n",
              "      <td>0.002488</td>\n",
              "      <td>0.069146</td>\n",
              "      <td>-0.021275</td>\n",
              "      <td>0.011331</td>\n",
              "      <td>-0.015543</td>\n",
              "      <td>-0.004165</td>\n",
              "      <td>-0.002125</td>\n",
              "      <td>0.006299</td>\n",
              "      <td>-0.066453</td>\n",
              "      <td>-0.033868</td>\n",
              "      <td>-0.197441</td>\n",
              "      <td>0.138474</td>\n",
              "      <td>0.162814</td>\n",
              "      <td>1.000000</td>\n",
              "      <td>0.128659</td>\n",
              "      <td>-0.063163</td>\n",
              "    </tr>\n",
              "    <tr>\n",
              "      <th>Dayofyear</th>\n",
              "      <td>-0.011779</td>\n",
              "      <td>0.079883</td>\n",
              "      <td>-0.031857</td>\n",
              "      <td>0.013006</td>\n",
              "      <td>-0.095355</td>\n",
              "      <td>0.010389</td>\n",
              "      <td>-0.008463</td>\n",
              "      <td>-0.012666</td>\n",
              "      <td>-0.104533</td>\n",
              "      <td>-0.018124</td>\n",
              "      <td>-0.807831</td>\n",
              "      <td>0.996844</td>\n",
              "      <td>0.971772</td>\n",
              "      <td>0.128659</td>\n",
              "      <td>1.000000</td>\n",
              "      <td>0.010750</td>\n",
              "    </tr>\n",
              "    <tr>\n",
              "      <th>hour</th>\n",
              "      <td>-0.009561</td>\n",
              "      <td>-0.045670</td>\n",
              "      <td>0.032671</td>\n",
              "      <td>-0.018907</td>\n",
              "      <td>-0.118714</td>\n",
              "      <td>0.007534</td>\n",
              "      <td>-0.008391</td>\n",
              "      <td>-0.057089</td>\n",
              "      <td>-0.000129</td>\n",
              "      <td>0.030152</td>\n",
              "      <td>-0.088276</td>\n",
              "      <td>-0.012589</td>\n",
              "      <td>-0.044069</td>\n",
              "      <td>-0.063163</td>\n",
              "      <td>0.010750</td>\n",
              "      <td>1.000000</td>\n",
              "    </tr>\n",
              "  </tbody>\n",
              "</table>\n",
              "</div>"
            ],
            "text/plain": [
              "                 Stall_no  Market_Category  ...  Dayofyear      hour\n",
              "Stall_no         1.000000        -0.006145  ...  -0.011779 -0.009561\n",
              "Market_Category -0.006145         1.000000  ...   0.079883 -0.045670\n",
              "Grade           -0.003449        -0.036346  ...  -0.031857  0.032671\n",
              "Demand           0.004302        -0.018800  ...   0.013006 -0.018907\n",
              "Discount_avail  -0.019656        -0.003306  ...  -0.095355 -0.118714\n",
              "charges_1       -0.010224         0.019009  ...   0.010389  0.007534\n",
              "charges_2 (%)   -0.004745         0.024154  ...  -0.008463 -0.008391\n",
              "Minimum_price    0.000123         0.194787  ...  -0.012666 -0.057089\n",
              "Maximum_price    0.008443         0.134257  ...  -0.104533 -0.000129\n",
              "Selling_Price    0.011733         0.138711  ...  -0.018124  0.030152\n",
              "year             0.014395        -0.153502  ...  -0.807831 -0.088276\n",
              "month           -0.014531         0.088342  ...   0.996844 -0.012589\n",
              "quarter         -0.015807         0.110840  ...   0.971772 -0.044069\n",
              "day of the week  0.002488         0.069146  ...   0.128659 -0.063163\n",
              "Dayofyear       -0.011779         0.079883  ...   1.000000  0.010750\n",
              "hour            -0.009561        -0.045670  ...   0.010750  1.000000\n",
              "\n",
              "[16 rows x 16 columns]"
            ]
          },
          "metadata": {
            "tags": []
          },
          "execution_count": 174
        }
      ]
    },
    {
      "cell_type": "code",
      "metadata": {
        "colab": {
          "base_uri": "https://localhost:8080/"
        },
        "id": "oj52CtOCu_s8",
        "outputId": "d5e50187-51e1-44eb-c988-0d9733f984fa"
      },
      "source": [
        "train.info()"
      ],
      "execution_count": 175,
      "outputs": [
        {
          "output_type": "stream",
          "text": [
            "<class 'pandas.core.frame.DataFrame'>\n",
            "RangeIndex: 6368 entries, 0 to 6367\n",
            "Data columns (total 21 columns):\n",
            " #   Column            Non-Null Count  Dtype         \n",
            "---  ------            --------------  -----         \n",
            " 0   Product_id        6368 non-null   object        \n",
            " 1   Stall_no          6363 non-null   float64       \n",
            " 2   instock_date      6368 non-null   datetime64[ns]\n",
            " 3   Market_Category   6368 non-null   int64         \n",
            " 4   Customer_name     6157 non-null   object        \n",
            " 5   Loyalty_customer  6368 non-null   object        \n",
            " 6   Product_Category  6368 non-null   object        \n",
            " 7   Grade             6368 non-null   int64         \n",
            " 8   Demand            6368 non-null   int64         \n",
            " 9   Discount_avail    6330 non-null   float64       \n",
            " 10  charges_1         6170 non-null   float64       \n",
            " 11  charges_2 (%)     6163 non-null   float64       \n",
            " 12  Minimum_price     6330 non-null   float64       \n",
            " 13  Maximum_price     6025 non-null   float64       \n",
            " 14  Selling_Price     6327 non-null   float64       \n",
            " 15  year              6368 non-null   int64         \n",
            " 16  month             6368 non-null   int64         \n",
            " 17  quarter           6368 non-null   int64         \n",
            " 18  day of the week   6368 non-null   int64         \n",
            " 19  Dayofyear         6368 non-null   int64         \n",
            " 20  hour              6368 non-null   int64         \n",
            "dtypes: datetime64[ns](1), float64(7), int64(9), object(4)\n",
            "memory usage: 1.0+ MB\n"
          ],
          "name": "stdout"
        }
      ]
    },
    {
      "cell_type": "code",
      "metadata": {
        "colab": {
          "base_uri": "https://localhost:8080/"
        },
        "id": "ucAMbSLawufM",
        "outputId": "bc02cca6-56d9-4d8b-ff17-60f59d5f27f6"
      },
      "source": [
        "for col in train.columns:\n",
        "  print(col,train[col].nunique())"
      ],
      "execution_count": 176,
      "outputs": [
        {
          "output_type": "stream",
          "text": [
            "Product_id 6368\n",
            "Stall_no 50\n",
            "instock_date 5350\n",
            "Market_Category 248\n",
            "Customer_name 5900\n",
            "Loyalty_customer 2\n",
            "Product_Category 10\n",
            "Grade 4\n",
            "Demand 100\n",
            "Discount_avail 2\n",
            "charges_1 487\n",
            "charges_2 (%) 17\n",
            "Minimum_price 4236\n",
            "Maximum_price 4618\n",
            "Selling_Price 6321\n",
            "year 3\n",
            "month 11\n",
            "quarter 4\n",
            "day of the week 7\n",
            "Dayofyear 214\n",
            "hour 24\n"
          ],
          "name": "stdout"
        }
      ]
    },
    {
      "cell_type": "code",
      "metadata": {
        "id": "dgL7zOdKxq6P",
        "colab": {
          "base_uri": "https://localhost:8080/"
        },
        "outputId": "f86b53cb-cc2b-45ef-e8e8-65c15e075d9a"
      },
      "source": [
        "# Finding number of null values in each column\n",
        "train.isnull().sum()\n"
      ],
      "execution_count": 177,
      "outputs": [
        {
          "output_type": "execute_result",
          "data": {
            "text/plain": [
              "Product_id            0\n",
              "Stall_no              5\n",
              "instock_date          0\n",
              "Market_Category       0\n",
              "Customer_name       211\n",
              "Loyalty_customer      0\n",
              "Product_Category      0\n",
              "Grade                 0\n",
              "Demand                0\n",
              "Discount_avail       38\n",
              "charges_1           198\n",
              "charges_2 (%)       205\n",
              "Minimum_price        38\n",
              "Maximum_price       343\n",
              "Selling_Price        41\n",
              "year                  0\n",
              "month                 0\n",
              "quarter               0\n",
              "day of the week       0\n",
              "Dayofyear             0\n",
              "hour                  0\n",
              "dtype: int64"
            ]
          },
          "metadata": {
            "tags": []
          },
          "execution_count": 177
        }
      ]
    },
    {
      "cell_type": "code",
      "metadata": {
        "id": "esDoeojaxh0r"
      },
      "source": [
        "# Excluding rows where train['Selling_Price'] is null\n",
        "train = train[train['Selling_Price'].notna()]\n"
      ],
      "execution_count": 178,
      "outputs": []
    },
    {
      "cell_type": "code",
      "metadata": {
        "id": "sTqnO_WJ2XHU"
      },
      "source": [
        "# Replacing null values\n",
        "train['Customer_name'] = train['Customer_name'].fillna(train['Customer_name'].mode()[0])\n",
        "\n"
      ],
      "execution_count": 179,
      "outputs": []
    },
    {
      "cell_type": "code",
      "metadata": {
        "id": "vAIJhYnbzww0"
      },
      "source": [
        "# After applying Label Encoding –\n",
        "from sklearn import preprocessing \n",
        "label_encoder = preprocessing.LabelEncoder() \n",
        "\n",
        "# Encode labels in column 'Customer_name'. \n",
        "train['Customer_name']= label_encoder.fit_transform(train['Customer_name']) \n",
        "\n",
        "# Encode labels in column 'Loyalty_customer'. \n",
        "train['Loyalty_customer']= label_encoder.fit_transform(train['Loyalty_customer']) \n",
        "\n",
        "# Encode labels in column 'Product_Category'. \n",
        "train['Product_Category']= label_encoder.fit_transform(train['Product_Category']) \n",
        "\n",
        "\n",
        "\n"
      ],
      "execution_count": 180,
      "outputs": []
    },
    {
      "cell_type": "code",
      "metadata": {
        "colab": {
          "base_uri": "https://localhost:8080/"
        },
        "id": "zS9V2B7F7R3B",
        "outputId": "5ab934e9-9447-46f5-ddc5-057702981183"
      },
      "source": [
        "train.Customer_name.nunique()"
      ],
      "execution_count": 185,
      "outputs": [
        {
          "output_type": "execute_result",
          "data": {
            "text/plain": [
              "5867"
            ]
          },
          "metadata": {
            "tags": []
          },
          "execution_count": 185
        }
      ]
    },
    {
      "cell_type": "code",
      "metadata": {
        "colab": {
          "base_uri": "https://localhost:8080/",
          "height": 356
        },
        "id": "DAMxsJZ_8u_B",
        "outputId": "3295d560-6af3-4da2-e8bc-c8ae15fe1fc4"
      },
      "source": [
        "train.head()"
      ],
      "execution_count": 190,
      "outputs": [
        {
          "output_type": "execute_result",
          "data": {
            "text/html": [
              "<div>\n",
              "<style scoped>\n",
              "    .dataframe tbody tr th:only-of-type {\n",
              "        vertical-align: middle;\n",
              "    }\n",
              "\n",
              "    .dataframe tbody tr th {\n",
              "        vertical-align: top;\n",
              "    }\n",
              "\n",
              "    .dataframe thead th {\n",
              "        text-align: right;\n",
              "    }\n",
              "</style>\n",
              "<table border=\"1\" class=\"dataframe\">\n",
              "  <thead>\n",
              "    <tr style=\"text-align: right;\">\n",
              "      <th></th>\n",
              "      <th>Product_id</th>\n",
              "      <th>Stall_no</th>\n",
              "      <th>instock_date</th>\n",
              "      <th>Market_Category</th>\n",
              "      <th>Customer_name</th>\n",
              "      <th>Loyalty_customer</th>\n",
              "      <th>Product_Category</th>\n",
              "      <th>Grade</th>\n",
              "      <th>Demand</th>\n",
              "      <th>Discount_avail</th>\n",
              "      <th>charges_1</th>\n",
              "      <th>charges_2 (%)</th>\n",
              "      <th>Minimum_price</th>\n",
              "      <th>Maximum_price</th>\n",
              "      <th>Selling_Price</th>\n",
              "      <th>year</th>\n",
              "      <th>month</th>\n",
              "      <th>quarter</th>\n",
              "      <th>day of the week</th>\n",
              "      <th>Dayofyear</th>\n",
              "      <th>hour</th>\n",
              "    </tr>\n",
              "  </thead>\n",
              "  <tbody>\n",
              "    <tr>\n",
              "      <th>0</th>\n",
              "      <td>BRAE2NF6JA5GUEXG</td>\n",
              "      <td>37.0</td>\n",
              "      <td>2015-08-22 18:36:12</td>\n",
              "      <td>2</td>\n",
              "      <td>3706</td>\n",
              "      <td>1</td>\n",
              "      <td>3</td>\n",
              "      <td>1</td>\n",
              "      <td>68</td>\n",
              "      <td>0.0</td>\n",
              "      <td>376.0</td>\n",
              "      <td>11.0</td>\n",
              "      <td>2983.0</td>\n",
              "      <td>4713.0</td>\n",
              "      <td>4185.947700</td>\n",
              "      <td>2015</td>\n",
              "      <td>8</td>\n",
              "      <td>3</td>\n",
              "      <td>5</td>\n",
              "      <td>234</td>\n",
              "      <td>18</td>\n",
              "    </tr>\n",
              "    <tr>\n",
              "      <th>1</th>\n",
              "      <td>TUNE8SFB6RJN2HSD</td>\n",
              "      <td>38.0</td>\n",
              "      <td>2016-03-27 21:19:13</td>\n",
              "      <td>24</td>\n",
              "      <td>3427</td>\n",
              "      <td>1</td>\n",
              "      <td>3</td>\n",
              "      <td>0</td>\n",
              "      <td>51</td>\n",
              "      <td>0.0</td>\n",
              "      <td>397.0</td>\n",
              "      <td>12.0</td>\n",
              "      <td>7495.0</td>\n",
              "      <td>10352.0</td>\n",
              "      <td>9271.490256</td>\n",
              "      <td>2016</td>\n",
              "      <td>3</td>\n",
              "      <td>1</td>\n",
              "      <td>6</td>\n",
              "      <td>87</td>\n",
              "      <td>21</td>\n",
              "    </tr>\n",
              "    <tr>\n",
              "      <th>2</th>\n",
              "      <td>BRAEAR7WZPQGPBZU</td>\n",
              "      <td>9.0</td>\n",
              "      <td>2015-08-18 19:25:22</td>\n",
              "      <td>447</td>\n",
              "      <td>4790</td>\n",
              "      <td>1</td>\n",
              "      <td>0</td>\n",
              "      <td>0</td>\n",
              "      <td>10</td>\n",
              "      <td>0.0</td>\n",
              "      <td>250.0</td>\n",
              "      <td>9.0</td>\n",
              "      <td>5752.0</td>\n",
              "      <td>7309.0</td>\n",
              "      <td>6785.701362</td>\n",
              "      <td>2015</td>\n",
              "      <td>8</td>\n",
              "      <td>3</td>\n",
              "      <td>1</td>\n",
              "      <td>230</td>\n",
              "      <td>19</td>\n",
              "    </tr>\n",
              "    <tr>\n",
              "      <th>3</th>\n",
              "      <td>WATDZ2ZQ8JPDHCTJ</td>\n",
              "      <td>50.0</td>\n",
              "      <td>2016-03-28 21:53:01</td>\n",
              "      <td>23</td>\n",
              "      <td>67</td>\n",
              "      <td>1</td>\n",
              "      <td>2</td>\n",
              "      <td>2</td>\n",
              "      <td>48</td>\n",
              "      <td>0.0</td>\n",
              "      <td>144.0</td>\n",
              "      <td>13.0</td>\n",
              "      <td>5090.0</td>\n",
              "      <td>20814.0</td>\n",
              "      <td>13028.917824</td>\n",
              "      <td>2016</td>\n",
              "      <td>3</td>\n",
              "      <td>1</td>\n",
              "      <td>0</td>\n",
              "      <td>88</td>\n",
              "      <td>21</td>\n",
              "    </tr>\n",
              "    <tr>\n",
              "      <th>4</th>\n",
              "      <td>JWSEBUKYQPMBZ3RK</td>\n",
              "      <td>7.0</td>\n",
              "      <td>2016-03-29 22:58:53</td>\n",
              "      <td>63</td>\n",
              "      <td>1740</td>\n",
              "      <td>1</td>\n",
              "      <td>8</td>\n",
              "      <td>1</td>\n",
              "      <td>35</td>\n",
              "      <td>1.0</td>\n",
              "      <td>211.0</td>\n",
              "      <td>4.0</td>\n",
              "      <td>2430.0</td>\n",
              "      <td>9261.0</td>\n",
              "      <td>906.553935</td>\n",
              "      <td>2016</td>\n",
              "      <td>3</td>\n",
              "      <td>1</td>\n",
              "      <td>1</td>\n",
              "      <td>89</td>\n",
              "      <td>22</td>\n",
              "    </tr>\n",
              "  </tbody>\n",
              "</table>\n",
              "</div>"
            ],
            "text/plain": [
              "         Product_id  Stall_no  ... Dayofyear  hour\n",
              "0  BRAE2NF6JA5GUEXG      37.0  ...       234    18\n",
              "1  TUNE8SFB6RJN2HSD      38.0  ...        87    21\n",
              "2  BRAEAR7WZPQGPBZU       9.0  ...       230    19\n",
              "3  WATDZ2ZQ8JPDHCTJ      50.0  ...        88    21\n",
              "4  JWSEBUKYQPMBZ3RK       7.0  ...        89    22\n",
              "\n",
              "[5 rows x 21 columns]"
            ]
          },
          "metadata": {
            "tags": []
          },
          "execution_count": 190
        }
      ]
    },
    {
      "cell_type": "code",
      "metadata": {
        "colab": {
          "base_uri": "https://localhost:8080/"
        },
        "id": "5xZ8q4ZzESmv",
        "outputId": "5906faef-48fc-4e5e-c8a6-80f45ad312e5"
      },
      "source": [
        "train.Stall_no.describe()"
      ],
      "execution_count": 32,
      "outputs": [
        {
          "output_type": "execute_result",
          "data": {
            "text/plain": [
              "count    6322.000000\n",
              "mean       25.312243\n",
              "std        14.331376\n",
              "min         1.000000\n",
              "25%        13.000000\n",
              "50%        25.000000\n",
              "75%        37.000000\n",
              "max        50.000000\n",
              "Name: Stall_no, dtype: float64"
            ]
          },
          "metadata": {
            "tags": []
          },
          "execution_count": 32
        }
      ]
    },
    {
      "cell_type": "code",
      "metadata": {
        "id": "C0zVFFROGM_I"
      },
      "source": [
        "train['Selling_Price'] = train['Selling_Price'].abs()\n"
      ],
      "execution_count": 193,
      "outputs": []
    },
    {
      "cell_type": "code",
      "metadata": {
        "colab": {
          "base_uri": "https://localhost:8080/"
        },
        "id": "HrrbwhetEfzu",
        "outputId": "a90769be-32a0-4555-8a5d-3d3c1bb7bdf3"
      },
      "source": [
        "train.Selling_Price.describe()"
      ],
      "execution_count": 194,
      "outputs": [
        {
          "output_type": "execute_result",
          "data": {
            "text/plain": [
              "count     6327.000000\n",
              "mean      4580.406478\n",
              "std       2952.640478\n",
              "min          4.000000\n",
              "25%       2461.805312\n",
              "50%       4215.972992\n",
              "75%       6167.643252\n",
              "max      22638.325941\n",
              "Name: Selling_Price, dtype: float64"
            ]
          },
          "metadata": {
            "tags": []
          },
          "execution_count": 194
        }
      ]
    },
    {
      "cell_type": "code",
      "metadata": {
        "colab": {
          "base_uri": "https://localhost:8080/"
        },
        "id": "rsUit3KG6Dq4",
        "outputId": "afad3af1-f845-462d-d615-15b94f66103b"
      },
      "source": [
        "train['Loyalty_customer'].unique()"
      ],
      "execution_count": 36,
      "outputs": [
        {
          "output_type": "execute_result",
          "data": {
            "text/plain": [
              "array([1, 0])"
            ]
          },
          "metadata": {
            "tags": []
          },
          "execution_count": 36
        }
      ]
    },
    {
      "cell_type": "code",
      "metadata": {
        "colab": {
          "base_uri": "https://localhost:8080/"
        },
        "id": "Nnru5BK77Cus",
        "outputId": "d8f9ea0e-e422-4d4f-d02f-9e42572648b9"
      },
      "source": [
        "train.Discount_avail.unique()"
      ],
      "execution_count": null,
      "outputs": [
        {
          "output_type": "execute_result",
          "data": {
            "text/plain": [
              "array([ 0.,  1., nan])"
            ]
          },
          "metadata": {
            "tags": []
          },
          "execution_count": 376
        }
      ]
    },
    {
      "cell_type": "code",
      "metadata": {
        "id": "YBQmk8fi71do"
      },
      "source": [
        "train['Discount_avail'] = train['Discount_avail'].fillna(train['Discount_avail'].mean())\n",
        "train['charges_1'] = train['charges_1'].fillna(train['charges_1'].mean())\n",
        "train['charges_2 (%)'] = train['charges_2 (%)'].fillna(train['charges_2 (%)'].mean())\n",
        "train['Minimum_price'] = train['Minimum_price'].fillna(train['Minimum_price'].mean())\n",
        "train['Maximum_price'] = train['Maximum_price'].fillna(train['Maximum_price'].mean())\n",
        "train['Stall_no'] = train['Stall_no'].fillna(train['Stall_no'].median())\n"
      ],
      "execution_count": 195,
      "outputs": []
    },
    {
      "cell_type": "code",
      "metadata": {
        "colab": {
          "base_uri": "https://localhost:8080/"
        },
        "id": "FQKjp3GV-ooh",
        "outputId": "750a186e-3b16-4f48-927d-e2ca5cc8bc1e"
      },
      "source": [
        "train.isnull().sum()\n"
      ],
      "execution_count": 196,
      "outputs": [
        {
          "output_type": "execute_result",
          "data": {
            "text/plain": [
              "Product_id          0\n",
              "Stall_no            0\n",
              "instock_date        0\n",
              "Market_Category     0\n",
              "Customer_name       0\n",
              "Loyalty_customer    0\n",
              "Product_Category    0\n",
              "Grade               0\n",
              "Demand              0\n",
              "Discount_avail      0\n",
              "charges_1           0\n",
              "charges_2 (%)       0\n",
              "Minimum_price       0\n",
              "Maximum_price       0\n",
              "Selling_Price       0\n",
              "year                0\n",
              "month               0\n",
              "quarter             0\n",
              "day of the week     0\n",
              "Dayofyear           0\n",
              "hour                0\n",
              "dtype: int64"
            ]
          },
          "metadata": {
            "tags": []
          },
          "execution_count": 196
        }
      ]
    },
    {
      "cell_type": "code",
      "metadata": {
        "colab": {
          "base_uri": "https://localhost:8080/",
          "height": 356
        },
        "id": "fJFpFBhivSxv",
        "outputId": "1064be4d-d65c-41b0-dfcb-f89eb3c2e609"
      },
      "source": [
        "train.head()"
      ],
      "execution_count": 201,
      "outputs": [
        {
          "output_type": "execute_result",
          "data": {
            "text/html": [
              "<div>\n",
              "<style scoped>\n",
              "    .dataframe tbody tr th:only-of-type {\n",
              "        vertical-align: middle;\n",
              "    }\n",
              "\n",
              "    .dataframe tbody tr th {\n",
              "        vertical-align: top;\n",
              "    }\n",
              "\n",
              "    .dataframe thead th {\n",
              "        text-align: right;\n",
              "    }\n",
              "</style>\n",
              "<table border=\"1\" class=\"dataframe\">\n",
              "  <thead>\n",
              "    <tr style=\"text-align: right;\">\n",
              "      <th></th>\n",
              "      <th>Product_id</th>\n",
              "      <th>Stall_no</th>\n",
              "      <th>instock_date</th>\n",
              "      <th>Market_Category</th>\n",
              "      <th>Customer_name</th>\n",
              "      <th>Loyalty_customer</th>\n",
              "      <th>Product_Category</th>\n",
              "      <th>Grade</th>\n",
              "      <th>Demand</th>\n",
              "      <th>Discount_avail</th>\n",
              "      <th>charges_1</th>\n",
              "      <th>charges_2 (%)</th>\n",
              "      <th>Minimum_price</th>\n",
              "      <th>Maximum_price</th>\n",
              "      <th>Selling_Price</th>\n",
              "      <th>year</th>\n",
              "      <th>month</th>\n",
              "      <th>quarter</th>\n",
              "      <th>day of the week</th>\n",
              "      <th>Dayofyear</th>\n",
              "      <th>hour</th>\n",
              "    </tr>\n",
              "  </thead>\n",
              "  <tbody>\n",
              "    <tr>\n",
              "      <th>0</th>\n",
              "      <td>BRAE2NF6JA5GUEXG</td>\n",
              "      <td>37.0</td>\n",
              "      <td>2015-08-22 18:36:12</td>\n",
              "      <td>2</td>\n",
              "      <td>3706</td>\n",
              "      <td>1</td>\n",
              "      <td>3</td>\n",
              "      <td>1</td>\n",
              "      <td>68</td>\n",
              "      <td>0.0</td>\n",
              "      <td>376.0</td>\n",
              "      <td>11.0</td>\n",
              "      <td>2983.0</td>\n",
              "      <td>4713.0</td>\n",
              "      <td>4185.947700</td>\n",
              "      <td>2015</td>\n",
              "      <td>8</td>\n",
              "      <td>3</td>\n",
              "      <td>5</td>\n",
              "      <td>234</td>\n",
              "      <td>18</td>\n",
              "    </tr>\n",
              "    <tr>\n",
              "      <th>1</th>\n",
              "      <td>TUNE8SFB6RJN2HSD</td>\n",
              "      <td>38.0</td>\n",
              "      <td>2016-03-27 21:19:13</td>\n",
              "      <td>24</td>\n",
              "      <td>3427</td>\n",
              "      <td>1</td>\n",
              "      <td>3</td>\n",
              "      <td>0</td>\n",
              "      <td>51</td>\n",
              "      <td>0.0</td>\n",
              "      <td>397.0</td>\n",
              "      <td>12.0</td>\n",
              "      <td>7495.0</td>\n",
              "      <td>10352.0</td>\n",
              "      <td>9271.490256</td>\n",
              "      <td>2016</td>\n",
              "      <td>3</td>\n",
              "      <td>1</td>\n",
              "      <td>6</td>\n",
              "      <td>87</td>\n",
              "      <td>21</td>\n",
              "    </tr>\n",
              "    <tr>\n",
              "      <th>2</th>\n",
              "      <td>BRAEAR7WZPQGPBZU</td>\n",
              "      <td>9.0</td>\n",
              "      <td>2015-08-18 19:25:22</td>\n",
              "      <td>447</td>\n",
              "      <td>4790</td>\n",
              "      <td>1</td>\n",
              "      <td>0</td>\n",
              "      <td>0</td>\n",
              "      <td>10</td>\n",
              "      <td>0.0</td>\n",
              "      <td>250.0</td>\n",
              "      <td>9.0</td>\n",
              "      <td>5752.0</td>\n",
              "      <td>7309.0</td>\n",
              "      <td>6785.701362</td>\n",
              "      <td>2015</td>\n",
              "      <td>8</td>\n",
              "      <td>3</td>\n",
              "      <td>1</td>\n",
              "      <td>230</td>\n",
              "      <td>19</td>\n",
              "    </tr>\n",
              "    <tr>\n",
              "      <th>3</th>\n",
              "      <td>WATDZ2ZQ8JPDHCTJ</td>\n",
              "      <td>50.0</td>\n",
              "      <td>2016-03-28 21:53:01</td>\n",
              "      <td>23</td>\n",
              "      <td>67</td>\n",
              "      <td>1</td>\n",
              "      <td>2</td>\n",
              "      <td>2</td>\n",
              "      <td>48</td>\n",
              "      <td>0.0</td>\n",
              "      <td>144.0</td>\n",
              "      <td>13.0</td>\n",
              "      <td>5090.0</td>\n",
              "      <td>20814.0</td>\n",
              "      <td>13028.917824</td>\n",
              "      <td>2016</td>\n",
              "      <td>3</td>\n",
              "      <td>1</td>\n",
              "      <td>0</td>\n",
              "      <td>88</td>\n",
              "      <td>21</td>\n",
              "    </tr>\n",
              "    <tr>\n",
              "      <th>4</th>\n",
              "      <td>JWSEBUKYQPMBZ3RK</td>\n",
              "      <td>7.0</td>\n",
              "      <td>2016-03-29 22:58:53</td>\n",
              "      <td>63</td>\n",
              "      <td>1740</td>\n",
              "      <td>1</td>\n",
              "      <td>8</td>\n",
              "      <td>1</td>\n",
              "      <td>35</td>\n",
              "      <td>1.0</td>\n",
              "      <td>211.0</td>\n",
              "      <td>4.0</td>\n",
              "      <td>2430.0</td>\n",
              "      <td>9261.0</td>\n",
              "      <td>906.553935</td>\n",
              "      <td>2016</td>\n",
              "      <td>3</td>\n",
              "      <td>1</td>\n",
              "      <td>1</td>\n",
              "      <td>89</td>\n",
              "      <td>22</td>\n",
              "    </tr>\n",
              "  </tbody>\n",
              "</table>\n",
              "</div>"
            ],
            "text/plain": [
              "         Product_id  Stall_no  ... Dayofyear  hour\n",
              "0  BRAE2NF6JA5GUEXG      37.0  ...       234    18\n",
              "1  TUNE8SFB6RJN2HSD      38.0  ...        87    21\n",
              "2  BRAEAR7WZPQGPBZU       9.0  ...       230    19\n",
              "3  WATDZ2ZQ8JPDHCTJ      50.0  ...        88    21\n",
              "4  JWSEBUKYQPMBZ3RK       7.0  ...        89    22\n",
              "\n",
              "[5 rows x 21 columns]"
            ]
          },
          "metadata": {
            "tags": []
          },
          "execution_count": 201
        }
      ]
    },
    {
      "cell_type": "code",
      "metadata": {
        "id": "MsIeXeLavS9W"
      },
      "source": [
        ""
      ],
      "execution_count": null,
      "outputs": []
    },
    {
      "cell_type": "code",
      "metadata": {
        "id": "PxY6a4eatsV6"
      },
      "source": [
        ""
      ],
      "execution_count": null,
      "outputs": []
    },
    {
      "cell_type": "markdown",
      "metadata": {
        "id": "s8TgxkA2cGdT"
      },
      "source": [
        "### Feature Engineering"
      ]
    },
    {
      "cell_type": "code",
      "metadata": {
        "id": "o1OUnGZkcFgI"
      },
      "source": [
        ""
      ],
      "execution_count": null,
      "outputs": []
    },
    {
      "cell_type": "code",
      "metadata": {
        "id": "voG4VLJXcKek"
      },
      "source": [
        "train['charges_1 (%)'] = train['charges_1'] /100\n",
        "train['charges_2'] = train['charges_2 (%)'] *100\n",
        "train[\"total_charges\"]= train['charges_1']+train['charges_2']"
      ],
      "execution_count": 202,
      "outputs": []
    },
    {
      "cell_type": "code",
      "metadata": {
        "id": "akVEztS9dTWP"
      },
      "source": [
        "train[\"range\"] = train['Maximum_price']-train['Minimum_price']"
      ],
      "execution_count": 203,
      "outputs": []
    },
    {
      "cell_type": "code",
      "metadata": {
        "colab": {
          "base_uri": "https://localhost:8080/",
          "height": 356
        },
        "id": "q_GgGSSXcKpA",
        "outputId": "cf08e044-f164-4ba3-ef60-956c2832d292"
      },
      "source": [
        "train.head()"
      ],
      "execution_count": 204,
      "outputs": [
        {
          "output_type": "execute_result",
          "data": {
            "text/html": [
              "<div>\n",
              "<style scoped>\n",
              "    .dataframe tbody tr th:only-of-type {\n",
              "        vertical-align: middle;\n",
              "    }\n",
              "\n",
              "    .dataframe tbody tr th {\n",
              "        vertical-align: top;\n",
              "    }\n",
              "\n",
              "    .dataframe thead th {\n",
              "        text-align: right;\n",
              "    }\n",
              "</style>\n",
              "<table border=\"1\" class=\"dataframe\">\n",
              "  <thead>\n",
              "    <tr style=\"text-align: right;\">\n",
              "      <th></th>\n",
              "      <th>Product_id</th>\n",
              "      <th>Stall_no</th>\n",
              "      <th>instock_date</th>\n",
              "      <th>Market_Category</th>\n",
              "      <th>Customer_name</th>\n",
              "      <th>Loyalty_customer</th>\n",
              "      <th>Product_Category</th>\n",
              "      <th>Grade</th>\n",
              "      <th>Demand</th>\n",
              "      <th>Discount_avail</th>\n",
              "      <th>charges_1</th>\n",
              "      <th>charges_2 (%)</th>\n",
              "      <th>Minimum_price</th>\n",
              "      <th>Maximum_price</th>\n",
              "      <th>Selling_Price</th>\n",
              "      <th>year</th>\n",
              "      <th>month</th>\n",
              "      <th>quarter</th>\n",
              "      <th>day of the week</th>\n",
              "      <th>Dayofyear</th>\n",
              "      <th>hour</th>\n",
              "      <th>charges_1 (%)</th>\n",
              "      <th>charges_2</th>\n",
              "      <th>total_charges</th>\n",
              "      <th>range</th>\n",
              "    </tr>\n",
              "  </thead>\n",
              "  <tbody>\n",
              "    <tr>\n",
              "      <th>0</th>\n",
              "      <td>BRAE2NF6JA5GUEXG</td>\n",
              "      <td>37.0</td>\n",
              "      <td>2015-08-22 18:36:12</td>\n",
              "      <td>2</td>\n",
              "      <td>3706</td>\n",
              "      <td>1</td>\n",
              "      <td>3</td>\n",
              "      <td>1</td>\n",
              "      <td>68</td>\n",
              "      <td>0.0</td>\n",
              "      <td>376.0</td>\n",
              "      <td>11.0</td>\n",
              "      <td>2983.0</td>\n",
              "      <td>4713.0</td>\n",
              "      <td>4185.947700</td>\n",
              "      <td>2015</td>\n",
              "      <td>8</td>\n",
              "      <td>3</td>\n",
              "      <td>5</td>\n",
              "      <td>234</td>\n",
              "      <td>18</td>\n",
              "      <td>3.76</td>\n",
              "      <td>1100.0</td>\n",
              "      <td>1476.0</td>\n",
              "      <td>1730.0</td>\n",
              "    </tr>\n",
              "    <tr>\n",
              "      <th>1</th>\n",
              "      <td>TUNE8SFB6RJN2HSD</td>\n",
              "      <td>38.0</td>\n",
              "      <td>2016-03-27 21:19:13</td>\n",
              "      <td>24</td>\n",
              "      <td>3427</td>\n",
              "      <td>1</td>\n",
              "      <td>3</td>\n",
              "      <td>0</td>\n",
              "      <td>51</td>\n",
              "      <td>0.0</td>\n",
              "      <td>397.0</td>\n",
              "      <td>12.0</td>\n",
              "      <td>7495.0</td>\n",
              "      <td>10352.0</td>\n",
              "      <td>9271.490256</td>\n",
              "      <td>2016</td>\n",
              "      <td>3</td>\n",
              "      <td>1</td>\n",
              "      <td>6</td>\n",
              "      <td>87</td>\n",
              "      <td>21</td>\n",
              "      <td>3.97</td>\n",
              "      <td>1200.0</td>\n",
              "      <td>1597.0</td>\n",
              "      <td>2857.0</td>\n",
              "    </tr>\n",
              "    <tr>\n",
              "      <th>2</th>\n",
              "      <td>BRAEAR7WZPQGPBZU</td>\n",
              "      <td>9.0</td>\n",
              "      <td>2015-08-18 19:25:22</td>\n",
              "      <td>447</td>\n",
              "      <td>4790</td>\n",
              "      <td>1</td>\n",
              "      <td>0</td>\n",
              "      <td>0</td>\n",
              "      <td>10</td>\n",
              "      <td>0.0</td>\n",
              "      <td>250.0</td>\n",
              "      <td>9.0</td>\n",
              "      <td>5752.0</td>\n",
              "      <td>7309.0</td>\n",
              "      <td>6785.701362</td>\n",
              "      <td>2015</td>\n",
              "      <td>8</td>\n",
              "      <td>3</td>\n",
              "      <td>1</td>\n",
              "      <td>230</td>\n",
              "      <td>19</td>\n",
              "      <td>2.50</td>\n",
              "      <td>900.0</td>\n",
              "      <td>1150.0</td>\n",
              "      <td>1557.0</td>\n",
              "    </tr>\n",
              "    <tr>\n",
              "      <th>3</th>\n",
              "      <td>WATDZ2ZQ8JPDHCTJ</td>\n",
              "      <td>50.0</td>\n",
              "      <td>2016-03-28 21:53:01</td>\n",
              "      <td>23</td>\n",
              "      <td>67</td>\n",
              "      <td>1</td>\n",
              "      <td>2</td>\n",
              "      <td>2</td>\n",
              "      <td>48</td>\n",
              "      <td>0.0</td>\n",
              "      <td>144.0</td>\n",
              "      <td>13.0</td>\n",
              "      <td>5090.0</td>\n",
              "      <td>20814.0</td>\n",
              "      <td>13028.917824</td>\n",
              "      <td>2016</td>\n",
              "      <td>3</td>\n",
              "      <td>1</td>\n",
              "      <td>0</td>\n",
              "      <td>88</td>\n",
              "      <td>21</td>\n",
              "      <td>1.44</td>\n",
              "      <td>1300.0</td>\n",
              "      <td>1444.0</td>\n",
              "      <td>15724.0</td>\n",
              "    </tr>\n",
              "    <tr>\n",
              "      <th>4</th>\n",
              "      <td>JWSEBUKYQPMBZ3RK</td>\n",
              "      <td>7.0</td>\n",
              "      <td>2016-03-29 22:58:53</td>\n",
              "      <td>63</td>\n",
              "      <td>1740</td>\n",
              "      <td>1</td>\n",
              "      <td>8</td>\n",
              "      <td>1</td>\n",
              "      <td>35</td>\n",
              "      <td>1.0</td>\n",
              "      <td>211.0</td>\n",
              "      <td>4.0</td>\n",
              "      <td>2430.0</td>\n",
              "      <td>9261.0</td>\n",
              "      <td>906.553935</td>\n",
              "      <td>2016</td>\n",
              "      <td>3</td>\n",
              "      <td>1</td>\n",
              "      <td>1</td>\n",
              "      <td>89</td>\n",
              "      <td>22</td>\n",
              "      <td>2.11</td>\n",
              "      <td>400.0</td>\n",
              "      <td>611.0</td>\n",
              "      <td>6831.0</td>\n",
              "    </tr>\n",
              "  </tbody>\n",
              "</table>\n",
              "</div>"
            ],
            "text/plain": [
              "         Product_id  Stall_no  ... total_charges    range\n",
              "0  BRAE2NF6JA5GUEXG      37.0  ...        1476.0   1730.0\n",
              "1  TUNE8SFB6RJN2HSD      38.0  ...        1597.0   2857.0\n",
              "2  BRAEAR7WZPQGPBZU       9.0  ...        1150.0   1557.0\n",
              "3  WATDZ2ZQ8JPDHCTJ      50.0  ...        1444.0  15724.0\n",
              "4  JWSEBUKYQPMBZ3RK       7.0  ...         611.0   6831.0\n",
              "\n",
              "[5 rows x 25 columns]"
            ]
          },
          "metadata": {
            "tags": []
          },
          "execution_count": 204
        }
      ]
    },
    {
      "cell_type": "markdown",
      "metadata": {
        "id": "IxxNsGlY-03L"
      },
      "source": [
        "###  Split the dataset into training and testing"
      ]
    },
    {
      "cell_type": "code",
      "metadata": {
        "id": "1OX_8YHT-q1D"
      },
      "source": [
        "train =train.drop([\"instock_date\",\"Product_id\"],axis =1)\n"
      ],
      "execution_count": 205,
      "outputs": []
    },
    {
      "cell_type": "code",
      "metadata": {
        "id": "w0Nz0rwx_WRt"
      },
      "source": [
        "x = train\n",
        "x = x.drop([\"Selling_Price\"],axis =1)\n",
        "y = train['Selling_Price']"
      ],
      "execution_count": 269,
      "outputs": []
    },
    {
      "cell_type": "code",
      "metadata": {
        "id": "CR1XPHeP_laG"
      },
      "source": [
        "x_train, x_test, y_train, y_test = train_test_split(x, y, test_size = 0.3, random_state =40)"
      ],
      "execution_count": 207,
      "outputs": []
    },
    {
      "cell_type": "code",
      "metadata": {
        "colab": {
          "base_uri": "https://localhost:8080/"
        },
        "id": "D3RP4rSMd_Nq",
        "outputId": "eef0146d-d3a0-4116-c623-706061a95d51"
      },
      "source": [
        "x.shape,y.shape"
      ],
      "execution_count": 270,
      "outputs": [
        {
          "output_type": "execute_result",
          "data": {
            "text/plain": [
              "((6327, 22), (6327,))"
            ]
          },
          "metadata": {
            "tags": []
          },
          "execution_count": 270
        }
      ]
    },
    {
      "cell_type": "code",
      "metadata": {
        "colab": {
          "base_uri": "https://localhost:8080/"
        },
        "id": "lxB4EJFL_tGA",
        "outputId": "a43f7e02-7cba-4843-93c5-85a206efb931"
      },
      "source": [
        "print(x_train.shape)\n",
        "print(y_train.shape)\n",
        "print(x_test.shape)\n",
        "print(y_test.shape)"
      ],
      "execution_count": 268,
      "outputs": [
        {
          "output_type": "stream",
          "text": [
            "(4428, 22)\n",
            "(4428,)\n",
            "(1899, 22)\n",
            "(1899,)\n"
          ],
          "name": "stdout"
        }
      ]
    },
    {
      "cell_type": "markdown",
      "metadata": {
        "id": "GBjYH4YZDkO6"
      },
      "source": [
        "### Model Building"
      ]
    },
    {
      "cell_type": "markdown",
      "metadata": {
        "id": "F2xw16LdkRSD"
      },
      "source": [
        "#### Linear Regression"
      ]
    },
    {
      "cell_type": "code",
      "metadata": {
        "colab": {
          "base_uri": "https://localhost:8080/"
        },
        "id": "CnB1b6bwDjA7",
        "outputId": "c0b11db8-5e5b-4d64-d338-cf61a66a261f"
      },
      "source": [
        "from sklearn.linear_model import LinearRegression\n",
        "reg = linear_model.LinearRegression()\n",
        "reg.fit(x_train, y_train)"
      ],
      "execution_count": 209,
      "outputs": [
        {
          "output_type": "execute_result",
          "data": {
            "text/plain": [
              "LinearRegression(copy_X=True, fit_intercept=True, n_jobs=None, normalize=False)"
            ]
          },
          "metadata": {
            "tags": []
          },
          "execution_count": 209
        }
      ]
    },
    {
      "cell_type": "code",
      "metadata": {
        "id": "HherARMHHYkA"
      },
      "source": [
        "prediction_reg_training = reg.predict(x_train)\n",
        "prediction_reg = reg.predict(x_test)\n",
        "prediction_reg = pd.DataFrame(prediction_reg)"
      ],
      "execution_count": 210,
      "outputs": []
    },
    {
      "cell_type": "code",
      "metadata": {
        "colab": {
          "base_uri": "https://localhost:8080/"
        },
        "id": "06XQPLkYHhDg",
        "outputId": "8db660bc-c8d9-4dab-a28d-5a0c32f6e8bc"
      },
      "source": [
        "from sklearn.metrics import mean_squared_error \n",
        "print(mean_squared_error(y_test, prediction_reg)**0.5)"
      ],
      "execution_count": 211,
      "outputs": [
        {
          "output_type": "stream",
          "text": [
            "772.2650684769981\n"
          ],
          "name": "stdout"
        }
      ]
    },
    {
      "cell_type": "code",
      "metadata": {
        "colab": {
          "base_uri": "https://localhost:8080/",
          "height": 281
        },
        "id": "uU4fXw0HHraa",
        "outputId": "9ab8f92f-9eec-4984-f750-15f2df892cfa"
      },
      "source": [
        "# Visualising the Linear Regression results \n",
        "plt.scatter(x_train.iloc[:,0].values, y_train.values, color = 'blue')\n",
        "\n",
        "  \n",
        "plt.plot(x_train.iloc[:,0].values, prediction_reg_training, color = 'red') \n",
        "plt.title('Linear Regression') \n",
        "plt.ylabel('Selling Price') \n",
        "  \n",
        "plt.show() "
      ],
      "execution_count": 212,
      "outputs": [
        {
          "output_type": "display_data",
          "data": {
            "image/png": "[encoded data removed]",
            "text/plain": [
              "<Figure size 432x288 with 1 Axes>"
            ]
          },
          "metadata": {
            "tags": [],
            "needs_background": "light"
          }
        }
      ]
    },
    {
      "cell_type": "code",
      "metadata": {
        "colab": {
          "base_uri": "https://localhost:8080/",
          "height": 281
        },
        "id": "I82xSEXvkrfj",
        "outputId": "1c324107-9ee7-4cd3-8c67-5604dd981621"
      },
      "source": [
        "# Visualising the Linear Regression results \n",
        "plt.scatter(x_test.iloc[:,0].values, y_test.values, color = 'blue')\n",
        "  \n",
        "plt.plot(x_test.iloc[:,0].values, prediction_reg.values, color = 'red') \n",
        "plt.title('Linear Regression') \n",
        "plt.ylabel('Selling Price') \n",
        "  \n",
        "plt.show() "
      ],
      "execution_count": 213,
      "outputs": [
        {
          "output_type": "display_data",
          "data": {
            "image/png": "[encoded data removed]",
            "text/plain": [
              "<Figure size 432x288 with 1 Axes>"
            ]
          },
          "metadata": {
            "tags": [],
            "needs_background": "light"
          }
        }
      ]
    },
    {
      "cell_type": "code",
      "metadata": {
        "colab": {
          "base_uri": "https://localhost:8080/",
          "height": 408
        },
        "id": "PgEgWErdp8KM",
        "outputId": "547384cf-5c5c-44cd-87cc-f53ae9d8778c"
      },
      "source": [
        " prediction_reg"
      ],
      "execution_count": null,
      "outputs": [
        {
          "output_type": "execute_result",
          "data": {
            "text/html": [
              "<div>\n",
              "<style scoped>\n",
              "    .dataframe tbody tr th:only-of-type {\n",
              "        vertical-align: middle;\n",
              "    }\n",
              "\n",
              "    .dataframe tbody tr th {\n",
              "        vertical-align: top;\n",
              "    }\n",
              "\n",
              "    .dataframe thead th {\n",
              "        text-align: right;\n",
              "    }\n",
              "</style>\n",
              "<table border=\"1\" class=\"dataframe\">\n",
              "  <thead>\n",
              "    <tr style=\"text-align: right;\">\n",
              "      <th></th>\n",
              "      <th>0</th>\n",
              "    </tr>\n",
              "  </thead>\n",
              "  <tbody>\n",
              "    <tr>\n",
              "      <th>0</th>\n",
              "      <td>994.214180</td>\n",
              "    </tr>\n",
              "    <tr>\n",
              "      <th>1</th>\n",
              "      <td>5384.347925</td>\n",
              "    </tr>\n",
              "    <tr>\n",
              "      <th>2</th>\n",
              "      <td>4109.182867</td>\n",
              "    </tr>\n",
              "    <tr>\n",
              "      <th>3</th>\n",
              "      <td>798.351527</td>\n",
              "    </tr>\n",
              "    <tr>\n",
              "      <th>4</th>\n",
              "      <td>5751.822039</td>\n",
              "    </tr>\n",
              "    <tr>\n",
              "      <th>...</th>\n",
              "      <td>...</td>\n",
              "    </tr>\n",
              "    <tr>\n",
              "      <th>1894</th>\n",
              "      <td>4018.319983</td>\n",
              "    </tr>\n",
              "    <tr>\n",
              "      <th>1895</th>\n",
              "      <td>7374.614429</td>\n",
              "    </tr>\n",
              "    <tr>\n",
              "      <th>1896</th>\n",
              "      <td>4161.893153</td>\n",
              "    </tr>\n",
              "    <tr>\n",
              "      <th>1897</th>\n",
              "      <td>5968.202032</td>\n",
              "    </tr>\n",
              "    <tr>\n",
              "      <th>1898</th>\n",
              "      <td>4429.710327</td>\n",
              "    </tr>\n",
              "  </tbody>\n",
              "</table>\n",
              "<p>1899 rows × 1 columns</p>\n",
              "</div>"
            ],
            "text/plain": [
              "                0\n",
              "0      994.214180\n",
              "1     5384.347925\n",
              "2     4109.182867\n",
              "3      798.351527\n",
              "4     5751.822039\n",
              "...           ...\n",
              "1894  4018.319983\n",
              "1895  7374.614429\n",
              "1896  4161.893153\n",
              "1897  5968.202032\n",
              "1898  4429.710327\n",
              "\n",
              "[1899 rows x 1 columns]"
            ]
          },
          "metadata": {
            "tags": []
          },
          "execution_count": 52
        }
      ]
    },
    {
      "cell_type": "code",
      "metadata": {
        "colab": {
          "base_uri": "https://localhost:8080/",
          "height": 408
        },
        "id": "LEQ78zNhqShs",
        "outputId": "41d58ad5-712a-4968-bd49-08908a86ed86"
      },
      "source": [
        "y_pred = pd.DataFrame(y_pred)\n",
        "y_pred"
      ],
      "execution_count": null,
      "outputs": [
        {
          "output_type": "execute_result",
          "data": {
            "text/html": [
              "<div>\n",
              "<style scoped>\n",
              "    .dataframe tbody tr th:only-of-type {\n",
              "        vertical-align: middle;\n",
              "    }\n",
              "\n",
              "    .dataframe tbody tr th {\n",
              "        vertical-align: top;\n",
              "    }\n",
              "\n",
              "    .dataframe thead th {\n",
              "        text-align: right;\n",
              "    }\n",
              "</style>\n",
              "<table border=\"1\" class=\"dataframe\">\n",
              "  <thead>\n",
              "    <tr style=\"text-align: right;\">\n",
              "      <th></th>\n",
              "      <th>0</th>\n",
              "    </tr>\n",
              "  </thead>\n",
              "  <tbody>\n",
              "    <tr>\n",
              "      <th>0</th>\n",
              "      <td>0.179911</td>\n",
              "    </tr>\n",
              "    <tr>\n",
              "      <th>1</th>\n",
              "      <td>0.367428</td>\n",
              "    </tr>\n",
              "    <tr>\n",
              "      <th>2</th>\n",
              "      <td>0.312961</td>\n",
              "    </tr>\n",
              "    <tr>\n",
              "      <th>3</th>\n",
              "      <td>0.171545</td>\n",
              "    </tr>\n",
              "    <tr>\n",
              "      <th>4</th>\n",
              "      <td>0.383124</td>\n",
              "    </tr>\n",
              "    <tr>\n",
              "      <th>...</th>\n",
              "      <td>...</td>\n",
              "    </tr>\n",
              "    <tr>\n",
              "      <th>1894</th>\n",
              "      <td>0.309080</td>\n",
              "    </tr>\n",
              "    <tr>\n",
              "      <th>1895</th>\n",
              "      <td>0.452439</td>\n",
              "    </tr>\n",
              "    <tr>\n",
              "      <th>1896</th>\n",
              "      <td>0.315213</td>\n",
              "    </tr>\n",
              "    <tr>\n",
              "      <th>1897</th>\n",
              "      <td>0.392366</td>\n",
              "    </tr>\n",
              "    <tr>\n",
              "      <th>1898</th>\n",
              "      <td>0.326652</td>\n",
              "    </tr>\n",
              "  </tbody>\n",
              "</table>\n",
              "<p>1899 rows × 1 columns</p>\n",
              "</div>"
            ],
            "text/plain": [
              "             0\n",
              "0     0.179911\n",
              "1     0.367428\n",
              "2     0.312961\n",
              "3     0.171545\n",
              "4     0.383124\n",
              "...        ...\n",
              "1894  0.309080\n",
              "1895  0.452439\n",
              "1896  0.315213\n",
              "1897  0.392366\n",
              "1898  0.326652\n",
              "\n",
              "[1899 rows x 1 columns]"
            ]
          },
          "metadata": {
            "tags": []
          },
          "execution_count": 55
        }
      ]
    },
    {
      "cell_type": "code",
      "metadata": {
        "colab": {
          "base_uri": "https://localhost:8080/"
        },
        "id": "Jh_ARdlMq9RY",
        "outputId": "6a5733de-70f8-4ac2-8947-48a795f7a6cd"
      },
      "source": [
        "y_test"
      ],
      "execution_count": null,
      "outputs": [
        {
          "output_type": "execute_result",
          "data": {
            "text/plain": [
              "4315     820.193947\n",
              "5677    5609.860200\n",
              "2606    4065.383421\n",
              "5081     762.448005\n",
              "3916    5935.126428\n",
              "           ...     \n",
              "1241    3582.670875\n",
              "1063    7669.637850\n",
              "5800    4079.176500\n",
              "5626    6088.161123\n",
              "4572    4580.681886\n",
              "Name: Selling_Price, Length: 1899, dtype: float64"
            ]
          },
          "metadata": {
            "tags": []
          },
          "execution_count": 59
        }
      ]
    },
    {
      "cell_type": "markdown",
      "metadata": {
        "id": "zsobhmAW3bIT"
      },
      "source": [
        "#### Decision Tree Regressor"
      ]
    },
    {
      "cell_type": "code",
      "metadata": {
        "colab": {
          "base_uri": "https://localhost:8080/"
        },
        "id": "vWcBPtKY2tHv",
        "outputId": "63bd9f35-0dd6-4ee0-dc4c-8494a49fb12b"
      },
      "source": [
        "from sklearn.tree import DecisionTreeRegressor  \n",
        "# create a regressor object \n",
        "regressor = DecisionTreeRegressor()  \n",
        "regressor.fit(x_train, y_train) "
      ],
      "execution_count": 214,
      "outputs": [
        {
          "output_type": "execute_result",
          "data": {
            "text/plain": [
              "DecisionTreeRegressor(ccp_alpha=0.0, criterion='mse', max_depth=None,\n",
              "                      max_features=None, max_leaf_nodes=None,\n",
              "                      min_impurity_decrease=0.0, min_impurity_split=None,\n",
              "                      min_samples_leaf=1, min_samples_split=2,\n",
              "                      min_weight_fraction_leaf=0.0, presort='deprecated',\n",
              "                      random_state=None, splitter='best')"
            ]
          },
          "metadata": {
            "tags": []
          },
          "execution_count": 214
        }
      ]
    },
    {
      "cell_type": "code",
      "metadata": {
        "id": "LvX5oiON2tS1"
      },
      "source": [
        "pred_dt =regressor.predict(x_test) \n",
        "pred_dt = pd.DataFrame(pred_dt)"
      ],
      "execution_count": 215,
      "outputs": []
    },
    {
      "cell_type": "code",
      "metadata": {
        "colab": {
          "base_uri": "https://localhost:8080/"
        },
        "id": "D1QanlIB4QV7",
        "outputId": "1bab3f4f-360b-44da-c161-70220b0c32f1"
      },
      "source": [
        "from sklearn.metrics import mean_squared_error \n",
        "print(mean_squared_error(y_test, pred_dt)**0.5)"
      ],
      "execution_count": 216,
      "outputs": [
        {
          "output_type": "stream",
          "text": [
            "447.4141394812788\n"
          ],
          "name": "stdout"
        }
      ]
    },
    {
      "cell_type": "code",
      "metadata": {
        "colab": {
          "base_uri": "https://localhost:8080/",
          "height": 645
        },
        "id": "I7Xzkxhg6F35",
        "outputId": "7b8dcbe6-a22a-4566-e49c-1a0aeb61b62d"
      },
      "source": [
        "importance = regressor.feature_importances_\n",
        "# summarize feature importance\n",
        "for i,v in enumerate(importance):\n",
        "\tprint('Feature: %0d, Score: %.5f' % (i,v))\n",
        "# plot feature importance\n",
        "pyplot.bar([x for x in range(len(importance))], importance)\n",
        "pyplot.show()\n"
      ],
      "execution_count": 217,
      "outputs": [
        {
          "output_type": "stream",
          "text": [
            "Feature: 0, Score: 0.00020\n",
            "Feature: 1, Score: 0.00023\n",
            "Feature: 2, Score: 0.00168\n",
            "Feature: 3, Score: 0.00001\n",
            "Feature: 4, Score: 0.00028\n",
            "Feature: 5, Score: 0.00181\n",
            "Feature: 6, Score: 0.00090\n",
            "Feature: 7, Score: 0.28977\n",
            "Feature: 8, Score: 0.00069\n",
            "Feature: 9, Score: 0.00042\n",
            "Feature: 10, Score: 0.18969\n",
            "Feature: 11, Score: 0.50148\n",
            "Feature: 12, Score: 0.00000\n",
            "Feature: 13, Score: 0.00005\n",
            "Feature: 14, Score: 0.00013\n",
            "Feature: 15, Score: 0.00092\n",
            "Feature: 16, Score: 0.00006\n",
            "Feature: 17, Score: 0.00019\n",
            "Feature: 18, Score: 0.00205\n",
            "Feature: 19, Score: 0.00014\n",
            "Feature: 20, Score: 0.00053\n",
            "Feature: 21, Score: 0.00878\n"
          ],
          "name": "stdout"
        },
        {
          "output_type": "display_data",
          "data": {
            "image/png": "[encoded data removed]",
            "text/plain": [
              "<Figure size 432x288 with 1 Axes>"
            ]
          },
          "metadata": {
            "tags": [],
            "needs_background": "light"
          }
        }
      ]
    },
    {
      "cell_type": "code",
      "metadata": {
        "colab": {
          "base_uri": "https://localhost:8080/"
        },
        "id": "8JafHC4q6oGH",
        "outputId": "48e9491b-9962-4f3e-a908-af33203caff8"
      },
      "source": [
        "x_train.info()"
      ],
      "execution_count": 63,
      "outputs": [
        {
          "output_type": "stream",
          "text": [
            "<class 'pandas.core.frame.DataFrame'>\n",
            "Int64Index: 4428 entries, 2949 to 3420\n",
            "Data columns (total 33 columns):\n",
            " #   Column                        Non-Null Count  Dtype  \n",
            "---  ------                        --------------  -----  \n",
            " 0   Stall_no                      4428 non-null   float64\n",
            " 1   Market_Category               4428 non-null   int64  \n",
            " 2   Customer_name                 4428 non-null   int64  \n",
            " 3   Loyalty_customer              4428 non-null   int64  \n",
            " 4   Grade                         4428 non-null   int64  \n",
            " 5   Demand                        4428 non-null   int64  \n",
            " 6   Discount_avail                4428 non-null   float64\n",
            " 7   charges_1                     4428 non-null   float64\n",
            " 8   charges_2 (%)                 4428 non-null   float64\n",
            " 9   Minimum_price                 4428 non-null   float64\n",
            " 10  Maximum_price                 4428 non-null   float64\n",
            " 11  year                          4428 non-null   int64  \n",
            " 12  month                         4428 non-null   int64  \n",
            " 13  quarter                       4428 non-null   int64  \n",
            " 14  day of the week               4428 non-null   int64  \n",
            " 15  Dayofyear                     4428 non-null   int64  \n",
            " 16  hour                          4428 non-null   int64  \n",
            " 17  Product_Category_Cosmetics    4428 non-null   uint8  \n",
            " 18  Product_Category_Educational  4428 non-null   uint8  \n",
            " 19  Product_Category_Fashion      4428 non-null   uint8  \n",
            " 20  Product_Category_Home_decor   4428 non-null   uint8  \n",
            " 21  Product_Category_Hospitality  4428 non-null   uint8  \n",
            " 22  Product_Category_Organic      4428 non-null   uint8  \n",
            " 23  Product_Category_Pet_care     4428 non-null   uint8  \n",
            " 24  Product_Category_Repair       4428 non-null   uint8  \n",
            " 25  Product_Category_Technology   4428 non-null   uint8  \n",
            " 26  2014                          4428 non-null   uint8  \n",
            " 27  2015                          4428 non-null   uint8  \n",
            " 28  2016                          4428 non-null   uint8  \n",
            " 29  charges_1 (%)                 4428 non-null   float64\n",
            " 30  charges_2                     4428 non-null   float64\n",
            " 31  total_charges                 4428 non-null   float64\n",
            " 32  range                         4428 non-null   float64\n",
            "dtypes: float64(10), int64(11), uint8(12)\n",
            "memory usage: 813.0 KB\n"
          ],
          "name": "stdout"
        }
      ]
    },
    {
      "cell_type": "code",
      "metadata": {
        "id": "zYxaSTRX3pju"
      },
      "source": [
        "from sklearn.linear_model import LinearRegression\n",
        "from sklearn.linear_model import Ridge\n",
        "from sklearn.tree import DecisionTreeRegressor\n",
        "from sklearn.ensemble import ExtraTreesRegressor\n",
        "from sklearn.ensemble import RandomForestRegressor\n",
        "import xgboost\n",
        "from sklearn.ensemble import VotingRegressor\n",
        "from sklearn.ensemble import AdaBoostRegressor\n",
        "from sklearn.ensemble import GradientBoostingRegressor\n",
        "from sklearn.neighbors import KNeighborsRegressor\n",
        "from lightgbm import LGBMRegressor\n",
        "from sklearn.linear_model import ElasticNet\n",
        "from sklearn.ensemble import StackingRegressor\n",
        "#Evalution Metrix\n",
        "from sklearn.metrics import r2_score\n",
        "from sklearn.model_selection import cross_validate\n",
        "from sklearn.metrics import mean_squared_error"
      ],
      "execution_count": 271,
      "outputs": []
    },
    {
      "cell_type": "code",
      "metadata": {
        "id": "BWIt2L5OBv9V"
      },
      "source": [
        "gbr = GradientBoostingRegressor(random_state=0)\n",
        "xgb = xgboost.XGBRegressor(n_jobs=-1)\n",
        "et = ExtraTreesRegressor(n_jobs=-1)\n",
        "rf = RandomForestRegressor(n_jobs=-1)\n",
        "ds = DecisionTreeRegressor()"
      ],
      "execution_count": 272,
      "outputs": []
    },
    {
      "cell_type": "code",
      "metadata": {
        "id": "aI3boSGbB-5M"
      },
      "source": [
        "reg = {\n",
        "\"LinearRegression\": LinearRegression(),\n",
        "\"KNeighborsRegressor\":KNeighborsRegressor(n_neighbors=2),\n",
        "\"AdaBoostRegressor\":AdaBoostRegressor(random_state=0, n_estimators=100),\n",
        "\"LGBMRegressor\":LGBMRegressor(),\n",
        "\"Ridge\": Ridge(alpha=1.0),\n",
        "\"ElasticNet\":ElasticNet(random_state=0),\n",
        "\"GradientBoostingRegressor\":GradientBoostingRegressor(random_state=0),\n",
        "\"DecisionTreeRegressor\": DecisionTreeRegressor(),\n",
        "\"ExtraTreesRegressor\": ExtraTreesRegressor(n_jobs=-1),\n",
        "\"RandomForestRegressor\": RandomForestRegressor(n_jobs=-1),\n",
        "\"XGBRegressor\":xgboost.XGBRegressor(n_jobs=-1)\n",
        "}\n"
      ],
      "execution_count": 273,
      "outputs": []
    },
    {
      "cell_type": "code",
      "metadata": {
        "colab": {
          "base_uri": "https://localhost:8080/"
        },
        "id": "DdchMsItB--t",
        "outputId": "7e67cbe8-9ec7-40f7-e428-939f4e38cb60"
      },
      "source": [
        "%%time\n",
        "dic =  {\"Model\":[],\"R2_Train\":[],\"RMSE_Train\":[]}\n",
        "for name, model in reg.items():\n",
        "\n",
        "   \n",
        "  model.fit(x_train, y_train)\n",
        "  y_train_pre = model.predict(x_test)\n",
        "  r2 = r2_score(y_test, y_train_pre)\n",
        "  rmse  = np.sqrt(mean_squared_error(y_test, y_train_pre))\n",
        "  print(\"--------------------------------------------------------------\")\n",
        "  print(\"Model:\", name)\n",
        "  print(\"-----Training Data Evalution-----\")\n",
        "  print(\"R2 Value: \", r2_score(y_test, y_train_pre))\n",
        "  print(\"RMSE: \",np.sqrt(mean_squared_error(y_test, y_train_pre)))\n",
        "  dic[\"Model\"].append(name)\n",
        "  dic[\"R2_Train\"].append(r2)\n",
        "  dic[\"RMSE_Train\"].append(rmse)\n"
      ],
      "execution_count": 274,
      "outputs": [
        {
          "output_type": "stream",
          "text": [
            "--------------------------------------------------------------\n",
            "Model: LinearRegression\n",
            "-----Training Data Evalution-----\n",
            "R2 Value:  0.9264617055358184\n",
            "RMSE:  772.2650684769981\n",
            "--------------------------------------------------------------\n",
            "Model: KNeighborsRegressor\n",
            "-----Training Data Evalution-----\n",
            "R2 Value:  0.5066549308344905\n",
            "RMSE:  2000.2533680469712\n",
            "--------------------------------------------------------------\n",
            "Model: AdaBoostRegressor\n",
            "-----Training Data Evalution-----\n",
            "R2 Value:  0.8660939523460852\n",
            "RMSE:  1042.1007542509792\n",
            "--------------------------------------------------------------\n",
            "Model: LGBMRegressor\n",
            "-----Training Data Evalution-----\n",
            "R2 Value:  0.9910302760994496\n",
            "RMSE:  269.7113059821462\n",
            "--------------------------------------------------------------\n",
            "Model: Ridge\n",
            "-----Training Data Evalution-----\n",
            "R2 Value:  0.9264950793292154\n",
            "RMSE:  772.0898105391178\n",
            "--------------------------------------------------------------\n",
            "Model: ElasticNet\n",
            "-----Training Data Evalution-----\n",
            "R2 Value:  0.7500123066585302\n",
            "RMSE:  1423.8653746402715\n"
          ],
          "name": "stdout"
        },
        {
          "output_type": "stream",
          "text": [
            "/usr/local/lib/python3.6/dist-packages/sklearn/linear_model/_coordinate_descent.py:476: ConvergenceWarning: Objective did not converge. You might want to increase the number of iterations. Duality gap: 2494028126.3352985, tolerance: 3973437.5057197907\n",
            "  positive)\n"
          ],
          "name": "stderr"
        },
        {
          "output_type": "stream",
          "text": [
            "--------------------------------------------------------------\n",
            "Model: GradientBoostingRegressor\n",
            "-----Training Data Evalution-----\n",
            "R2 Value:  0.9878056689956347\n",
            "RMSE:  314.47679454887094\n",
            "--------------------------------------------------------------\n",
            "Model: DecisionTreeRegressor\n",
            "-----Training Data Evalution-----\n",
            "R2 Value:  0.9735348927626192\n",
            "RMSE:  463.28308451451517\n",
            "--------------------------------------------------------------\n",
            "Model: ExtraTreesRegressor\n",
            "-----Training Data Evalution-----\n",
            "R2 Value:  0.9929305363691191\n",
            "RMSE:  239.4433867667961\n",
            "--------------------------------------------------------------\n",
            "Model: RandomForestRegressor\n",
            "-----Training Data Evalution-----\n",
            "R2 Value:  0.991830270008379\n",
            "RMSE:  257.40291811762404\n",
            "[06:37:57] WARNING: /workspace/src/objective/regression_obj.cu:152: reg:linear is now deprecated in favor of reg:squarederror.\n",
            "--------------------------------------------------------------\n",
            "Model: XGBRegressor\n",
            "-----Training Data Evalution-----\n",
            "R2 Value:  0.9884646082765025\n",
            "RMSE:  305.8621858660208\n",
            "CPU times: user 15 s, sys: 405 ms, total: 15.4 s\n",
            "Wall time: 9.41 s\n"
          ],
          "name": "stdout"
        }
      ]
    },
    {
      "cell_type": "code",
      "metadata": {
        "colab": {
          "base_uri": "https://localhost:8080/",
          "height": 379
        },
        "id": "qXn6tVMvBwGn",
        "outputId": "62330572-00db-4dfe-c8ea-da8ea4783f1d"
      },
      "source": [
        "final_data = pd.DataFrame(dic)\n",
        "final_data"
      ],
      "execution_count": 275,
      "outputs": [
        {
          "output_type": "execute_result",
          "data": {
            "text/html": [
              "<div>\n",
              "<style scoped>\n",
              "    .dataframe tbody tr th:only-of-type {\n",
              "        vertical-align: middle;\n",
              "    }\n",
              "\n",
              "    .dataframe tbody tr th {\n",
              "        vertical-align: top;\n",
              "    }\n",
              "\n",
              "    .dataframe thead th {\n",
              "        text-align: right;\n",
              "    }\n",
              "</style>\n",
              "<table border=\"1\" class=\"dataframe\">\n",
              "  <thead>\n",
              "    <tr style=\"text-align: right;\">\n",
              "      <th></th>\n",
              "      <th>Model</th>\n",
              "      <th>R2_Train</th>\n",
              "      <th>RMSE_Train</th>\n",
              "    </tr>\n",
              "  </thead>\n",
              "  <tbody>\n",
              "    <tr>\n",
              "      <th>0</th>\n",
              "      <td>LinearRegression</td>\n",
              "      <td>0.926462</td>\n",
              "      <td>772.265068</td>\n",
              "    </tr>\n",
              "    <tr>\n",
              "      <th>1</th>\n",
              "      <td>KNeighborsRegressor</td>\n",
              "      <td>0.506655</td>\n",
              "      <td>2000.253368</td>\n",
              "    </tr>\n",
              "    <tr>\n",
              "      <th>2</th>\n",
              "      <td>AdaBoostRegressor</td>\n",
              "      <td>0.866094</td>\n",
              "      <td>1042.100754</td>\n",
              "    </tr>\n",
              "    <tr>\n",
              "      <th>3</th>\n",
              "      <td>LGBMRegressor</td>\n",
              "      <td>0.991030</td>\n",
              "      <td>269.711306</td>\n",
              "    </tr>\n",
              "    <tr>\n",
              "      <th>4</th>\n",
              "      <td>Ridge</td>\n",
              "      <td>0.926495</td>\n",
              "      <td>772.089811</td>\n",
              "    </tr>\n",
              "    <tr>\n",
              "      <th>5</th>\n",
              "      <td>ElasticNet</td>\n",
              "      <td>0.750012</td>\n",
              "      <td>1423.865375</td>\n",
              "    </tr>\n",
              "    <tr>\n",
              "      <th>6</th>\n",
              "      <td>GradientBoostingRegressor</td>\n",
              "      <td>0.987806</td>\n",
              "      <td>314.476795</td>\n",
              "    </tr>\n",
              "    <tr>\n",
              "      <th>7</th>\n",
              "      <td>DecisionTreeRegressor</td>\n",
              "      <td>0.973535</td>\n",
              "      <td>463.283085</td>\n",
              "    </tr>\n",
              "    <tr>\n",
              "      <th>8</th>\n",
              "      <td>ExtraTreesRegressor</td>\n",
              "      <td>0.992931</td>\n",
              "      <td>239.443387</td>\n",
              "    </tr>\n",
              "    <tr>\n",
              "      <th>9</th>\n",
              "      <td>RandomForestRegressor</td>\n",
              "      <td>0.991830</td>\n",
              "      <td>257.402918</td>\n",
              "    </tr>\n",
              "    <tr>\n",
              "      <th>10</th>\n",
              "      <td>XGBRegressor</td>\n",
              "      <td>0.988465</td>\n",
              "      <td>305.862186</td>\n",
              "    </tr>\n",
              "  </tbody>\n",
              "</table>\n",
              "</div>"
            ],
            "text/plain": [
              "                        Model  R2_Train   RMSE_Train\n",
              "0            LinearRegression  0.926462   772.265068\n",
              "1         KNeighborsRegressor  0.506655  2000.253368\n",
              "2           AdaBoostRegressor  0.866094  1042.100754\n",
              "3               LGBMRegressor  0.991030   269.711306\n",
              "4                       Ridge  0.926495   772.089811\n",
              "5                  ElasticNet  0.750012  1423.865375\n",
              "6   GradientBoostingRegressor  0.987806   314.476795\n",
              "7       DecisionTreeRegressor  0.973535   463.283085\n",
              "8         ExtraTreesRegressor  0.992931   239.443387\n",
              "9       RandomForestRegressor  0.991830   257.402918\n",
              "10               XGBRegressor  0.988465   305.862186"
            ]
          },
          "metadata": {
            "tags": []
          },
          "execution_count": 275
        }
      ]
    },
    {
      "cell_type": "code",
      "metadata": {
        "colab": {
          "base_uri": "https://localhost:8080/",
          "height": 379
        },
        "id": "6Qj0raMRBwQd",
        "outputId": "5dac833c-2b72-4a26-c644-a47470eaf9c9"
      },
      "source": [
        "final_data.sort_values(\"RMSE_Train\", axis = 0, ascending = True)"
      ],
      "execution_count": 276,
      "outputs": [
        {
          "output_type": "execute_result",
          "data": {
            "text/html": [
              "<div>\n",
              "<style scoped>\n",
              "    .dataframe tbody tr th:only-of-type {\n",
              "        vertical-align: middle;\n",
              "    }\n",
              "\n",
              "    .dataframe tbody tr th {\n",
              "        vertical-align: top;\n",
              "    }\n",
              "\n",
              "    .dataframe thead th {\n",
              "        text-align: right;\n",
              "    }\n",
              "</style>\n",
              "<table border=\"1\" class=\"dataframe\">\n",
              "  <thead>\n",
              "    <tr style=\"text-align: right;\">\n",
              "      <th></th>\n",
              "      <th>Model</th>\n",
              "      <th>R2_Train</th>\n",
              "      <th>RMSE_Train</th>\n",
              "    </tr>\n",
              "  </thead>\n",
              "  <tbody>\n",
              "    <tr>\n",
              "      <th>8</th>\n",
              "      <td>ExtraTreesRegressor</td>\n",
              "      <td>0.992931</td>\n",
              "      <td>239.443387</td>\n",
              "    </tr>\n",
              "    <tr>\n",
              "      <th>9</th>\n",
              "      <td>RandomForestRegressor</td>\n",
              "      <td>0.991830</td>\n",
              "      <td>257.402918</td>\n",
              "    </tr>\n",
              "    <tr>\n",
              "      <th>3</th>\n",
              "      <td>LGBMRegressor</td>\n",
              "      <td>0.991030</td>\n",
              "      <td>269.711306</td>\n",
              "    </tr>\n",
              "    <tr>\n",
              "      <th>10</th>\n",
              "      <td>XGBRegressor</td>\n",
              "      <td>0.988465</td>\n",
              "      <td>305.862186</td>\n",
              "    </tr>\n",
              "    <tr>\n",
              "      <th>6</th>\n",
              "      <td>GradientBoostingRegressor</td>\n",
              "      <td>0.987806</td>\n",
              "      <td>314.476795</td>\n",
              "    </tr>\n",
              "    <tr>\n",
              "      <th>7</th>\n",
              "      <td>DecisionTreeRegressor</td>\n",
              "      <td>0.973535</td>\n",
              "      <td>463.283085</td>\n",
              "    </tr>\n",
              "    <tr>\n",
              "      <th>4</th>\n",
              "      <td>Ridge</td>\n",
              "      <td>0.926495</td>\n",
              "      <td>772.089811</td>\n",
              "    </tr>\n",
              "    <tr>\n",
              "      <th>0</th>\n",
              "      <td>LinearRegression</td>\n",
              "      <td>0.926462</td>\n",
              "      <td>772.265068</td>\n",
              "    </tr>\n",
              "    <tr>\n",
              "      <th>2</th>\n",
              "      <td>AdaBoostRegressor</td>\n",
              "      <td>0.866094</td>\n",
              "      <td>1042.100754</td>\n",
              "    </tr>\n",
              "    <tr>\n",
              "      <th>5</th>\n",
              "      <td>ElasticNet</td>\n",
              "      <td>0.750012</td>\n",
              "      <td>1423.865375</td>\n",
              "    </tr>\n",
              "    <tr>\n",
              "      <th>1</th>\n",
              "      <td>KNeighborsRegressor</td>\n",
              "      <td>0.506655</td>\n",
              "      <td>2000.253368</td>\n",
              "    </tr>\n",
              "  </tbody>\n",
              "</table>\n",
              "</div>"
            ],
            "text/plain": [
              "                        Model  R2_Train   RMSE_Train\n",
              "8         ExtraTreesRegressor  0.992931   239.443387\n",
              "9       RandomForestRegressor  0.991830   257.402918\n",
              "3               LGBMRegressor  0.991030   269.711306\n",
              "10               XGBRegressor  0.988465   305.862186\n",
              "6   GradientBoostingRegressor  0.987806   314.476795\n",
              "7       DecisionTreeRegressor  0.973535   463.283085\n",
              "4                       Ridge  0.926495   772.089811\n",
              "0            LinearRegression  0.926462   772.265068\n",
              "2           AdaBoostRegressor  0.866094  1042.100754\n",
              "5                  ElasticNet  0.750012  1423.865375\n",
              "1         KNeighborsRegressor  0.506655  2000.253368"
            ]
          },
          "metadata": {
            "tags": []
          },
          "execution_count": 276
        }
      ]
    },
    {
      "cell_type": "code",
      "metadata": {
        "colab": {
          "base_uri": "https://localhost:8080/"
        },
        "id": "Oi63-Y3jEJMw",
        "outputId": "abd9eb48-7ced-4235-9a15-5d566892da80"
      },
      "source": [
        "%%time\n",
        "\n",
        "model = VotingRegressor([('et', et),('rf',rf)],n_jobs=-1)\n",
        "\n",
        "model.fit(x_train,y_train)\n",
        "\n",
        "y_pred = model.predict(x_test)\n",
        "r2_test = r2_score(y_test, y_pred)\n",
        "rmse_test  = np.sqrt(mean_squared_error(y_test, y_pred))\n",
        "print(\"R2 Value: \", r2_test)\n",
        "print(\"RMSE: \",rmse_test)"
      ],
      "execution_count": 277,
      "outputs": [
        {
          "output_type": "stream",
          "text": [
            "R2 Value:  0.9923444697731341\n",
            "RMSE:  249.17086059741843\n",
            "CPU times: user 375 ms, sys: 241 ms, total: 616 ms\n",
            "Wall time: 7.66 s\n"
          ],
          "name": "stdout"
        }
      ]
    },
    {
      "cell_type": "code",
      "metadata": {
        "colab": {
          "base_uri": "https://localhost:8080/"
        },
        "id": "7qLVeaXmnwrK",
        "outputId": "99005658-35ce-48c7-cf60-e85f66382141"
      },
      "source": [
        "%%time\n",
        "\n",
        "model = VotingRegressor([('et', et),('rf',rf)],n_jobs=-1)\n",
        "\n",
        "model.fit(x,y)\n",
        "\n",
        "y_pred = model.predict(x)\n",
        "r2_test = r2_score(y, y_pred)\n",
        "rmse_test  = np.sqrt(mean_squared_error(y, y_pred))\n",
        "print(\"R2 Value: \", r2_test)\n",
        "print(\"RMSE: \",rmse_test)"
      ],
      "execution_count": 335,
      "outputs": [
        {
          "output_type": "stream",
          "text": [
            "R2 Value:  0.9996079663080688\n",
            "RMSE:  58.45719091671143\n",
            "CPU times: user 666 ms, sys: 481 ms, total: 1.15 s\n",
            "Wall time: 11.1 s\n"
          ],
          "name": "stdout"
        }
      ]
    },
    {
      "cell_type": "code",
      "metadata": {
        "colab": {
          "base_uri": "https://localhost:8080/"
        },
        "id": "YnF79Kx5EJHp",
        "outputId": "550ecddf-b83c-4668-b931-4ad7054f6886"
      },
      "source": [
        "%%time\n",
        "\n",
        "model = VotingRegressor([('et', et),('rf',rf)],n_jobs=-1)\n",
        "\n",
        "model.fit(x_train_et,y_train)\n",
        "\n",
        "y_pred = model.predict(x_test_et)\n",
        "r2_test = r2_score(y_test, y_pred)\n",
        "rmse_test  = np.sqrt(mean_squared_error(y_test, y_pred))\n",
        "print(\"R2 Value: \", r2_test)\n",
        "print(\"RMSE: \",rmse_test)"
      ],
      "execution_count": 260,
      "outputs": [
        {
          "output_type": "stream",
          "text": [
            "R2 Value:  0.9916594217238592\n",
            "RMSE:  260.0804426656285\n",
            "CPU times: user 303 ms, sys: 274 ms, total: 577 ms\n",
            "Wall time: 3.89 s\n"
          ],
          "name": "stdout"
        }
      ]
    },
    {
      "cell_type": "markdown",
      "metadata": {
        "id": "yXJoaiNC89YS"
      },
      "source": [
        "#### Randomforest regression"
      ]
    },
    {
      "cell_type": "code",
      "metadata": {
        "colab": {
          "base_uri": "https://localhost:8080/"
        },
        "id": "HrG88cHu8tG3",
        "outputId": "29a80de2-2a06-47bb-bb3a-55acb4de8d18"
      },
      "source": [
        "from sklearn.ensemble import RandomForestRegressor \n",
        "# create regressor object \n",
        "reg_rf = RandomForestRegressor() \n",
        "\n",
        "# fit the regressor with x and y data \n",
        "reg_rf.fit(x, y)\n"
      ],
      "execution_count": 278,
      "outputs": [
        {
          "output_type": "execute_result",
          "data": {
            "text/plain": [
              "RandomForestRegressor(bootstrap=True, ccp_alpha=0.0, criterion='mse',\n",
              "                      max_depth=None, max_features='auto', max_leaf_nodes=None,\n",
              "                      max_samples=None, min_impurity_decrease=0.0,\n",
              "                      min_impurity_split=None, min_samples_leaf=1,\n",
              "                      min_samples_split=2, min_weight_fraction_leaf=0.0,\n",
              "                      n_estimators=100, n_jobs=None, oob_score=False,\n",
              "                      random_state=None, verbose=0, warm_start=False)"
            ]
          },
          "metadata": {
            "tags": []
          },
          "execution_count": 278
        }
      ]
    },
    {
      "cell_type": "code",
      "metadata": {
        "id": "OhvJS-vi8tUa"
      },
      "source": [
        "pred_rf = reg_rf.predict(x)\n",
        "pred_rf = pd.DataFrame(pred_rf)"
      ],
      "execution_count": 284,
      "outputs": []
    },
    {
      "cell_type": "code",
      "metadata": {
        "colab": {
          "base_uri": "https://localhost:8080/"
        },
        "id": "90HtwaTD8ti2",
        "outputId": "fcef46dd-debf-4a59-a7f7-79c1a9285dab"
      },
      "source": [
        "from sklearn.metrics import mean_squared_error \n",
        "print(mean_squared_error(y, pred_rf)**0.5)"
      ],
      "execution_count": 285,
      "outputs": [
        {
          "output_type": "stream",
          "text": [
            "120.39851017134657\n"
          ],
          "name": "stdout"
        }
      ]
    },
    {
      "cell_type": "code",
      "metadata": {
        "colab": {
          "base_uri": "https://localhost:8080/",
          "height": 645
        },
        "id": "DoZvFvM2CMwS",
        "outputId": "48a1b02b-a00c-4aba-af88-fed6737cddcb"
      },
      "source": [
        "importance = reg_rf.feature_importances_\n",
        "# summarize feature importance\n",
        "for i,v in enumerate(importance):\n",
        "\tprint('Feature: %0d, Score: %.5f' % (i,v))\n",
        "# plot feature importance\n",
        "pyplot.bar([x for x in range(len(importance))], importance)\n",
        "pyplot.show()"
      ],
      "execution_count": 286,
      "outputs": [
        {
          "output_type": "stream",
          "text": [
            "Feature: 0, Score: 0.00041\n",
            "Feature: 1, Score: 0.00054\n",
            "Feature: 2, Score: 0.00089\n",
            "Feature: 3, Score: 0.00005\n",
            "Feature: 4, Score: 0.00032\n",
            "Feature: 5, Score: 0.00191\n",
            "Feature: 6, Score: 0.00065\n",
            "Feature: 7, Score: 0.29460\n",
            "Feature: 8, Score: 0.00087\n",
            "Feature: 9, Score: 0.00019\n",
            "Feature: 10, Score: 0.14078\n",
            "Feature: 11, Score: 0.55057\n",
            "Feature: 12, Score: 0.00022\n",
            "Feature: 13, Score: 0.00011\n",
            "Feature: 14, Score: 0.00007\n",
            "Feature: 15, Score: 0.00019\n",
            "Feature: 16, Score: 0.00058\n",
            "Feature: 17, Score: 0.00032\n",
            "Feature: 18, Score: 0.00094\n",
            "Feature: 19, Score: 0.00018\n",
            "Feature: 20, Score: 0.00039\n",
            "Feature: 21, Score: 0.00523\n"
          ],
          "name": "stdout"
        },
        {
          "output_type": "display_data",
          "data": {
            "image/png": "[encoded data removed]",
            "text/plain": [
              "<Figure size 432x288 with 1 Axes>"
            ]
          },
          "metadata": {
            "tags": [],
            "needs_background": "light"
          }
        }
      ]
    },
    {
      "cell_type": "markdown",
      "metadata": {
        "id": "LjAVSfjKoWE0"
      },
      "source": [
        "###### Feature selection"
      ]
    },
    {
      "cell_type": "code",
      "metadata": {
        "colab": {
          "base_uri": "https://localhost:8080/"
        },
        "id": "h_MDMIXA9nuM",
        "outputId": "d86b1984-e3b9-4aa2-c6aa-f060e17ae4b9"
      },
      "source": [
        "# Random selection by feature importance of random forest regressor\n",
        "from sklearn.feature_selection import SelectFromModel\n",
        "from sklearn.metrics import accuracy_score\n",
        "sel = SelectFromModel(RandomForestRegressor(n_estimators=100,random_state=0,n_jobs=-1))\n",
        "sel.fit(x,y)\n",
        "sel.get_support()"
      ],
      "execution_count": null,
      "outputs": [
        {
          "output_type": "execute_result",
          "data": {
            "text/plain": [
              "array([False, False, False, False, False, False, False,  True, False,\n",
              "       False,  True,  True, False, False, False, False, False, False,\n",
              "       False, False, False, False, False, False, False])"
            ]
          },
          "metadata": {
            "tags": []
          },
          "execution_count": 457
        }
      ]
    },
    {
      "cell_type": "code",
      "metadata": {
        "colab": {
          "base_uri": "https://localhost:8080/"
        },
        "id": "B8BbPDGNobTN",
        "outputId": "83a6bfa3-ab20-451f-b7cd-0018a2346c4b"
      },
      "source": [
        "features = x_train.columns[sel.get_support()]\n",
        "features"
      ],
      "execution_count": null,
      "outputs": [
        {
          "output_type": "execute_result",
          "data": {
            "text/plain": [
              "Index(['Discount_avail', 'Minimum_price', 'Maximum_price'], dtype='object')"
            ]
          },
          "metadata": {
            "tags": []
          },
          "execution_count": 458
        }
      ]
    },
    {
      "cell_type": "code",
      "metadata": {
        "colab": {
          "base_uri": "https://localhost:8080/"
        },
        "id": "lpvmjKxHobQZ",
        "outputId": "d4484517-0471-499d-b4ba-bfd27739a0b7"
      },
      "source": [
        "np.mean(sel.estimator_.feature_importances_)"
      ],
      "execution_count": null,
      "outputs": [
        {
          "output_type": "execute_result",
          "data": {
            "text/plain": [
              "0.04"
            ]
          },
          "metadata": {
            "tags": []
          },
          "execution_count": 459
        }
      ]
    },
    {
      "cell_type": "code",
      "metadata": {
        "id": "PmVvWvfA9rLq"
      },
      "source": [
        "x_train_rfc = sel.transform(x_train)\n",
        "x_test_rfc = sel.transform(x_test)"
      ],
      "execution_count": null,
      "outputs": []
    },
    {
      "cell_type": "code",
      "metadata": {
        "id": "_yNZk3MI9rHl"
      },
      "source": [
        "clf = RandomForestRegressor(n_estimators=100,random_state=0,n_jobs =-1)\n",
        "clf.fit(x_train_rfc,y_train)\n",
        "y_pred =clf.predict(x_test_rfc)"
      ],
      "execution_count": null,
      "outputs": []
    },
    {
      "cell_type": "code",
      "metadata": {
        "id": "DzMeMxpC9n5j",
        "colab": {
          "base_uri": "https://localhost:8080/"
        },
        "outputId": "6a500a0e-a20c-4779-afdd-583c2a7c235c"
      },
      "source": [
        "from sklearn.metrics import mean_squared_error \n",
        "print(mean_squared_error(y_test, y_pred)**0.5)"
      ],
      "execution_count": null,
      "outputs": [
        {
          "output_type": "stream",
          "text": [
            "330.3313287145996\n"
          ],
          "name": "stdout"
        }
      ]
    },
    {
      "cell_type": "code",
      "metadata": {
        "colab": {
          "base_uri": "https://localhost:8080/"
        },
        "id": "wXQbcIfoJY7d",
        "outputId": "0cf09c7f-fb77-4281-ae24-4d9d0b487239"
      },
      "source": [
        "# Recursive Feature Elimination\n",
        "from sklearn.feature_selection import RFE\n",
        "sel2 = RFE(RandomForestRegressor(n_estimators=100,random_state=0,n_jobs=-1),n_features_to_select =10)\n",
        "sel2.fit(x,y)"
      ],
      "execution_count": 330,
      "outputs": [
        {
          "output_type": "execute_result",
          "data": {
            "text/plain": [
              "RFE(estimator=RandomForestRegressor(bootstrap=True, ccp_alpha=0.0,\n",
              "                                    criterion='mse', max_depth=None,\n",
              "                                    max_features='auto', max_leaf_nodes=None,\n",
              "                                    max_samples=None, min_impurity_decrease=0.0,\n",
              "                                    min_impurity_split=None, min_samples_leaf=1,\n",
              "                                    min_samples_split=2,\n",
              "                                    min_weight_fraction_leaf=0.0,\n",
              "                                    n_estimators=100, n_jobs=-1,\n",
              "                                    oob_score=False, random_state=0, verbose=0,\n",
              "                                    warm_start=False),\n",
              "    n_features_to_select=10, step=1, verbose=0)"
            ]
          },
          "metadata": {
            "tags": []
          },
          "execution_count": 330
        }
      ]
    },
    {
      "cell_type": "code",
      "metadata": {
        "colab": {
          "base_uri": "https://localhost:8080/"
        },
        "id": "-qySkprRJY47",
        "outputId": "5fedc30f-b956-4053-ab7c-8b138ef53038"
      },
      "source": [
        "sel2.get_support()"
      ],
      "execution_count": 331,
      "outputs": [
        {
          "output_type": "execute_result",
          "data": {
            "text/plain": [
              "array([False, False,  True, False, False,  True,  True,  True,  True,\n",
              "       False,  True,  True, False, False, False, False,  True, False,\n",
              "        True, False, False,  True])"
            ]
          },
          "metadata": {
            "tags": []
          },
          "execution_count": 331
        }
      ]
    },
    {
      "cell_type": "code",
      "metadata": {
        "colab": {
          "base_uri": "https://localhost:8080/"
        },
        "id": "c6EuPwcGJY2Y",
        "outputId": "b7e86831-278f-4264-ad8b-bc87c75f8128"
      },
      "source": [
        "features2 = x.columns[sel2.get_support()]\n",
        "features2"
      ],
      "execution_count": 332,
      "outputs": [
        {
          "output_type": "execute_result",
          "data": {
            "text/plain": [
              "Index(['Customer_name', 'Grade', 'Demand', 'Discount_avail', 'charges_1',\n",
              "       'Minimum_price', 'Maximum_price', 'Dayofyear', 'charges_1 (%)',\n",
              "       'range'],\n",
              "      dtype='object')"
            ]
          },
          "metadata": {
            "tags": []
          },
          "execution_count": 332
        }
      ]
    },
    {
      "cell_type": "code",
      "metadata": {
        "colab": {
          "base_uri": "https://localhost:8080/"
        },
        "id": "Nt-j2xpMJYyG",
        "outputId": "460e1aac-9b09-457c-cd75-c6529c2f6977"
      },
      "source": [
        "x_train_rfe = sel2.transform(x)\n",
        "# x_test_rfe = sel2.transform()\n",
        "clf = RandomForestRegressor(n_estimators=100,random_state=0,n_jobs =-1)\n",
        "clf.fit(x_train_rfe,y)\n",
        "y_pred_rfe =clf.predict(x_train_rfe)\n",
        "from sklearn.metrics import mean_squared_error \n",
        "print(mean_squared_error(y, y_pred_rfe)**0.5)"
      ],
      "execution_count": 333,
      "outputs": [
        {
          "output_type": "stream",
          "text": [
            "119.02369955438785\n"
          ],
          "name": "stdout"
        }
      ]
    },
    {
      "cell_type": "code",
      "metadata": {
        "colab": {
          "base_uri": "https://localhost:8080/"
        },
        "id": "-T3h8h52lXh1",
        "outputId": "bd90b470-b41e-4b0d-be44-ca8b04859f03"
      },
      "source": [
        "clf.fit(x_et,y)\n",
        "y_pred_rfe =clf.predict(x_et)\n",
        "from sklearn.metrics import mean_squared_error \n",
        "print(mean_squared_error(y, y_pred_rfe)**0.5)"
      ],
      "execution_count": 322,
      "outputs": [
        {
          "output_type": "stream",
          "text": [
            "126.41053564968644\n"
          ],
          "name": "stdout"
        }
      ]
    },
    {
      "cell_type": "code",
      "metadata": {
        "colab": {
          "base_uri": "https://localhost:8080/"
        },
        "id": "7jaHRhbwJy6D",
        "outputId": "cbd7ba9d-f181-4f6e-b2f0-6a22cbd25812"
      },
      "source": [
        "x_train.info()"
      ],
      "execution_count": 233,
      "outputs": [
        {
          "output_type": "stream",
          "text": [
            "<class 'pandas.core.frame.DataFrame'>\n",
            "Int64Index: 4428 entries, 2949 to 3420\n",
            "Data columns (total 22 columns):\n",
            " #   Column            Non-Null Count  Dtype  \n",
            "---  ------            --------------  -----  \n",
            " 0   Stall_no          4428 non-null   float64\n",
            " 1   Market_Category   4428 non-null   int64  \n",
            " 2   Customer_name     4428 non-null   int64  \n",
            " 3   Loyalty_customer  4428 non-null   int64  \n",
            " 4   Product_Category  4428 non-null   int64  \n",
            " 5   Grade             4428 non-null   int64  \n",
            " 6   Demand            4428 non-null   int64  \n",
            " 7   Discount_avail    4428 non-null   float64\n",
            " 8   charges_1         4428 non-null   float64\n",
            " 9   charges_2 (%)     4428 non-null   float64\n",
            " 10  Minimum_price     4428 non-null   float64\n",
            " 11  Maximum_price     4428 non-null   float64\n",
            " 12  year              4428 non-null   int64  \n",
            " 13  month             4428 non-null   int64  \n",
            " 14  quarter           4428 non-null   int64  \n",
            " 15  day of the week   4428 non-null   int64  \n",
            " 16  Dayofyear         4428 non-null   int64  \n",
            " 17  hour              4428 non-null   int64  \n",
            " 18  charges_1 (%)     4428 non-null   float64\n",
            " 19  charges_2         4428 non-null   float64\n",
            " 20  total_charges     4428 non-null   float64\n",
            " 21  range             4428 non-null   float64\n",
            "dtypes: float64(10), int64(12)\n",
            "memory usage: 795.7 KB\n"
          ],
          "name": "stdout"
        }
      ]
    },
    {
      "cell_type": "code",
      "metadata": {
        "colab": {
          "base_uri": "https://localhost:8080/"
        },
        "id": "gPANAIPSIO9N",
        "outputId": "b5517728-e0ff-4996-ad10-efce5e5fb172"
      },
      "source": [
        "et.fit(x,y)"
      ],
      "execution_count": 291,
      "outputs": [
        {
          "output_type": "execute_result",
          "data": {
            "text/plain": [
              "ExtraTreesRegressor(bootstrap=False, ccp_alpha=0.0, criterion='mse',\n",
              "                    max_depth=None, max_features='auto', max_leaf_nodes=None,\n",
              "                    max_samples=None, min_impurity_decrease=0.0,\n",
              "                    min_impurity_split=None, min_samples_leaf=1,\n",
              "                    min_samples_split=2, min_weight_fraction_leaf=0.0,\n",
              "                    n_estimators=100, n_jobs=-1, oob_score=False,\n",
              "                    random_state=None, verbose=0, warm_start=False)"
            ]
          },
          "metadata": {
            "tags": []
          },
          "execution_count": 291
        }
      ]
    },
    {
      "cell_type": "code",
      "metadata": {
        "colab": {
          "base_uri": "https://localhost:8080/",
          "height": 645
        },
        "id": "lCuhCEP-JNXV",
        "outputId": "7462a139-47b1-4c3a-aa55-7b617bb98e70"
      },
      "source": [
        "importance = et.feature_importances_\n",
        "# summarize feature importance\n",
        "for i,v in enumerate(importance):\n",
        "\tprint('Feature: %0d, Score: %.5f' % (i,v))\n",
        "# plot feature importance\n",
        "pyplot.bar([x for x in range(len(importance))], importance)\n",
        "pyplot.show()"
      ],
      "execution_count": 235,
      "outputs": [
        {
          "output_type": "stream",
          "text": [
            "Feature: 0, Score: 0.00055\n",
            "Feature: 1, Score: 0.00067\n",
            "Feature: 2, Score: 0.00075\n",
            "Feature: 3, Score: 0.00042\n",
            "Feature: 4, Score: 0.00051\n",
            "Feature: 5, Score: 0.00370\n",
            "Feature: 6, Score: 0.00057\n",
            "Feature: 7, Score: 0.27936\n",
            "Feature: 8, Score: 0.00105\n",
            "Feature: 9, Score: 0.00039\n",
            "Feature: 10, Score: 0.27640\n",
            "Feature: 11, Score: 0.38793\n",
            "Feature: 12, Score: 0.00128\n",
            "Feature: 13, Score: 0.00048\n",
            "Feature: 14, Score: 0.00084\n",
            "Feature: 15, Score: 0.00056\n",
            "Feature: 16, Score: 0.00093\n",
            "Feature: 17, Score: 0.00045\n",
            "Feature: 18, Score: 0.00098\n",
            "Feature: 19, Score: 0.00041\n",
            "Feature: 20, Score: 0.00048\n",
            "Feature: 21, Score: 0.04128\n"
          ],
          "name": "stdout"
        },
        {
          "output_type": "display_data",
          "data": {
            "image/png": "[encoded data removed]",
            "text/plain": [
              "<Figure size 432x288 with 1 Axes>"
            ]
          },
          "metadata": {
            "tags": [],
            "needs_background": "light"
          }
        }
      ]
    },
    {
      "cell_type": "code",
      "metadata": {
        "colab": {
          "base_uri": "https://localhost:8080/"
        },
        "id": "IGFRX8TSIY_g",
        "outputId": "15f6038b-19d8-4d04-dcad-c52ea3f6a765"
      },
      "source": [
        "sel3 = RFE(ExtraTreesRegressor(n_jobs=-1),n_features_to_select =5)\n",
        "sel3.fit(x,y)\n",
        "sel3.get_support()\n",
        "features3 = x.columns[sel3.get_support()]\n",
        "features3\n",
        "\n"
      ],
      "execution_count": 292,
      "outputs": [
        {
          "output_type": "execute_result",
          "data": {
            "text/plain": [
              "Index(['Grade', 'Discount_avail', 'Minimum_price', 'Maximum_price', 'range'], dtype='object')"
            ]
          },
          "metadata": {
            "tags": []
          },
          "execution_count": 292
        }
      ]
    },
    {
      "cell_type": "code",
      "metadata": {
        "id": "7Cj73bhvj0rm"
      },
      "source": [
        ""
      ],
      "execution_count": null,
      "outputs": []
    },
    {
      "cell_type": "code",
      "metadata": {
        "colab": {
          "base_uri": "https://localhost:8080/"
        },
        "id": "sJthxIzKIZHF",
        "outputId": "57723d67-26ec-4197-d0a1-1fb241aeadf0"
      },
      "source": [
        "x_et = sel3.transform(x)\n",
        "# x_test_et = sel3.transform(x_test)\n",
        "et.fit(x_et,y)\n",
        "y_pred_et =et.predict(x_et)\n",
        "from sklearn.metrics import mean_squared_error \n",
        "print(mean_squared_error(y, y_pred_et)**0.5)"
      ],
      "execution_count": 309,
      "outputs": [
        {
          "output_type": "stream",
          "text": [
            "26.52528526568296\n"
          ],
          "name": "stdout"
        }
      ]
    },
    {
      "cell_type": "code",
      "metadata": {
        "colab": {
          "base_uri": "https://localhost:8080/"
        },
        "id": "NKdjQdmXaOxe",
        "outputId": "fdf71a70-836d-4d98-8c65-a96217d16cc7"
      },
      "source": [
        "x_train_et = sel2.transform(x)\n",
        "# x_test_et = sel2.transform(x_test)\n",
        "et.fit(x_train_et,y)\n",
        "y_pred_et =et.predict(x_train_et)\n",
        "from sklearn.metrics import mean_squared_error \n",
        "print(mean_squared_error(y, y_pred_et)**0.5)"
      ],
      "execution_count": 334,
      "outputs": [
        {
          "output_type": "stream",
          "text": [
            "7.537067916155023e-12\n"
          ],
          "name": "stdout"
        }
      ]
    },
    {
      "cell_type": "code",
      "metadata": {
        "colab": {
          "base_uri": "https://localhost:8080/"
        },
        "id": "oLOR5MmAL3-m",
        "outputId": "4c699e12-06b6-44ee-b3ee-3cc047f9a958"
      },
      "source": [
        "train.shape"
      ],
      "execution_count": null,
      "outputs": [
        {
          "output_type": "execute_result",
          "data": {
            "text/plain": [
              "(6327, 26)"
            ]
          },
          "metadata": {
            "tags": []
          },
          "execution_count": 413
        }
      ]
    },
    {
      "cell_type": "markdown",
      "metadata": {
        "id": "X0Q4Bi-QtaVm"
      },
      "source": [
        "### Test data"
      ]
    },
    {
      "cell_type": "code",
      "metadata": {
        "colab": {
          "base_uri": "https://localhost:8080/",
          "height": 356
        },
        "id": "-nJCpB16tWC3",
        "outputId": "5fc19bb8-0eb0-4451-8781-65d023709696"
      },
      "source": [
        "test.head()"
      ],
      "execution_count": 241,
      "outputs": [
        {
          "output_type": "execute_result",
          "data": {
            "text/html": [
              "<div>\n",
              "<style scoped>\n",
              "    .dataframe tbody tr th:only-of-type {\n",
              "        vertical-align: middle;\n",
              "    }\n",
              "\n",
              "    .dataframe tbody tr th {\n",
              "        vertical-align: top;\n",
              "    }\n",
              "\n",
              "    .dataframe thead th {\n",
              "        text-align: right;\n",
              "    }\n",
              "</style>\n",
              "<table border=\"1\" class=\"dataframe\">\n",
              "  <thead>\n",
              "    <tr style=\"text-align: right;\">\n",
              "      <th></th>\n",
              "      <th>Product_id</th>\n",
              "      <th>Stall_no</th>\n",
              "      <th>instock_date</th>\n",
              "      <th>Market_Category</th>\n",
              "      <th>Customer_name</th>\n",
              "      <th>Loyalty_customer</th>\n",
              "      <th>Product_Category</th>\n",
              "      <th>Grade</th>\n",
              "      <th>Demand</th>\n",
              "      <th>Discount_avail</th>\n",
              "      <th>charges_1</th>\n",
              "      <th>charges_2 (%)</th>\n",
              "      <th>Minimum_price</th>\n",
              "      <th>Maximum_price</th>\n",
              "      <th>year</th>\n",
              "      <th>month</th>\n",
              "      <th>quarter</th>\n",
              "      <th>day of the week</th>\n",
              "      <th>Dayofyear</th>\n",
              "      <th>hour</th>\n",
              "    </tr>\n",
              "  </thead>\n",
              "  <tbody>\n",
              "    <tr>\n",
              "      <th>0</th>\n",
              "      <td>SCHE4YSTDVPVZVXW</td>\n",
              "      <td>39.0</td>\n",
              "      <td>2016-01-13 07:45:08</td>\n",
              "      <td>205</td>\n",
              "      <td>Ivanka</td>\n",
              "      <td>No</td>\n",
              "      <td>Fashion</td>\n",
              "      <td>0</td>\n",
              "      <td>90</td>\n",
              "      <td>0</td>\n",
              "      <td>380.0</td>\n",
              "      <td>16.0</td>\n",
              "      <td>2576.0</td>\n",
              "      <td>3340</td>\n",
              "      <td>2016</td>\n",
              "      <td>1</td>\n",
              "      <td>1</td>\n",
              "      <td>2</td>\n",
              "      <td>13</td>\n",
              "      <td>7</td>\n",
              "    </tr>\n",
              "    <tr>\n",
              "      <th>1</th>\n",
              "      <td>ACCEGCATKHNRXUHW</td>\n",
              "      <td>49.0</td>\n",
              "      <td>2015-08-23 20:37:05</td>\n",
              "      <td>3</td>\n",
              "      <td>Isaak</td>\n",
              "      <td>Yes</td>\n",
              "      <td>Fashion</td>\n",
              "      <td>0</td>\n",
              "      <td>87</td>\n",
              "      <td>0</td>\n",
              "      <td>393.0</td>\n",
              "      <td>16.0</td>\n",
              "      <td>1202.0</td>\n",
              "      <td>1955</td>\n",
              "      <td>2015</td>\n",
              "      <td>8</td>\n",
              "      <td>3</td>\n",
              "      <td>6</td>\n",
              "      <td>235</td>\n",
              "      <td>20</td>\n",
              "    </tr>\n",
              "    <tr>\n",
              "      <th>2</th>\n",
              "      <td>NKCE6GJ5XVJDXNNZ</td>\n",
              "      <td>1.0</td>\n",
              "      <td>2015-11-14 18:12:39</td>\n",
              "      <td>183</td>\n",
              "      <td>Analiese</td>\n",
              "      <td>No</td>\n",
              "      <td>Technology</td>\n",
              "      <td>2</td>\n",
              "      <td>55</td>\n",
              "      <td>0</td>\n",
              "      <td>493.0</td>\n",
              "      <td>9.0</td>\n",
              "      <td>7175.0</td>\n",
              "      <td>15715</td>\n",
              "      <td>2015</td>\n",
              "      <td>11</td>\n",
              "      <td>4</td>\n",
              "      <td>5</td>\n",
              "      <td>318</td>\n",
              "      <td>18</td>\n",
              "    </tr>\n",
              "    <tr>\n",
              "      <th>3</th>\n",
              "      <td>NKCEB8BK3ZXDHDHM</td>\n",
              "      <td>8.0</td>\n",
              "      <td>2015-11-21 04:56:19</td>\n",
              "      <td>358</td>\n",
              "      <td>Rusty</td>\n",
              "      <td>Yes</td>\n",
              "      <td>Child_care</td>\n",
              "      <td>3</td>\n",
              "      <td>86</td>\n",
              "      <td>0</td>\n",
              "      <td>303.0</td>\n",
              "      <td>16.0</td>\n",
              "      <td>5404.0</td>\n",
              "      <td>13078</td>\n",
              "      <td>2015</td>\n",
              "      <td>11</td>\n",
              "      <td>4</td>\n",
              "      <td>5</td>\n",
              "      <td>325</td>\n",
              "      <td>4</td>\n",
              "    </tr>\n",
              "    <tr>\n",
              "      <th>4</th>\n",
              "      <td>TOPEFDXSAHRNPF94</td>\n",
              "      <td>33.0</td>\n",
              "      <td>2015-05-06 15:09:46</td>\n",
              "      <td>167</td>\n",
              "      <td>Eloise</td>\n",
              "      <td>No</td>\n",
              "      <td>Technology</td>\n",
              "      <td>0</td>\n",
              "      <td>27</td>\n",
              "      <td>0</td>\n",
              "      <td>567.0</td>\n",
              "      <td>16.0</td>\n",
              "      <td>4069.0</td>\n",
              "      <td>6244</td>\n",
              "      <td>2015</td>\n",
              "      <td>5</td>\n",
              "      <td>2</td>\n",
              "      <td>2</td>\n",
              "      <td>126</td>\n",
              "      <td>15</td>\n",
              "    </tr>\n",
              "  </tbody>\n",
              "</table>\n",
              "</div>"
            ],
            "text/plain": [
              "         Product_id  Stall_no  ... Dayofyear  hour\n",
              "0  SCHE4YSTDVPVZVXW      39.0  ...        13     7\n",
              "1  ACCEGCATKHNRXUHW      49.0  ...       235    20\n",
              "2  NKCE6GJ5XVJDXNNZ       1.0  ...       318    18\n",
              "3  NKCEB8BK3ZXDHDHM       8.0  ...       325     4\n",
              "4  TOPEFDXSAHRNPF94      33.0  ...       126    15\n",
              "\n",
              "[5 rows x 20 columns]"
            ]
          },
          "metadata": {
            "tags": []
          },
          "execution_count": 241
        }
      ]
    },
    {
      "cell_type": "code",
      "metadata": {
        "colab": {
          "base_uri": "https://localhost:8080/"
        },
        "id": "wkZZSVT-thWG",
        "outputId": "94995e77-3b12-4a4a-c014-67b324fcbd15"
      },
      "source": [
        "# Finding number of null values in each column\n",
        "test.isnull().sum()\n"
      ],
      "execution_count": 122,
      "outputs": [
        {
          "output_type": "execute_result",
          "data": {
            "text/plain": [
              "Product_id                       0\n",
              "Stall_no                         1\n",
              "instock_date                     0\n",
              "Market_Category                  0\n",
              "Customer_name                   53\n",
              "Loyalty_customer                 0\n",
              "Product_Category                 0\n",
              "Grade                            0\n",
              "Demand                           0\n",
              "Discount_avail                   0\n",
              "charges_1                       36\n",
              "charges_2 (%)                    5\n",
              "Minimum_price                   14\n",
              "Maximum_price                    0\n",
              "year                             0\n",
              "month                            0\n",
              "quarter                          0\n",
              "day of the week                  0\n",
              "Dayofyear                        0\n",
              "hour                             0\n",
              "Product_Category_Cosmetics       0\n",
              "Product_Category_Educational     0\n",
              "Product_Category_Fashion         0\n",
              "Product_Category_Home_decor      0\n",
              "Product_Category_Hospitality     0\n",
              "Product_Category_Organic         0\n",
              "Product_Category_Pet_care        0\n",
              "Product_Category_Repair          0\n",
              "Product_Category_Technology      0\n",
              "dtype: int64"
            ]
          },
          "metadata": {
            "tags": []
          },
          "execution_count": 122
        }
      ]
    },
    {
      "cell_type": "code",
      "metadata": {
        "id": "Zv-ka41Ft-gg"
      },
      "source": [
        "# # Replacing null values\n",
        "# test['products_per_customer'] = test['products_per_customer'].fillna(test['products_per_customer'].mode()[0])\n",
        "# test['total_days_per_customer'] = test['total_days_per_customer'].fillna(test['total_days_per_customer'].mode()[0])\n",
        "# test['Unique_days_per_customer'] = test['Unique_days_per_customer'].fillna(test['Unique_days_per_customer'].mode()[0])\n"
      ],
      "execution_count": null,
      "outputs": []
    },
    {
      "cell_type": "code",
      "metadata": {
        "colab": {
          "base_uri": "https://localhost:8080/"
        },
        "id": "xfV7tq01QMRf",
        "outputId": "4ab8261b-8c02-4ad2-c6a6-28136612b32b"
      },
      "source": [
        "test.Customer_name.value_counts()\n"
      ],
      "execution_count": 123,
      "outputs": [
        {
          "output_type": "execute_result",
          "data": {
            "text/plain": [
              "Kayden      2\n",
              "Kylan       2\n",
              "Collins     2\n",
              "Joan        2\n",
              "Asa         2\n",
              "           ..\n",
              "Johanna     1\n",
              "Kaelynn     1\n",
              "Mattilyn    1\n",
              "Nevaya      1\n",
              "Nikole      1\n",
              "Name: Customer_name, Length: 3319, dtype: int64"
            ]
          },
          "metadata": {
            "tags": []
          },
          "execution_count": 123
        }
      ]
    },
    {
      "cell_type": "code",
      "metadata": {
        "id": "itSL1-7xPosD"
      },
      "source": [
        "test['Customer_name'] = test['Customer_name'].fillna(test['Customer_name'].mode()[0])\n"
      ],
      "execution_count": 242,
      "outputs": []
    },
    {
      "cell_type": "code",
      "metadata": {
        "id": "3DnQsO4EytU5"
      },
      "source": [
        "# test_dummies2 =pd.get_dummies(test.Product_Category)\n",
        "# test_dummies3 =pd.get_dummies(test.year)\n",
        "# test = pd.concat([test,test_dummies2,test_dummies3],axis =1)"
      ],
      "execution_count": null,
      "outputs": []
    },
    {
      "cell_type": "code",
      "metadata": {
        "colab": {
          "base_uri": "https://localhost:8080/",
          "height": 356
        },
        "id": "TGxEP2PZzWk8",
        "outputId": "56199f53-ba26-4510-fc3a-37f5eeca1ab5"
      },
      "source": [
        "test.head()"
      ],
      "execution_count": 129,
      "outputs": [
        {
          "output_type": "execute_result",
          "data": {
            "text/html": [
              "<div>\n",
              "<style scoped>\n",
              "    .dataframe tbody tr th:only-of-type {\n",
              "        vertical-align: middle;\n",
              "    }\n",
              "\n",
              "    .dataframe tbody tr th {\n",
              "        vertical-align: top;\n",
              "    }\n",
              "\n",
              "    .dataframe thead th {\n",
              "        text-align: right;\n",
              "    }\n",
              "</style>\n",
              "<table border=\"1\" class=\"dataframe\">\n",
              "  <thead>\n",
              "    <tr style=\"text-align: right;\">\n",
              "      <th></th>\n",
              "      <th>Product_id</th>\n",
              "      <th>Stall_no</th>\n",
              "      <th>instock_date</th>\n",
              "      <th>Market_Category</th>\n",
              "      <th>Customer_name</th>\n",
              "      <th>Loyalty_customer</th>\n",
              "      <th>Product_Category</th>\n",
              "      <th>Grade</th>\n",
              "      <th>Demand</th>\n",
              "      <th>Discount_avail</th>\n",
              "      <th>charges_1</th>\n",
              "      <th>charges_2 (%)</th>\n",
              "      <th>Minimum_price</th>\n",
              "      <th>Maximum_price</th>\n",
              "      <th>year</th>\n",
              "      <th>month</th>\n",
              "      <th>quarter</th>\n",
              "      <th>day of the week</th>\n",
              "      <th>Dayofyear</th>\n",
              "      <th>hour</th>\n",
              "      <th>Product_Category_Cosmetics</th>\n",
              "      <th>Product_Category_Educational</th>\n",
              "      <th>Product_Category_Fashion</th>\n",
              "      <th>Product_Category_Home_decor</th>\n",
              "      <th>Product_Category_Hospitality</th>\n",
              "      <th>Product_Category_Organic</th>\n",
              "      <th>Product_Category_Pet_care</th>\n",
              "      <th>Product_Category_Repair</th>\n",
              "      <th>Product_Category_Technology</th>\n",
              "    </tr>\n",
              "  </thead>\n",
              "  <tbody>\n",
              "    <tr>\n",
              "      <th>0</th>\n",
              "      <td>SCHE4YSTDVPVZVXW</td>\n",
              "      <td>39.0</td>\n",
              "      <td>2016-01-13 07:45:08</td>\n",
              "      <td>205</td>\n",
              "      <td>1</td>\n",
              "      <td>0</td>\n",
              "      <td>Fashion</td>\n",
              "      <td>0</td>\n",
              "      <td>90</td>\n",
              "      <td>0</td>\n",
              "      <td>380.0</td>\n",
              "      <td>16.0</td>\n",
              "      <td>2576.0</td>\n",
              "      <td>3340</td>\n",
              "      <td>2016</td>\n",
              "      <td>1</td>\n",
              "      <td>1</td>\n",
              "      <td>2</td>\n",
              "      <td>13</td>\n",
              "      <td>7</td>\n",
              "      <td>0</td>\n",
              "      <td>0</td>\n",
              "      <td>1</td>\n",
              "      <td>0</td>\n",
              "      <td>0</td>\n",
              "      <td>0</td>\n",
              "      <td>0</td>\n",
              "      <td>0</td>\n",
              "      <td>0</td>\n",
              "    </tr>\n",
              "    <tr>\n",
              "      <th>1</th>\n",
              "      <td>ACCEGCATKHNRXUHW</td>\n",
              "      <td>49.0</td>\n",
              "      <td>2015-08-23 20:37:05</td>\n",
              "      <td>3</td>\n",
              "      <td>1</td>\n",
              "      <td>1</td>\n",
              "      <td>Fashion</td>\n",
              "      <td>0</td>\n",
              "      <td>87</td>\n",
              "      <td>0</td>\n",
              "      <td>393.0</td>\n",
              "      <td>16.0</td>\n",
              "      <td>1202.0</td>\n",
              "      <td>1955</td>\n",
              "      <td>2015</td>\n",
              "      <td>8</td>\n",
              "      <td>3</td>\n",
              "      <td>6</td>\n",
              "      <td>235</td>\n",
              "      <td>20</td>\n",
              "      <td>0</td>\n",
              "      <td>0</td>\n",
              "      <td>1</td>\n",
              "      <td>0</td>\n",
              "      <td>0</td>\n",
              "      <td>0</td>\n",
              "      <td>0</td>\n",
              "      <td>0</td>\n",
              "      <td>0</td>\n",
              "    </tr>\n",
              "    <tr>\n",
              "      <th>2</th>\n",
              "      <td>NKCE6GJ5XVJDXNNZ</td>\n",
              "      <td>1.0</td>\n",
              "      <td>2015-11-14 18:12:39</td>\n",
              "      <td>183</td>\n",
              "      <td>1</td>\n",
              "      <td>0</td>\n",
              "      <td>Technology</td>\n",
              "      <td>2</td>\n",
              "      <td>55</td>\n",
              "      <td>0</td>\n",
              "      <td>493.0</td>\n",
              "      <td>9.0</td>\n",
              "      <td>7175.0</td>\n",
              "      <td>15715</td>\n",
              "      <td>2015</td>\n",
              "      <td>11</td>\n",
              "      <td>4</td>\n",
              "      <td>5</td>\n",
              "      <td>318</td>\n",
              "      <td>18</td>\n",
              "      <td>0</td>\n",
              "      <td>0</td>\n",
              "      <td>0</td>\n",
              "      <td>0</td>\n",
              "      <td>0</td>\n",
              "      <td>0</td>\n",
              "      <td>0</td>\n",
              "      <td>0</td>\n",
              "      <td>1</td>\n",
              "    </tr>\n",
              "    <tr>\n",
              "      <th>3</th>\n",
              "      <td>NKCEB8BK3ZXDHDHM</td>\n",
              "      <td>8.0</td>\n",
              "      <td>2015-11-21 04:56:19</td>\n",
              "      <td>358</td>\n",
              "      <td>1</td>\n",
              "      <td>1</td>\n",
              "      <td>Child_care</td>\n",
              "      <td>3</td>\n",
              "      <td>86</td>\n",
              "      <td>0</td>\n",
              "      <td>303.0</td>\n",
              "      <td>16.0</td>\n",
              "      <td>5404.0</td>\n",
              "      <td>13078</td>\n",
              "      <td>2015</td>\n",
              "      <td>11</td>\n",
              "      <td>4</td>\n",
              "      <td>5</td>\n",
              "      <td>325</td>\n",
              "      <td>4</td>\n",
              "      <td>0</td>\n",
              "      <td>0</td>\n",
              "      <td>0</td>\n",
              "      <td>0</td>\n",
              "      <td>0</td>\n",
              "      <td>0</td>\n",
              "      <td>0</td>\n",
              "      <td>0</td>\n",
              "      <td>0</td>\n",
              "    </tr>\n",
              "    <tr>\n",
              "      <th>4</th>\n",
              "      <td>TOPEFDXSAHRNPF94</td>\n",
              "      <td>33.0</td>\n",
              "      <td>2015-05-06 15:09:46</td>\n",
              "      <td>167</td>\n",
              "      <td>1</td>\n",
              "      <td>0</td>\n",
              "      <td>Technology</td>\n",
              "      <td>0</td>\n",
              "      <td>27</td>\n",
              "      <td>0</td>\n",
              "      <td>567.0</td>\n",
              "      <td>16.0</td>\n",
              "      <td>4069.0</td>\n",
              "      <td>6244</td>\n",
              "      <td>2015</td>\n",
              "      <td>5</td>\n",
              "      <td>2</td>\n",
              "      <td>2</td>\n",
              "      <td>126</td>\n",
              "      <td>15</td>\n",
              "      <td>0</td>\n",
              "      <td>0</td>\n",
              "      <td>0</td>\n",
              "      <td>0</td>\n",
              "      <td>0</td>\n",
              "      <td>0</td>\n",
              "      <td>0</td>\n",
              "      <td>0</td>\n",
              "      <td>1</td>\n",
              "    </tr>\n",
              "  </tbody>\n",
              "</table>\n",
              "</div>"
            ],
            "text/plain": [
              "         Product_id  ...  Product_Category_Technology\n",
              "0  SCHE4YSTDVPVZVXW  ...                            0\n",
              "1  ACCEGCATKHNRXUHW  ...                            0\n",
              "2  NKCE6GJ5XVJDXNNZ  ...                            1\n",
              "3  NKCEB8BK3ZXDHDHM  ...                            0\n",
              "4  TOPEFDXSAHRNPF94  ...                            1\n",
              "\n",
              "[5 rows x 29 columns]"
            ]
          },
          "metadata": {
            "tags": []
          },
          "execution_count": 129
        }
      ]
    },
    {
      "cell_type": "code",
      "metadata": {
        "id": "qC4ffTSBuF4Q"
      },
      "source": [
        "# After applying Label Encoding –\n",
        "from sklearn import preprocessing \n",
        "label_encoder = preprocessing.LabelEncoder() \n",
        "\n",
        "# Encode labels in column 'Customer_name'. \n",
        "test['Customer_name']= label_encoder.fit_transform(test['Customer_name']) \n",
        "\n",
        "# Encode labels in column 'Loyalty_customer'. \n",
        "test['Loyalty_customer']= label_encoder.fit_transform(test['Loyalty_customer']) \n",
        "\n",
        "# # Encode labels in column 'Product_Category'. \n",
        "test['Product_Category']= label_encoder.fit_transform(test['Product_Category']) \n"
      ],
      "execution_count": 243,
      "outputs": []
    },
    {
      "cell_type": "code",
      "metadata": {
        "id": "rCD4koEEPICF"
      },
      "source": [
        "# # For test data\n",
        "# test.Customer_name.value_counts().to_dict()\n",
        "# test_frequency_map = test.Customer_name.value_counts().to_dict()\n",
        "# test.Customer_name = test.Customer_name.map(test_frequency_map)\n"
      ],
      "execution_count": 244,
      "outputs": []
    },
    {
      "cell_type": "code",
      "metadata": {
        "id": "B-9cpMn8uYoP"
      },
      "source": [
        "test['charges_1'] = test['charges_1'].fillna(test['charges_1'].mean())\n",
        "test['charges_2 (%)'] = test['charges_2 (%)'].fillna(test['charges_2 (%)'].mean())\n",
        "test['Minimum_price'] = test['Minimum_price'].fillna(test['Minimum_price'].mean())\n",
        "test['Stall_no'] = test['Stall_no'].fillna(test['Stall_no'].median())\n"
      ],
      "execution_count": 245,
      "outputs": []
    },
    {
      "cell_type": "code",
      "metadata": {
        "id": "CCQ-KRlEdKZn"
      },
      "source": [
        "test['charges_1 (%)'] = test['charges_1'] /100\n",
        "test['charges_2'] = test['charges_2 (%)'] *100\n",
        "test[\"total_charges\"]= test['charges_1']+train['charges_2']"
      ],
      "execution_count": 246,
      "outputs": []
    },
    {
      "cell_type": "code",
      "metadata": {
        "id": "lC91xcatdj3g"
      },
      "source": [
        "test[\"range\"] = test['Maximum_price']-test['Minimum_price']"
      ],
      "execution_count": 247,
      "outputs": []
    },
    {
      "cell_type": "code",
      "metadata": {
        "id": "OzAsuiEYeqwF"
      },
      "source": [
        "test[\"total_charges\"] = test[\"total_charges\"].fillna(test[\"total_charges\"].mean())\n"
      ],
      "execution_count": 248,
      "outputs": []
    },
    {
      "cell_type": "code",
      "metadata": {
        "id": "b1qz9-p0OW0A"
      },
      "source": [
        "# # For test data\n",
        "# test_dummies4 =pd.get_dummies(test.year)\n",
        "# test_dummies4.head()\n",
        "# test = pd.concat([test,test_dummies4],axis =1)\n"
      ],
      "execution_count": 141,
      "outputs": []
    },
    {
      "cell_type": "code",
      "metadata": {
        "colab": {
          "base_uri": "https://localhost:8080/",
          "height": 356
        },
        "id": "eL75ciD4Nbn7",
        "outputId": "b9546aea-fa93-42b2-cb9e-de37e0a433c6"
      },
      "source": [
        "test.head()"
      ],
      "execution_count": 249,
      "outputs": [
        {
          "output_type": "execute_result",
          "data": {
            "text/html": [
              "<div>\n",
              "<style scoped>\n",
              "    .dataframe tbody tr th:only-of-type {\n",
              "        vertical-align: middle;\n",
              "    }\n",
              "\n",
              "    .dataframe tbody tr th {\n",
              "        vertical-align: top;\n",
              "    }\n",
              "\n",
              "    .dataframe thead th {\n",
              "        text-align: right;\n",
              "    }\n",
              "</style>\n",
              "<table border=\"1\" class=\"dataframe\">\n",
              "  <thead>\n",
              "    <tr style=\"text-align: right;\">\n",
              "      <th></th>\n",
              "      <th>Product_id</th>\n",
              "      <th>Stall_no</th>\n",
              "      <th>instock_date</th>\n",
              "      <th>Market_Category</th>\n",
              "      <th>Customer_name</th>\n",
              "      <th>Loyalty_customer</th>\n",
              "      <th>Product_Category</th>\n",
              "      <th>Grade</th>\n",
              "      <th>Demand</th>\n",
              "      <th>Discount_avail</th>\n",
              "      <th>charges_1</th>\n",
              "      <th>charges_2 (%)</th>\n",
              "      <th>Minimum_price</th>\n",
              "      <th>Maximum_price</th>\n",
              "      <th>year</th>\n",
              "      <th>month</th>\n",
              "      <th>quarter</th>\n",
              "      <th>day of the week</th>\n",
              "      <th>Dayofyear</th>\n",
              "      <th>hour</th>\n",
              "      <th>charges_1 (%)</th>\n",
              "      <th>charges_2</th>\n",
              "      <th>total_charges</th>\n",
              "      <th>range</th>\n",
              "    </tr>\n",
              "  </thead>\n",
              "  <tbody>\n",
              "    <tr>\n",
              "      <th>0</th>\n",
              "      <td>SCHE4YSTDVPVZVXW</td>\n",
              "      <td>39.0</td>\n",
              "      <td>2016-01-13 07:45:08</td>\n",
              "      <td>205</td>\n",
              "      <td>1424</td>\n",
              "      <td>0</td>\n",
              "      <td>3</td>\n",
              "      <td>0</td>\n",
              "      <td>90</td>\n",
              "      <td>0</td>\n",
              "      <td>380.0</td>\n",
              "      <td>16.0</td>\n",
              "      <td>2576.0</td>\n",
              "      <td>3340</td>\n",
              "      <td>2016</td>\n",
              "      <td>1</td>\n",
              "      <td>1</td>\n",
              "      <td>2</td>\n",
              "      <td>13</td>\n",
              "      <td>7</td>\n",
              "      <td>3.80</td>\n",
              "      <td>1600.0</td>\n",
              "      <td>1480.0</td>\n",
              "      <td>764.0</td>\n",
              "    </tr>\n",
              "    <tr>\n",
              "      <th>1</th>\n",
              "      <td>ACCEGCATKHNRXUHW</td>\n",
              "      <td>49.0</td>\n",
              "      <td>2015-08-23 20:37:05</td>\n",
              "      <td>3</td>\n",
              "      <td>1410</td>\n",
              "      <td>1</td>\n",
              "      <td>3</td>\n",
              "      <td>0</td>\n",
              "      <td>87</td>\n",
              "      <td>0</td>\n",
              "      <td>393.0</td>\n",
              "      <td>16.0</td>\n",
              "      <td>1202.0</td>\n",
              "      <td>1955</td>\n",
              "      <td>2015</td>\n",
              "      <td>8</td>\n",
              "      <td>3</td>\n",
              "      <td>6</td>\n",
              "      <td>235</td>\n",
              "      <td>20</td>\n",
              "      <td>3.93</td>\n",
              "      <td>1600.0</td>\n",
              "      <td>1593.0</td>\n",
              "      <td>753.0</td>\n",
              "    </tr>\n",
              "    <tr>\n",
              "      <th>2</th>\n",
              "      <td>NKCE6GJ5XVJDXNNZ</td>\n",
              "      <td>1.0</td>\n",
              "      <td>2015-11-14 18:12:39</td>\n",
              "      <td>183</td>\n",
              "      <td>268</td>\n",
              "      <td>0</td>\n",
              "      <td>9</td>\n",
              "      <td>2</td>\n",
              "      <td>55</td>\n",
              "      <td>0</td>\n",
              "      <td>493.0</td>\n",
              "      <td>9.0</td>\n",
              "      <td>7175.0</td>\n",
              "      <td>15715</td>\n",
              "      <td>2015</td>\n",
              "      <td>11</td>\n",
              "      <td>4</td>\n",
              "      <td>5</td>\n",
              "      <td>318</td>\n",
              "      <td>18</td>\n",
              "      <td>4.93</td>\n",
              "      <td>900.0</td>\n",
              "      <td>1393.0</td>\n",
              "      <td>8540.0</td>\n",
              "    </tr>\n",
              "    <tr>\n",
              "      <th>3</th>\n",
              "      <td>NKCEB8BK3ZXDHDHM</td>\n",
              "      <td>8.0</td>\n",
              "      <td>2015-11-21 04:56:19</td>\n",
              "      <td>358</td>\n",
              "      <td>2783</td>\n",
              "      <td>1</td>\n",
              "      <td>0</td>\n",
              "      <td>3</td>\n",
              "      <td>86</td>\n",
              "      <td>0</td>\n",
              "      <td>303.0</td>\n",
              "      <td>16.0</td>\n",
              "      <td>5404.0</td>\n",
              "      <td>13078</td>\n",
              "      <td>2015</td>\n",
              "      <td>11</td>\n",
              "      <td>4</td>\n",
              "      <td>5</td>\n",
              "      <td>325</td>\n",
              "      <td>4</td>\n",
              "      <td>3.03</td>\n",
              "      <td>1600.0</td>\n",
              "      <td>1603.0</td>\n",
              "      <td>7674.0</td>\n",
              "    </tr>\n",
              "    <tr>\n",
              "      <th>4</th>\n",
              "      <td>TOPEFDXSAHRNPF94</td>\n",
              "      <td>33.0</td>\n",
              "      <td>2015-05-06 15:09:46</td>\n",
              "      <td>167</td>\n",
              "      <td>1048</td>\n",
              "      <td>0</td>\n",
              "      <td>9</td>\n",
              "      <td>0</td>\n",
              "      <td>27</td>\n",
              "      <td>0</td>\n",
              "      <td>567.0</td>\n",
              "      <td>16.0</td>\n",
              "      <td>4069.0</td>\n",
              "      <td>6244</td>\n",
              "      <td>2015</td>\n",
              "      <td>5</td>\n",
              "      <td>2</td>\n",
              "      <td>2</td>\n",
              "      <td>126</td>\n",
              "      <td>15</td>\n",
              "      <td>5.67</td>\n",
              "      <td>1600.0</td>\n",
              "      <td>967.0</td>\n",
              "      <td>2175.0</td>\n",
              "    </tr>\n",
              "  </tbody>\n",
              "</table>\n",
              "</div>"
            ],
            "text/plain": [
              "         Product_id  Stall_no  ... total_charges   range\n",
              "0  SCHE4YSTDVPVZVXW      39.0  ...        1480.0   764.0\n",
              "1  ACCEGCATKHNRXUHW      49.0  ...        1593.0   753.0\n",
              "2  NKCE6GJ5XVJDXNNZ       1.0  ...        1393.0  8540.0\n",
              "3  NKCEB8BK3ZXDHDHM       8.0  ...        1603.0  7674.0\n",
              "4  TOPEFDXSAHRNPF94      33.0  ...         967.0  2175.0\n",
              "\n",
              "[5 rows x 24 columns]"
            ]
          },
          "metadata": {
            "tags": []
          },
          "execution_count": 249
        }
      ]
    },
    {
      "cell_type": "code",
      "metadata": {
        "colab": {
          "base_uri": "https://localhost:8080/",
          "height": 270
        },
        "id": "nNJJMppCRQ3P",
        "outputId": "02d4f801-9ff3-44b1-e116-5f96e7115074"
      },
      "source": [
        "x.head()"
      ],
      "execution_count": 297,
      "outputs": [
        {
          "output_type": "execute_result",
          "data": {
            "text/html": [
              "<div>\n",
              "<style scoped>\n",
              "    .dataframe tbody tr th:only-of-type {\n",
              "        vertical-align: middle;\n",
              "    }\n",
              "\n",
              "    .dataframe tbody tr th {\n",
              "        vertical-align: top;\n",
              "    }\n",
              "\n",
              "    .dataframe thead th {\n",
              "        text-align: right;\n",
              "    }\n",
              "</style>\n",
              "<table border=\"1\" class=\"dataframe\">\n",
              "  <thead>\n",
              "    <tr style=\"text-align: right;\">\n",
              "      <th></th>\n",
              "      <th>Stall_no</th>\n",
              "      <th>Market_Category</th>\n",
              "      <th>Customer_name</th>\n",
              "      <th>Loyalty_customer</th>\n",
              "      <th>Product_Category</th>\n",
              "      <th>Grade</th>\n",
              "      <th>Demand</th>\n",
              "      <th>Discount_avail</th>\n",
              "      <th>charges_1</th>\n",
              "      <th>charges_2 (%)</th>\n",
              "      <th>Minimum_price</th>\n",
              "      <th>Maximum_price</th>\n",
              "      <th>year</th>\n",
              "      <th>month</th>\n",
              "      <th>quarter</th>\n",
              "      <th>day of the week</th>\n",
              "      <th>Dayofyear</th>\n",
              "      <th>hour</th>\n",
              "      <th>charges_1 (%)</th>\n",
              "      <th>charges_2</th>\n",
              "      <th>total_charges</th>\n",
              "      <th>range</th>\n",
              "    </tr>\n",
              "  </thead>\n",
              "  <tbody>\n",
              "    <tr>\n",
              "      <th>0</th>\n",
              "      <td>37.0</td>\n",
              "      <td>2</td>\n",
              "      <td>3706</td>\n",
              "      <td>1</td>\n",
              "      <td>3</td>\n",
              "      <td>1</td>\n",
              "      <td>68</td>\n",
              "      <td>0.0</td>\n",
              "      <td>376.0</td>\n",
              "      <td>11.0</td>\n",
              "      <td>2983.0</td>\n",
              "      <td>4713.0</td>\n",
              "      <td>2015</td>\n",
              "      <td>8</td>\n",
              "      <td>3</td>\n",
              "      <td>5</td>\n",
              "      <td>234</td>\n",
              "      <td>18</td>\n",
              "      <td>3.76</td>\n",
              "      <td>1100.0</td>\n",
              "      <td>1476.0</td>\n",
              "      <td>1730.0</td>\n",
              "    </tr>\n",
              "    <tr>\n",
              "      <th>1</th>\n",
              "      <td>38.0</td>\n",
              "      <td>24</td>\n",
              "      <td>3427</td>\n",
              "      <td>1</td>\n",
              "      <td>3</td>\n",
              "      <td>0</td>\n",
              "      <td>51</td>\n",
              "      <td>0.0</td>\n",
              "      <td>397.0</td>\n",
              "      <td>12.0</td>\n",
              "      <td>7495.0</td>\n",
              "      <td>10352.0</td>\n",
              "      <td>2016</td>\n",
              "      <td>3</td>\n",
              "      <td>1</td>\n",
              "      <td>6</td>\n",
              "      <td>87</td>\n",
              "      <td>21</td>\n",
              "      <td>3.97</td>\n",
              "      <td>1200.0</td>\n",
              "      <td>1597.0</td>\n",
              "      <td>2857.0</td>\n",
              "    </tr>\n",
              "    <tr>\n",
              "      <th>2</th>\n",
              "      <td>9.0</td>\n",
              "      <td>447</td>\n",
              "      <td>4790</td>\n",
              "      <td>1</td>\n",
              "      <td>0</td>\n",
              "      <td>0</td>\n",
              "      <td>10</td>\n",
              "      <td>0.0</td>\n",
              "      <td>250.0</td>\n",
              "      <td>9.0</td>\n",
              "      <td>5752.0</td>\n",
              "      <td>7309.0</td>\n",
              "      <td>2015</td>\n",
              "      <td>8</td>\n",
              "      <td>3</td>\n",
              "      <td>1</td>\n",
              "      <td>230</td>\n",
              "      <td>19</td>\n",
              "      <td>2.50</td>\n",
              "      <td>900.0</td>\n",
              "      <td>1150.0</td>\n",
              "      <td>1557.0</td>\n",
              "    </tr>\n",
              "    <tr>\n",
              "      <th>3</th>\n",
              "      <td>50.0</td>\n",
              "      <td>23</td>\n",
              "      <td>67</td>\n",
              "      <td>1</td>\n",
              "      <td>2</td>\n",
              "      <td>2</td>\n",
              "      <td>48</td>\n",
              "      <td>0.0</td>\n",
              "      <td>144.0</td>\n",
              "      <td>13.0</td>\n",
              "      <td>5090.0</td>\n",
              "      <td>20814.0</td>\n",
              "      <td>2016</td>\n",
              "      <td>3</td>\n",
              "      <td>1</td>\n",
              "      <td>0</td>\n",
              "      <td>88</td>\n",
              "      <td>21</td>\n",
              "      <td>1.44</td>\n",
              "      <td>1300.0</td>\n",
              "      <td>1444.0</td>\n",
              "      <td>15724.0</td>\n",
              "    </tr>\n",
              "    <tr>\n",
              "      <th>4</th>\n",
              "      <td>7.0</td>\n",
              "      <td>63</td>\n",
              "      <td>1740</td>\n",
              "      <td>1</td>\n",
              "      <td>8</td>\n",
              "      <td>1</td>\n",
              "      <td>35</td>\n",
              "      <td>1.0</td>\n",
              "      <td>211.0</td>\n",
              "      <td>4.0</td>\n",
              "      <td>2430.0</td>\n",
              "      <td>9261.0</td>\n",
              "      <td>2016</td>\n",
              "      <td>3</td>\n",
              "      <td>1</td>\n",
              "      <td>1</td>\n",
              "      <td>89</td>\n",
              "      <td>22</td>\n",
              "      <td>2.11</td>\n",
              "      <td>400.0</td>\n",
              "      <td>611.0</td>\n",
              "      <td>6831.0</td>\n",
              "    </tr>\n",
              "  </tbody>\n",
              "</table>\n",
              "</div>"
            ],
            "text/plain": [
              "   Stall_no  Market_Category  Customer_name  ...  charges_2  total_charges    range\n",
              "0      37.0                2           3706  ...     1100.0         1476.0   1730.0\n",
              "1      38.0               24           3427  ...     1200.0         1597.0   2857.0\n",
              "2       9.0              447           4790  ...      900.0         1150.0   1557.0\n",
              "3      50.0               23             67  ...     1300.0         1444.0  15724.0\n",
              "4       7.0               63           1740  ...      400.0          611.0   6831.0\n",
              "\n",
              "[5 rows x 22 columns]"
            ]
          },
          "metadata": {
            "tags": []
          },
          "execution_count": 297
        }
      ]
    },
    {
      "cell_type": "code",
      "metadata": {
        "colab": {
          "base_uri": "https://localhost:8080/"
        },
        "id": "0HOlAoDaNbtg",
        "outputId": "484611eb-b1f6-4846-ce1c-fc9b4c3666ff"
      },
      "source": [
        "test.shape"
      ],
      "execution_count": 298,
      "outputs": [
        {
          "output_type": "execute_result",
          "data": {
            "text/plain": [
              "(3430, 22)"
            ]
          },
          "metadata": {
            "tags": []
          },
          "execution_count": 298
        }
      ]
    },
    {
      "cell_type": "code",
      "metadata": {
        "colab": {
          "base_uri": "https://localhost:8080/"
        },
        "id": "vt028mWYONcq",
        "outputId": "d1d2bb87-f773-483f-9720-d0697d108c53"
      },
      "source": [
        "x.shape"
      ],
      "execution_count": 299,
      "outputs": [
        {
          "output_type": "execute_result",
          "data": {
            "text/plain": [
              "(6327, 22)"
            ]
          },
          "metadata": {
            "tags": []
          },
          "execution_count": 299
        }
      ]
    },
    {
      "cell_type": "code",
      "metadata": {
        "id": "sAK6mTWfwJ0S"
      },
      "source": [
        "p_id = test[\"Product_id\"]\n",
        "test = test.drop([\"Product_id\",\"instock_date\"],axis =1)"
      ],
      "execution_count": 252,
      "outputs": []
    },
    {
      "cell_type": "code",
      "metadata": {
        "id": "G1RZ0bNuPdY4"
      },
      "source": [
        ""
      ],
      "execution_count": null,
      "outputs": []
    },
    {
      "cell_type": "code",
      "metadata": {
        "id": "LMjmMydUrIWU"
      },
      "source": [
        "test3 = sel3.transform(test)\n",
        "test2 = sel2.transform(test)\n"
      ],
      "execution_count": 323,
      "outputs": []
    },
    {
      "cell_type": "code",
      "metadata": {
        "id": "nj3S4arhwoMx"
      },
      "source": [
        "# prediction2 = clf.predict(test2)\n",
        "prediction3 = et.predict(test2)"
      ],
      "execution_count": 254,
      "outputs": []
    },
    {
      "cell_type": "code",
      "metadata": {
        "id": "HT6I4qNkwxTT"
      },
      "source": [
        "# prediction2 = pd.DataFrame(prediction2)\n",
        "prediction3 = pd.DataFrame(prediction3)\n"
      ],
      "execution_count": 255,
      "outputs": []
    },
    {
      "cell_type": "code",
      "metadata": {
        "id": "3MaMaBg8zuRN"
      },
      "source": [
        "prediction = et.predict(test3)"
      ],
      "execution_count": 312,
      "outputs": []
    },
    {
      "cell_type": "code",
      "metadata": {
        "id": "LtFjy8F4mBfV"
      },
      "source": [
        "prediction = model.predict(test)"
      ],
      "execution_count": 336,
      "outputs": []
    },
    {
      "cell_type": "code",
      "metadata": {
        "colab": {
          "base_uri": "https://localhost:8080/"
        },
        "id": "cU1I0V2QU_mf",
        "outputId": "dbc8c0de-2a61-4de3-b0c4-ca120cfb0eaf"
      },
      "source": [
        "prediction"
      ],
      "execution_count": 337,
      "outputs": [
        {
          "output_type": "execute_result",
          "data": {
            "text/plain": [
              "array([ 3258.70043996,  1962.35582407, 11750.60904182, ...,\n",
              "        6431.10280885,  3562.66324126,  1010.56016633])"
            ]
          },
          "metadata": {
            "tags": []
          },
          "execution_count": 337
        }
      ]
    },
    {
      "cell_type": "code",
      "metadata": {
        "id": "nvn19zAQVP98"
      },
      "source": [
        "prediction = pd.DataFrame(prediction)\n"
      ],
      "execution_count": 338,
      "outputs": []
    },
    {
      "cell_type": "code",
      "metadata": {
        "colab": {
          "base_uri": "https://localhost:8080/"
        },
        "id": "YQjoVHdxxTzV",
        "outputId": "937bd1d1-a643-4242-e146-1b66609052f0"
      },
      "source": [
        "p_id"
      ],
      "execution_count": 339,
      "outputs": [
        {
          "output_type": "execute_result",
          "data": {
            "text/plain": [
              "0       SCHE4YSTDVPVZVXW\n",
              "1       ACCEGCATKHNRXUHW\n",
              "2       NKCE6GJ5XVJDXNNZ\n",
              "3       NKCEB8BK3ZXDHDHM\n",
              "4       TOPEFDXSAHRNPF94\n",
              "              ...       \n",
              "3425    BBAE9K7BXFUTDNBK\n",
              "3426    RTRDYPA4PJHCJCGF\n",
              "3427    TUNE8FWQBS7TVVT7\n",
              "3428    NKCEGMUABCRGUZPE\n",
              "3429    RNGE7M92KAQWUBCS\n",
              "Name: Product_id, Length: 3430, dtype: object"
            ]
          },
          "metadata": {
            "tags": []
          },
          "execution_count": 339
        }
      ]
    },
    {
      "cell_type": "code",
      "metadata": {
        "id": "UnBVYnhUxCyk"
      },
      "source": [
        "Prediction2 = pd.concat([p_id,prediction2],axis =1)"
      ],
      "execution_count": 150,
      "outputs": []
    },
    {
      "cell_type": "code",
      "metadata": {
        "id": "eEDxZEgrTHOl"
      },
      "source": [
        "Prediction3 = pd.concat([p_id,prediction3],axis =1)"
      ],
      "execution_count": 256,
      "outputs": []
    },
    {
      "cell_type": "code",
      "metadata": {
        "id": "UF-Bs1IEVEdW"
      },
      "source": [
        "Prediction = pd.concat([p_id,prediction],axis =1)"
      ],
      "execution_count": 340,
      "outputs": []
    },
    {
      "cell_type": "code",
      "metadata": {
        "colab": {
          "base_uri": "https://localhost:8080/",
          "height": 408
        },
        "id": "s4tX8Yeaxd-S",
        "outputId": "94daf740-dc01-428f-bb0c-bfc64596731e"
      },
      "source": [
        "Prediction2"
      ],
      "execution_count": 152,
      "outputs": [
        {
          "output_type": "execute_result",
          "data": {
            "text/html": [
              "<div>\n",
              "<style scoped>\n",
              "    .dataframe tbody tr th:only-of-type {\n",
              "        vertical-align: middle;\n",
              "    }\n",
              "\n",
              "    .dataframe tbody tr th {\n",
              "        vertical-align: top;\n",
              "    }\n",
              "\n",
              "    .dataframe thead th {\n",
              "        text-align: right;\n",
              "    }\n",
              "</style>\n",
              "<table border=\"1\" class=\"dataframe\">\n",
              "  <thead>\n",
              "    <tr style=\"text-align: right;\">\n",
              "      <th></th>\n",
              "      <th>Product_id</th>\n",
              "      <th>0</th>\n",
              "    </tr>\n",
              "  </thead>\n",
              "  <tbody>\n",
              "    <tr>\n",
              "      <th>0</th>\n",
              "      <td>SCHE4YSTDVPVZVXW</td>\n",
              "      <td>3267.314384</td>\n",
              "    </tr>\n",
              "    <tr>\n",
              "      <th>1</th>\n",
              "      <td>ACCEGCATKHNRXUHW</td>\n",
              "      <td>1917.703239</td>\n",
              "    </tr>\n",
              "    <tr>\n",
              "      <th>2</th>\n",
              "      <td>NKCE6GJ5XVJDXNNZ</td>\n",
              "      <td>11679.870899</td>\n",
              "    </tr>\n",
              "    <tr>\n",
              "      <th>3</th>\n",
              "      <td>NKCEB8BK3ZXDHDHM</td>\n",
              "      <td>9557.928880</td>\n",
              "    </tr>\n",
              "    <tr>\n",
              "      <th>4</th>\n",
              "      <td>TOPEFDXSAHRNPF94</td>\n",
              "      <td>4929.301443</td>\n",
              "    </tr>\n",
              "    <tr>\n",
              "      <th>...</th>\n",
              "      <td>...</td>\n",
              "      <td>...</td>\n",
              "    </tr>\n",
              "    <tr>\n",
              "      <th>3425</th>\n",
              "      <td>BBAE9K7BXFUTDNBK</td>\n",
              "      <td>3647.211098</td>\n",
              "    </tr>\n",
              "    <tr>\n",
              "      <th>3426</th>\n",
              "      <td>RTRDYPA4PJHCJCGF</td>\n",
              "      <td>9156.686112</td>\n",
              "    </tr>\n",
              "    <tr>\n",
              "      <th>3427</th>\n",
              "      <td>TUNE8FWQBS7TVVT7</td>\n",
              "      <td>6682.877709</td>\n",
              "    </tr>\n",
              "    <tr>\n",
              "      <th>3428</th>\n",
              "      <td>NKCEGMUABCRGUZPE</td>\n",
              "      <td>3711.541057</td>\n",
              "    </tr>\n",
              "    <tr>\n",
              "      <th>3429</th>\n",
              "      <td>RNGE7M92KAQWUBCS</td>\n",
              "      <td>1028.133727</td>\n",
              "    </tr>\n",
              "  </tbody>\n",
              "</table>\n",
              "<p>3430 rows × 2 columns</p>\n",
              "</div>"
            ],
            "text/plain": [
              "            Product_id             0\n",
              "0     SCHE4YSTDVPVZVXW   3267.314384\n",
              "1     ACCEGCATKHNRXUHW   1917.703239\n",
              "2     NKCE6GJ5XVJDXNNZ  11679.870899\n",
              "3     NKCEB8BK3ZXDHDHM   9557.928880\n",
              "4     TOPEFDXSAHRNPF94   4929.301443\n",
              "...                ...           ...\n",
              "3425  BBAE9K7BXFUTDNBK   3647.211098\n",
              "3426  RTRDYPA4PJHCJCGF   9156.686112\n",
              "3427  TUNE8FWQBS7TVVT7   6682.877709\n",
              "3428  NKCEGMUABCRGUZPE   3711.541057\n",
              "3429  RNGE7M92KAQWUBCS   1028.133727\n",
              "\n",
              "[3430 rows x 2 columns]"
            ]
          },
          "metadata": {
            "tags": []
          },
          "execution_count": 152
        }
      ]
    },
    {
      "cell_type": "code",
      "metadata": {
        "colab": {
          "base_uri": "https://localhost:8080/",
          "height": 408
        },
        "id": "S-0UvuYtTUc_",
        "outputId": "19f83b9d-1655-4cc9-c62e-673fdff0ee90"
      },
      "source": [
        "Prediction"
      ],
      "execution_count": 341,
      "outputs": [
        {
          "output_type": "execute_result",
          "data": {
            "text/html": [
              "<div>\n",
              "<style scoped>\n",
              "    .dataframe tbody tr th:only-of-type {\n",
              "        vertical-align: middle;\n",
              "    }\n",
              "\n",
              "    .dataframe tbody tr th {\n",
              "        vertical-align: top;\n",
              "    }\n",
              "\n",
              "    .dataframe thead th {\n",
              "        text-align: right;\n",
              "    }\n",
              "</style>\n",
              "<table border=\"1\" class=\"dataframe\">\n",
              "  <thead>\n",
              "    <tr style=\"text-align: right;\">\n",
              "      <th></th>\n",
              "      <th>Product_id</th>\n",
              "      <th>0</th>\n",
              "    </tr>\n",
              "  </thead>\n",
              "  <tbody>\n",
              "    <tr>\n",
              "      <th>0</th>\n",
              "      <td>SCHE4YSTDVPVZVXW</td>\n",
              "      <td>3258.700440</td>\n",
              "    </tr>\n",
              "    <tr>\n",
              "      <th>1</th>\n",
              "      <td>ACCEGCATKHNRXUHW</td>\n",
              "      <td>1962.355824</td>\n",
              "    </tr>\n",
              "    <tr>\n",
              "      <th>2</th>\n",
              "      <td>NKCE6GJ5XVJDXNNZ</td>\n",
              "      <td>11750.609042</td>\n",
              "    </tr>\n",
              "    <tr>\n",
              "      <th>3</th>\n",
              "      <td>NKCEB8BK3ZXDHDHM</td>\n",
              "      <td>9415.566849</td>\n",
              "    </tr>\n",
              "    <tr>\n",
              "      <th>4</th>\n",
              "      <td>TOPEFDXSAHRNPF94</td>\n",
              "      <td>5690.852662</td>\n",
              "    </tr>\n",
              "    <tr>\n",
              "      <th>...</th>\n",
              "      <td>...</td>\n",
              "      <td>...</td>\n",
              "    </tr>\n",
              "    <tr>\n",
              "      <th>3425</th>\n",
              "      <td>BBAE9K7BXFUTDNBK</td>\n",
              "      <td>3990.426388</td>\n",
              "    </tr>\n",
              "    <tr>\n",
              "      <th>3426</th>\n",
              "      <td>RTRDYPA4PJHCJCGF</td>\n",
              "      <td>9274.280666</td>\n",
              "    </tr>\n",
              "    <tr>\n",
              "      <th>3427</th>\n",
              "      <td>TUNE8FWQBS7TVVT7</td>\n",
              "      <td>6431.102809</td>\n",
              "    </tr>\n",
              "    <tr>\n",
              "      <th>3428</th>\n",
              "      <td>NKCEGMUABCRGUZPE</td>\n",
              "      <td>3562.663241</td>\n",
              "    </tr>\n",
              "    <tr>\n",
              "      <th>3429</th>\n",
              "      <td>RNGE7M92KAQWUBCS</td>\n",
              "      <td>1010.560166</td>\n",
              "    </tr>\n",
              "  </tbody>\n",
              "</table>\n",
              "<p>3430 rows × 2 columns</p>\n",
              "</div>"
            ],
            "text/plain": [
              "            Product_id             0\n",
              "0     SCHE4YSTDVPVZVXW   3258.700440\n",
              "1     ACCEGCATKHNRXUHW   1962.355824\n",
              "2     NKCE6GJ5XVJDXNNZ  11750.609042\n",
              "3     NKCEB8BK3ZXDHDHM   9415.566849\n",
              "4     TOPEFDXSAHRNPF94   5690.852662\n",
              "...                ...           ...\n",
              "3425  BBAE9K7BXFUTDNBK   3990.426388\n",
              "3426  RTRDYPA4PJHCJCGF   9274.280666\n",
              "3427  TUNE8FWQBS7TVVT7   6431.102809\n",
              "3428  NKCEGMUABCRGUZPE   3562.663241\n",
              "3429  RNGE7M92KAQWUBCS   1010.560166\n",
              "\n",
              "[3430 rows x 2 columns]"
            ]
          },
          "metadata": {
            "tags": []
          },
          "execution_count": 341
        }
      ]
    },
    {
      "cell_type": "code",
      "metadata": {
        "colab": {
          "base_uri": "https://localhost:8080/",
          "height": 17
        },
        "id": "cuuEeIf9yi3p",
        "outputId": "f9f3bfbe-902d-41fb-b632-c962932d0ef7"
      },
      "source": [
        "from google.colab import files\n",
        "Prediction.to_csv('pred25.csv') \n",
        "files.download('pred25.csv')"
      ],
      "execution_count": 342,
      "outputs": [
        {
          "output_type": "display_data",
          "data": {
            "application/javascript": [
              "\n",
              "    async function download(id, filename, size) {\n",
              "      if (!google.colab.kernel.accessAllowed) {\n",
              "        return;\n",
              "      }\n",
              "      const div = document.createElement('div');\n",
              "      const label = document.createElement('label');\n",
              "      label.textContent = `Downloading \"${filename}\": `;\n",
              "      div.appendChild(label);\n",
              "      const progress = document.createElement('progress');\n",
              "      progress.max = size;\n",
              "      div.appendChild(progress);\n",
              "      document.body.appendChild(div);\n",
              "\n",
              "      const buffers = [];\n",
              "      let downloaded = 0;\n",
              "\n",
              "      const channel = await google.colab.kernel.comms.open(id);\n",
              "      // Send a message to notify the kernel that we're ready.\n",
              "      channel.send({})\n",
              "\n",
              "      for await (const message of channel.messages) {\n",
              "        // Send a message to notify the kernel that we're ready.\n",
              "        channel.send({})\n",
              "        if (message.buffers) {\n",
              "          for (const buffer of message.buffers) {\n",
              "            buffers.push(buffer);\n",
              "            downloaded += buffer.byteLength;\n",
              "            progress.value = downloaded;\n",
              "          }\n",
              "        }\n",
              "      }\n",
              "      const blob = new Blob(buffers, {type: 'application/binary'});\n",
              "      const a = document.createElement('a');\n",
              "      a.href = window.URL.createObjectURL(blob);\n",
              "      a.download = filename;\n",
              "      div.appendChild(a);\n",
              "      a.click();\n",
              "      div.remove();\n",
              "    }\n",
              "  "
            ],
            "text/plain": [
              "<IPython.core.display.Javascript object>"
            ]
          },
          "metadata": {
            "tags": []
          }
        },
        {
          "output_type": "display_data",
          "data": {
            "application/javascript": [
              "download(\"download_ce85bf39-2bbd-4337-b5a6-aa9b9ce4c8eb\", \"pred25.csv\", 135119)"
            ],
            "text/plain": [
              "<IPython.core.display.Javascript object>"
            ]
          },
          "metadata": {
            "tags": []
          }
        }
      ]
    }
  ]
}